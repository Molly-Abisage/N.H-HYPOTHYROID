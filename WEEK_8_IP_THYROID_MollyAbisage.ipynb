{
  "nbformat": 4,
  "nbformat_minor": 0,
  "metadata": {
    "colab": {
      "name": "WEEK 8 IP-THYROID-MollyAbisage",
      "provenance": [],
      "collapsed_sections": [
        "_RIKK4Gm1mmV"
      ],
      "authorship_tag": "ABX9TyMueE7tJTU7U0BkxSCSolOb",
      "include_colab_link": true
    },
    "kernelspec": {
      "name": "python3",
      "display_name": "Python 3"
    }
  },
  "cells": [
    {
      "cell_type": "markdown",
      "metadata": {
        "id": "view-in-github",
        "colab_type": "text"
      },
      "source": [
        "<a href=\"https://colab.research.google.com/github/Molly-Abisage/N.H-HYPOTHYROID/blob/main/WEEK_8_IP_THYROID_MollyAbisage.ipynb\" target=\"_parent\"><img src=\"https://colab.research.google.com/assets/colab-badge.svg\" alt=\"Open In Colab\"/></a>"
      ]
    },
    {
      "cell_type": "markdown",
      "metadata": {
        "id": "_RIKK4Gm1mmV"
      },
      "source": [
        "# NAIROBI HOSPITAL HYPOTHYROIDISM TEST"
      ]
    },
    {
      "cell_type": "markdown",
      "metadata": {
        "id": "ohJCf8dsZqLs"
      },
      "source": [
        "\n",
        "**OVERVIEW**\n",
        "\n",
        "Nairobi hospital conducted a clinical camp to test for hypothyroidism amondst thyroid patients. we are using this data to accomplish the following\n",
        "\n",
        "build a model that determines whether or not the patient's symptoms indicate that the patient has hypothyroid.\n",
        "\n",
        "part 1: build decision trees\n",
        "\n",
        "part 2: SVM\n",
        "\n",
        "**QUESTION DEFINITION**\n",
        "\n",
        "predict if the symptoms of a patient indicates that the patient has hypothyroid.\n",
        "\n",
        "**METRICS OF SUCCESS**\n",
        "\n",
        "We are diagnosing if the variables we have indicate that the patient has hypothyroidism. a high accuracy is what we expect , not so accurate model means wrong diagnosing and would give rise to wrong medication which can cost lifes.\n",
        "\n",
        "**CONTEXT**\n",
        "column description\n",
        "\n",
        "status - tells us if the patient is negative or has hypothyroidism\n",
        "\n",
        "age - how old is the patient\n",
        "\n",
        "sex - if the patient is male or female\n",
        "\n",
        "on_thyroxine - True /False\n",
        "\n",
        "query_on_thyroxine\n",
        "\n",
        "on_antithyroid_medication - if the patient is on medication\n",
        "\n",
        "thyroid_surgery - if the patient has had thyroid surgery\n",
        "\n",
        "query_hypothyroid\n",
        "\n",
        "query_hyperthyroid\n",
        "\n",
        "pregnant - if the patient is pregnant,true or false\n",
        "\n",
        "sick - if the patient is sick,\n",
        "\n",
        "tumor - if the patient has tumor\n",
        "\n",
        "lithium\n",
        "\n",
        "goitre - if the patient has goitre\n",
        "\n",
        "TSH_measured - if a blood test has been done to measure the hormone\n",
        "\n",
        "TSH - thyroid stimulating hormone , tells the thyroid to release thyroid hormone to the blood.\n",
        "\n",
        "T3_measured - if T3 measurement has been done\n",
        "\n",
        "T3 - triiodothyronine , this is a thyroid hormone produced in the thyroid glands\n",
        "\n",
        "TT4_measured\n",
        "\n",
        "TT4 - thyroxine , the principla hormone from the thyroid gland.\n",
        "\n",
        "T4U_measured - true / false\n",
        "\n",
        "T4U - thyroid hormone produced in the thyroid glands(thyroxine)/levothyroxine\n",
        "\n",
        "FTI_measured - if FTI has been measured\n",
        "\n",
        "FTI - free thyroxine index, it is considered more indicator of thyroid, obtained by nultiplying Total T4 and T3 uptake.\n",
        "\n",
        "TBG_measured - if TBG has been measured.\n",
        "\n",
        "TBG - thyroid binding globulin, binds thyroid hormones in circulation\n",
        "\n",
        "**EXPERIMENTAL DESIGN**\n",
        "\n",
        "Recording the Experimental Design;-  \n",
        "Below are the steps that will be conducted in this analysis in order to respond to the research question comprehensively:\n",
        "\n",
        "Load data and preview preliminary characteristics\n",
        "Data Cleaning (check for and deal with outliers, anomalies and missing data)\n",
        "Exploratory Analysis\n",
        "Implementing the Solution\n",
        "Challenging the Solution\n",
        "Follow Up Questions"
      ]
    },
    {
      "cell_type": "markdown",
      "metadata": {
        "id": "bAgJuAkW0Pey"
      },
      "source": [
        "# LOAD AND TIDYING THE DATASET"
      ]
    },
    {
      "cell_type": "code",
      "metadata": {
        "id": "xR8tk3oQv21n"
      },
      "source": [
        "\n",
        "import pandas as pd\n",
        "import numpy as np\n",
        "import matplotlib.pyplot as plt\n",
        "%matplotlib inline\n",
        "import seaborn as sns\n",
        "import scipy as sp\n",
        "\n",
        "from sklearn.model_selection import train_test_split\n",
        "from sklearn.preprocessing import StandardScaler\n",
        "from sklearn.decomposition import PCA\n",
        "from sklearn.ensemble import RandomForestClassifier\n",
        "from sklearn.metrics import confusion_matrix\n",
        "from sklearn.metrics import accuracy_score\n",
        "from sklearn.linear_model import LinearRegression\n",
        "from sklearn import metrics\n",
        "import pandas as pd\n",
        "import numpy as np\n",
        "import seaborn as sns\n",
        "import matplotlib.pyplot as plt\n",
        "\n",
        "from sklearn.ensemble import GradientBoostingClassifier\n",
        "from sklearn.tree import DecisionTreeClassifier\n",
        "from sklearn.svm import SVC\n",
        "from sklearn.metrics import confusion_matrix, accuracy_score\n",
        "import seaborn as sns; sns.set(font_scale=1.2)\n",
        "\n",
        "import warnings\n",
        "warnings.filterwarnings('ignore')"
      ],
      "execution_count": 253,
      "outputs": []
    },
    {
      "cell_type": "code",
      "metadata": {
        "id": "K3Qmt8HHZv3p",
        "outputId": "8b928b12-7cf6-4df9-8790-609e8b2b3638",
        "colab": {
          "base_uri": "https://localhost:8080/",
          "height": 218
        }
      },
      "source": [
        "hypothy = pd.read_csv('/content/hypothyroid.csv')\n",
        "# previewing a sample of the data\n",
        "\n",
        "hypothy.sample(n=5)"
      ],
      "execution_count": 254,
      "outputs": [
        {
          "output_type": "execute_result",
          "data": {
            "text/html": [
              "<div>\n",
              "<style scoped>\n",
              "    .dataframe tbody tr th:only-of-type {\n",
              "        vertical-align: middle;\n",
              "    }\n",
              "\n",
              "    .dataframe tbody tr th {\n",
              "        vertical-align: top;\n",
              "    }\n",
              "\n",
              "    .dataframe thead th {\n",
              "        text-align: right;\n",
              "    }\n",
              "</style>\n",
              "<table border=\"1\" class=\"dataframe\">\n",
              "  <thead>\n",
              "    <tr style=\"text-align: right;\">\n",
              "      <th></th>\n",
              "      <th>status</th>\n",
              "      <th>age</th>\n",
              "      <th>sex</th>\n",
              "      <th>on_thyroxine</th>\n",
              "      <th>query_on_thyroxine</th>\n",
              "      <th>on_antithyroid_medication</th>\n",
              "      <th>thyroid_surgery</th>\n",
              "      <th>query_hypothyroid</th>\n",
              "      <th>query_hyperthyroid</th>\n",
              "      <th>pregnant</th>\n",
              "      <th>sick</th>\n",
              "      <th>tumor</th>\n",
              "      <th>lithium</th>\n",
              "      <th>goitre</th>\n",
              "      <th>TSH_measured</th>\n",
              "      <th>TSH</th>\n",
              "      <th>T3_measured</th>\n",
              "      <th>T3</th>\n",
              "      <th>TT4_measured</th>\n",
              "      <th>TT4</th>\n",
              "      <th>T4U_measured</th>\n",
              "      <th>T4U</th>\n",
              "      <th>FTI_measured</th>\n",
              "      <th>FTI</th>\n",
              "      <th>TBG_measured</th>\n",
              "      <th>TBG</th>\n",
              "    </tr>\n",
              "  </thead>\n",
              "  <tbody>\n",
              "    <tr>\n",
              "      <th>400</th>\n",
              "      <td>negative</td>\n",
              "      <td>34</td>\n",
              "      <td>F</td>\n",
              "      <td>f</td>\n",
              "      <td>f</td>\n",
              "      <td>f</td>\n",
              "      <td>f</td>\n",
              "      <td>f</td>\n",
              "      <td>f</td>\n",
              "      <td>f</td>\n",
              "      <td>f</td>\n",
              "      <td>f</td>\n",
              "      <td>f</td>\n",
              "      <td>t</td>\n",
              "      <td>y</td>\n",
              "      <td>0</td>\n",
              "      <td>y</td>\n",
              "      <td>6.60</td>\n",
              "      <td>y</td>\n",
              "      <td>241</td>\n",
              "      <td>y</td>\n",
              "      <td>0.98</td>\n",
              "      <td>y</td>\n",
              "      <td>246</td>\n",
              "      <td>n</td>\n",
              "      <td>?</td>\n",
              "    </tr>\n",
              "    <tr>\n",
              "      <th>3015</th>\n",
              "      <td>negative</td>\n",
              "      <td>70</td>\n",
              "      <td>M</td>\n",
              "      <td>f</td>\n",
              "      <td>f</td>\n",
              "      <td>f</td>\n",
              "      <td>f</td>\n",
              "      <td>f</td>\n",
              "      <td>f</td>\n",
              "      <td>f</td>\n",
              "      <td>f</td>\n",
              "      <td>f</td>\n",
              "      <td>f</td>\n",
              "      <td>f</td>\n",
              "      <td>y</td>\n",
              "      <td>0.20</td>\n",
              "      <td>y</td>\n",
              "      <td>2</td>\n",
              "      <td>y</td>\n",
              "      <td>116</td>\n",
              "      <td>y</td>\n",
              "      <td>0.82</td>\n",
              "      <td>y</td>\n",
              "      <td>152</td>\n",
              "      <td>n</td>\n",
              "      <td>?</td>\n",
              "    </tr>\n",
              "    <tr>\n",
              "      <th>805</th>\n",
              "      <td>negative</td>\n",
              "      <td>45</td>\n",
              "      <td>F</td>\n",
              "      <td>t</td>\n",
              "      <td>f</td>\n",
              "      <td>f</td>\n",
              "      <td>f</td>\n",
              "      <td>f</td>\n",
              "      <td>f</td>\n",
              "      <td>f</td>\n",
              "      <td>f</td>\n",
              "      <td>f</td>\n",
              "      <td>f</td>\n",
              "      <td>f</td>\n",
              "      <td>y</td>\n",
              "      <td>0</td>\n",
              "      <td>y</td>\n",
              "      <td>2.10</td>\n",
              "      <td>y</td>\n",
              "      <td>166</td>\n",
              "      <td>y</td>\n",
              "      <td>0.88</td>\n",
              "      <td>y</td>\n",
              "      <td>189</td>\n",
              "      <td>n</td>\n",
              "      <td>?</td>\n",
              "    </tr>\n",
              "    <tr>\n",
              "      <th>836</th>\n",
              "      <td>negative</td>\n",
              "      <td>65</td>\n",
              "      <td>M</td>\n",
              "      <td>f</td>\n",
              "      <td>f</td>\n",
              "      <td>f</td>\n",
              "      <td>f</td>\n",
              "      <td>f</td>\n",
              "      <td>f</td>\n",
              "      <td>f</td>\n",
              "      <td>f</td>\n",
              "      <td>f</td>\n",
              "      <td>f</td>\n",
              "      <td>f</td>\n",
              "      <td>y</td>\n",
              "      <td>0</td>\n",
              "      <td>y</td>\n",
              "      <td>1.90</td>\n",
              "      <td>y</td>\n",
              "      <td>134</td>\n",
              "      <td>y</td>\n",
              "      <td>0.98</td>\n",
              "      <td>y</td>\n",
              "      <td>137</td>\n",
              "      <td>n</td>\n",
              "      <td>?</td>\n",
              "    </tr>\n",
              "    <tr>\n",
              "      <th>2188</th>\n",
              "      <td>negative</td>\n",
              "      <td>74</td>\n",
              "      <td>F</td>\n",
              "      <td>f</td>\n",
              "      <td>f</td>\n",
              "      <td>f</td>\n",
              "      <td>f</td>\n",
              "      <td>f</td>\n",
              "      <td>f</td>\n",
              "      <td>f</td>\n",
              "      <td>f</td>\n",
              "      <td>f</td>\n",
              "      <td>f</td>\n",
              "      <td>f</td>\n",
              "      <td>y</td>\n",
              "      <td>1.40</td>\n",
              "      <td>y</td>\n",
              "      <td>1.40</td>\n",
              "      <td>y</td>\n",
              "      <td>126</td>\n",
              "      <td>y</td>\n",
              "      <td>0.89</td>\n",
              "      <td>y</td>\n",
              "      <td>141</td>\n",
              "      <td>n</td>\n",
              "      <td>?</td>\n",
              "    </tr>\n",
              "  </tbody>\n",
              "</table>\n",
              "</div>"
            ],
            "text/plain": [
              "        status age sex on_thyroxine  ... FTI_measured  FTI TBG_measured TBG\n",
              "400   negative  34   F            f  ...            y  246            n   ?\n",
              "3015  negative  70   M            f  ...            y  152            n   ?\n",
              "805   negative  45   F            t  ...            y  189            n   ?\n",
              "836   negative  65   M            f  ...            y  137            n   ?\n",
              "2188  negative  74   F            f  ...            y  141            n   ?\n",
              "\n",
              "[5 rows x 26 columns]"
            ]
          },
          "metadata": {
            "tags": []
          },
          "execution_count": 254
        }
      ]
    },
    {
      "cell_type": "code",
      "metadata": {
        "id": "EG7Fhuh0Xbfs",
        "outputId": "d9adf71d-96a2-49be-8115-391de6dfbbc2",
        "colab": {
          "base_uri": "https://localhost:8080/",
          "height": 218
        }
      },
      "source": [
        "#preview the head\n",
        "hypothy.head(5)"
      ],
      "execution_count": 255,
      "outputs": [
        {
          "output_type": "execute_result",
          "data": {
            "text/html": [
              "<div>\n",
              "<style scoped>\n",
              "    .dataframe tbody tr th:only-of-type {\n",
              "        vertical-align: middle;\n",
              "    }\n",
              "\n",
              "    .dataframe tbody tr th {\n",
              "        vertical-align: top;\n",
              "    }\n",
              "\n",
              "    .dataframe thead th {\n",
              "        text-align: right;\n",
              "    }\n",
              "</style>\n",
              "<table border=\"1\" class=\"dataframe\">\n",
              "  <thead>\n",
              "    <tr style=\"text-align: right;\">\n",
              "      <th></th>\n",
              "      <th>status</th>\n",
              "      <th>age</th>\n",
              "      <th>sex</th>\n",
              "      <th>on_thyroxine</th>\n",
              "      <th>query_on_thyroxine</th>\n",
              "      <th>on_antithyroid_medication</th>\n",
              "      <th>thyroid_surgery</th>\n",
              "      <th>query_hypothyroid</th>\n",
              "      <th>query_hyperthyroid</th>\n",
              "      <th>pregnant</th>\n",
              "      <th>sick</th>\n",
              "      <th>tumor</th>\n",
              "      <th>lithium</th>\n",
              "      <th>goitre</th>\n",
              "      <th>TSH_measured</th>\n",
              "      <th>TSH</th>\n",
              "      <th>T3_measured</th>\n",
              "      <th>T3</th>\n",
              "      <th>TT4_measured</th>\n",
              "      <th>TT4</th>\n",
              "      <th>T4U_measured</th>\n",
              "      <th>T4U</th>\n",
              "      <th>FTI_measured</th>\n",
              "      <th>FTI</th>\n",
              "      <th>TBG_measured</th>\n",
              "      <th>TBG</th>\n",
              "    </tr>\n",
              "  </thead>\n",
              "  <tbody>\n",
              "    <tr>\n",
              "      <th>0</th>\n",
              "      <td>hypothyroid</td>\n",
              "      <td>72</td>\n",
              "      <td>M</td>\n",
              "      <td>f</td>\n",
              "      <td>f</td>\n",
              "      <td>f</td>\n",
              "      <td>f</td>\n",
              "      <td>f</td>\n",
              "      <td>f</td>\n",
              "      <td>f</td>\n",
              "      <td>f</td>\n",
              "      <td>f</td>\n",
              "      <td>f</td>\n",
              "      <td>f</td>\n",
              "      <td>y</td>\n",
              "      <td>30</td>\n",
              "      <td>y</td>\n",
              "      <td>0.60</td>\n",
              "      <td>y</td>\n",
              "      <td>15</td>\n",
              "      <td>y</td>\n",
              "      <td>1.48</td>\n",
              "      <td>y</td>\n",
              "      <td>10</td>\n",
              "      <td>n</td>\n",
              "      <td>?</td>\n",
              "    </tr>\n",
              "    <tr>\n",
              "      <th>1</th>\n",
              "      <td>hypothyroid</td>\n",
              "      <td>15</td>\n",
              "      <td>F</td>\n",
              "      <td>t</td>\n",
              "      <td>f</td>\n",
              "      <td>f</td>\n",
              "      <td>f</td>\n",
              "      <td>f</td>\n",
              "      <td>f</td>\n",
              "      <td>f</td>\n",
              "      <td>f</td>\n",
              "      <td>f</td>\n",
              "      <td>f</td>\n",
              "      <td>f</td>\n",
              "      <td>y</td>\n",
              "      <td>145</td>\n",
              "      <td>y</td>\n",
              "      <td>1.70</td>\n",
              "      <td>y</td>\n",
              "      <td>19</td>\n",
              "      <td>y</td>\n",
              "      <td>1.13</td>\n",
              "      <td>y</td>\n",
              "      <td>17</td>\n",
              "      <td>n</td>\n",
              "      <td>?</td>\n",
              "    </tr>\n",
              "    <tr>\n",
              "      <th>2</th>\n",
              "      <td>hypothyroid</td>\n",
              "      <td>24</td>\n",
              "      <td>M</td>\n",
              "      <td>f</td>\n",
              "      <td>f</td>\n",
              "      <td>f</td>\n",
              "      <td>f</td>\n",
              "      <td>f</td>\n",
              "      <td>f</td>\n",
              "      <td>f</td>\n",
              "      <td>f</td>\n",
              "      <td>f</td>\n",
              "      <td>f</td>\n",
              "      <td>f</td>\n",
              "      <td>y</td>\n",
              "      <td>0</td>\n",
              "      <td>y</td>\n",
              "      <td>0.20</td>\n",
              "      <td>y</td>\n",
              "      <td>4</td>\n",
              "      <td>y</td>\n",
              "      <td>1</td>\n",
              "      <td>y</td>\n",
              "      <td>0</td>\n",
              "      <td>n</td>\n",
              "      <td>?</td>\n",
              "    </tr>\n",
              "    <tr>\n",
              "      <th>3</th>\n",
              "      <td>hypothyroid</td>\n",
              "      <td>24</td>\n",
              "      <td>F</td>\n",
              "      <td>f</td>\n",
              "      <td>f</td>\n",
              "      <td>f</td>\n",
              "      <td>f</td>\n",
              "      <td>f</td>\n",
              "      <td>f</td>\n",
              "      <td>f</td>\n",
              "      <td>f</td>\n",
              "      <td>f</td>\n",
              "      <td>f</td>\n",
              "      <td>f</td>\n",
              "      <td>y</td>\n",
              "      <td>430</td>\n",
              "      <td>y</td>\n",
              "      <td>0.40</td>\n",
              "      <td>y</td>\n",
              "      <td>6</td>\n",
              "      <td>y</td>\n",
              "      <td>1.04</td>\n",
              "      <td>y</td>\n",
              "      <td>6</td>\n",
              "      <td>n</td>\n",
              "      <td>?</td>\n",
              "    </tr>\n",
              "    <tr>\n",
              "      <th>4</th>\n",
              "      <td>hypothyroid</td>\n",
              "      <td>77</td>\n",
              "      <td>M</td>\n",
              "      <td>f</td>\n",
              "      <td>f</td>\n",
              "      <td>f</td>\n",
              "      <td>f</td>\n",
              "      <td>f</td>\n",
              "      <td>f</td>\n",
              "      <td>f</td>\n",
              "      <td>f</td>\n",
              "      <td>f</td>\n",
              "      <td>f</td>\n",
              "      <td>f</td>\n",
              "      <td>y</td>\n",
              "      <td>7.30</td>\n",
              "      <td>y</td>\n",
              "      <td>1.20</td>\n",
              "      <td>y</td>\n",
              "      <td>57</td>\n",
              "      <td>y</td>\n",
              "      <td>1.28</td>\n",
              "      <td>y</td>\n",
              "      <td>44</td>\n",
              "      <td>n</td>\n",
              "      <td>?</td>\n",
              "    </tr>\n",
              "  </tbody>\n",
              "</table>\n",
              "</div>"
            ],
            "text/plain": [
              "        status age sex on_thyroxine  ... FTI_measured FTI TBG_measured TBG\n",
              "0  hypothyroid  72   M            f  ...            y  10            n   ?\n",
              "1  hypothyroid  15   F            t  ...            y  17            n   ?\n",
              "2  hypothyroid  24   M            f  ...            y   0            n   ?\n",
              "3  hypothyroid  24   F            f  ...            y   6            n   ?\n",
              "4  hypothyroid  77   M            f  ...            y  44            n   ?\n",
              "\n",
              "[5 rows x 26 columns]"
            ]
          },
          "metadata": {
            "tags": []
          },
          "execution_count": 255
        }
      ]
    },
    {
      "cell_type": "code",
      "metadata": {
        "id": "yEwMplpRZv9J",
        "outputId": "73f1ac7d-6d02-4c00-de2d-6bbee5dbd64d",
        "colab": {
          "base_uri": "https://localhost:8080/",
          "height": 35
        }
      },
      "source": [
        "# checking the total number of records and columns\n",
        "\n",
        "hypothy.shape"
      ],
      "execution_count": 256,
      "outputs": [
        {
          "output_type": "execute_result",
          "data": {
            "text/plain": [
              "(3163, 26)"
            ]
          },
          "metadata": {
            "tags": []
          },
          "execution_count": 256
        }
      ]
    },
    {
      "cell_type": "code",
      "metadata": {
        "id": "kkGTYpTLZwCN",
        "outputId": "d021eb5d-16f8-41e1-bff1-ebd6b18bdadd",
        "colab": {
          "base_uri": "https://localhost:8080/",
          "height": 617
        }
      },
      "source": [
        "# checking datatypes of each attribute and previewing the existense of null values\n",
        "\n",
        "hypothy.info()"
      ],
      "execution_count": 257,
      "outputs": [
        {
          "output_type": "stream",
          "text": [
            "<class 'pandas.core.frame.DataFrame'>\n",
            "RangeIndex: 3163 entries, 0 to 3162\n",
            "Data columns (total 26 columns):\n",
            " #   Column                     Non-Null Count  Dtype \n",
            "---  ------                     --------------  ----- \n",
            " 0   status                     3163 non-null   object\n",
            " 1   age                        3163 non-null   object\n",
            " 2   sex                        3163 non-null   object\n",
            " 3   on_thyroxine               3163 non-null   object\n",
            " 4   query_on_thyroxine         3163 non-null   object\n",
            " 5   on_antithyroid_medication  3163 non-null   object\n",
            " 6   thyroid_surgery            3163 non-null   object\n",
            " 7   query_hypothyroid          3163 non-null   object\n",
            " 8   query_hyperthyroid         3163 non-null   object\n",
            " 9   pregnant                   3163 non-null   object\n",
            " 10  sick                       3163 non-null   object\n",
            " 11  tumor                      3163 non-null   object\n",
            " 12  lithium                    3163 non-null   object\n",
            " 13  goitre                     3163 non-null   object\n",
            " 14  TSH_measured               3163 non-null   object\n",
            " 15  TSH                        3163 non-null   object\n",
            " 16  T3_measured                3163 non-null   object\n",
            " 17  T3                         3163 non-null   object\n",
            " 18  TT4_measured               3163 non-null   object\n",
            " 19  TT4                        3163 non-null   object\n",
            " 20  T4U_measured               3163 non-null   object\n",
            " 21  T4U                        3163 non-null   object\n",
            " 22  FTI_measured               3163 non-null   object\n",
            " 23  FTI                        3163 non-null   object\n",
            " 24  TBG_measured               3163 non-null   object\n",
            " 25  TBG                        3163 non-null   object\n",
            "dtypes: object(26)\n",
            "memory usage: 642.6+ KB\n"
          ],
          "name": "stdout"
        }
      ]
    },
    {
      "cell_type": "markdown",
      "metadata": {
        "id": "GvEM54LTzRNH"
      },
      "source": [
        "the columns have 'object' as datatype, we change this in cleaning stage"
      ]
    },
    {
      "cell_type": "code",
      "metadata": {
        "id": "Xz9RCCM4XvQo",
        "outputId": "18741e7b-c42c-415a-9ee7-07f188116e6e",
        "colab": {
          "base_uri": "https://localhost:8080/",
          "height": 508
        }
      },
      "source": [
        "# checking for unique values in each column\n",
        "\n",
        "hypothy.nunique()"
      ],
      "execution_count": 258,
      "outputs": [
        {
          "output_type": "execute_result",
          "data": {
            "text/plain": [
              "status                         2\n",
              "age                           93\n",
              "sex                            3\n",
              "on_thyroxine                   2\n",
              "query_on_thyroxine             2\n",
              "on_antithyroid_medication      2\n",
              "thyroid_surgery                2\n",
              "query_hypothyroid              2\n",
              "query_hyperthyroid             2\n",
              "pregnant                       2\n",
              "sick                           2\n",
              "tumor                          2\n",
              "lithium                        2\n",
              "goitre                         2\n",
              "TSH_measured                   2\n",
              "TSH                          240\n",
              "T3_measured                    2\n",
              "T3                            70\n",
              "TT4_measured                   2\n",
              "TT4                          269\n",
              "T4U_measured                   2\n",
              "T4U                          159\n",
              "FTI_measured                   2\n",
              "FTI                          281\n",
              "TBG_measured                   2\n",
              "TBG                           53\n",
              "dtype: int64"
            ]
          },
          "metadata": {
            "tags": []
          },
          "execution_count": 258
        }
      ]
    },
    {
      "cell_type": "code",
      "metadata": {
        "id": "ItExG6sSYKyI",
        "outputId": "b3abf9d2-70b5-4126-c9db-be38d3e20be5",
        "colab": {
          "base_uri": "https://localhost:8080/",
          "height": 1000
        }
      },
      "source": [
        "#we preview the unique features in each column\n",
        "\n",
        "# previewing the unique values of each of our columns\n",
        "\n",
        "columns = hypothy.columns.to_list()\n",
        "\n",
        "for column in columns:\n",
        "    print(\"\\n\")\n",
        "    print(\"Column Name:\", column)\n",
        "    print(hypothy[column].unique())"
      ],
      "execution_count": 259,
      "outputs": [
        {
          "output_type": "stream",
          "text": [
            "\n",
            "\n",
            "Column Name: status\n",
            "['hypothyroid' 'negative']\n",
            "\n",
            "\n",
            "Column Name: age\n",
            "['72' '15' '24' '77' '85' '64' '20' '42' '69' '75' '53' '59' '68' '50'\n",
            " '78' '65' '28' '43' '40' '84' '?' '83' '63' '73' '36' '27' '48' '71' '60'\n",
            " '34' '79' '62' '74' '32' '41' '70' '29' '5' '58' '35' '51' '22' '16' '44'\n",
            " '39' '47' '18' '17' '88' '56' '30' '45' '66' '52' '54' '80' '33' '38'\n",
            " '92' '67' '46' '13' '89' '61' '49' '26' '57' '31' '90' '81' '25' '37'\n",
            " '76' '87' '23' '55' '86' '98' '21' '97' '1' '6' '14' '82' '11' '19' '9'\n",
            " '12' '10' '8' '7' '4' '93']\n",
            "\n",
            "\n",
            "Column Name: sex\n",
            "['M' 'F' '?']\n",
            "\n",
            "\n",
            "Column Name: on_thyroxine\n",
            "['f' 't']\n",
            "\n",
            "\n",
            "Column Name: query_on_thyroxine\n",
            "['f' 't']\n",
            "\n",
            "\n",
            "Column Name: on_antithyroid_medication\n",
            "['f' 't']\n",
            "\n",
            "\n",
            "Column Name: thyroid_surgery\n",
            "['f' 't']\n",
            "\n",
            "\n",
            "Column Name: query_hypothyroid\n",
            "['f' 't']\n",
            "\n",
            "\n",
            "Column Name: query_hyperthyroid\n",
            "['f' 't']\n",
            "\n",
            "\n",
            "Column Name: pregnant\n",
            "['f' 't']\n",
            "\n",
            "\n",
            "Column Name: sick\n",
            "['f' 't']\n",
            "\n",
            "\n",
            "Column Name: tumor\n",
            "['f' 't']\n",
            "\n",
            "\n",
            "Column Name: lithium\n",
            "['f' 't']\n",
            "\n",
            "\n",
            "Column Name: goitre\n",
            "['f' 't']\n",
            "\n",
            "\n",
            "Column Name: TSH_measured\n",
            "['y' 'n']\n",
            "\n",
            "\n",
            "Column Name: TSH\n",
            "['30' '145' '0' '430' '7.30' '138' '7.70' '21' '92' '48' '36' '15' '15.30'\n",
            " '25' '61' '28' '170' '54' '216' '56' '71' '46' '70' '34' '53' '9.40'\n",
            " '126' '10' '530' '35' '65' '57' '125' '23' '80' '117' '49' '66' '8.20'\n",
            " '150' '?' '18' '165' '164' '24' '90' '77' '19' '58' '100' '213' '17'\n",
            " '235' '153' '13' '31' '109' '260' '43' '12' '11' '55' '6.50' '20' '7.50'\n",
            " '14' '60' '140' '33' '8.70' '0.25' '10.70' '82' '45' '42' '41' '160' '16'\n",
            " '89' '44' '176' '6.40' '183' '29' '37' '39' '7.90' '59' '68' '38' '47'\n",
            " '143' '6.60' '288' '96' '0.50' '1.20' '1.90' '0.09' '3.10' '0.40' '0.85'\n",
            " '0.30' '0.90' '1.50' '4.60' '0.20' '5.80' '4' '1.40' '2' '2.60' '2.90'\n",
            " '0.80' '4.90' '10.30' '2.30' '0.70' '0.60' '1.30' '2.50' '5.10' '1.70'\n",
            " '2.70' '22' '8.10' '3.30' '5' '3.20' '1.80' '1.10' '0.46' '1' '5.60'\n",
            " '4.40' '16.50' '2.10' '6.30' '5.50' '7.40' '5.90' '0.15' '14.90' '2.20'\n",
            " '9.70' '9.60' '1.60' '3.70' '3' '2.80' '0.10' '4.20' '27' '3.50' '0.05'\n",
            " '19.20' '8' '9.10' '3.60' '7.80' '3.80' '8.50' '9.20' '52' '2.40' '3.90'\n",
            " '0.03' '0.04' '26' '6.10' '0.65' '0.92' '7.60' '8.40' '14.40' '1.05'\n",
            " '0.37' '178' '6.90' '4.50' '4.70' '40' '6' '4.10' '14.30' '5.40' '8.30'\n",
            " '0.06' '8.80' '8.90' '7.10' '4.80' '0.43' '6.70' '200' '8.60' '86' '0.21'\n",
            " '9' '0.26' '3.40' '6.20' '17.40' '85' '1.83' '63' '13.30' '0.02' '0.42'\n",
            " '9.50' '0.84' '0.88' '4.30' '0.67' '0.81' '5.20' '9.80' '76' '0.62'\n",
            " '0.01' '11.40' '88' '0.68' '0.07' '0.69' '0.77' '9.90' '0.64' '13.20'\n",
            " '6.80' '0.28' '11.60' '0.91' '1.01' '0.23' '0.35' '50' '32' '0.83' '0.08']\n",
            "\n",
            "\n",
            "Column Name: T3_measured\n",
            "['y' 'n']\n",
            "\n",
            "\n",
            "Column Name: T3\n",
            "['0.60' '1.70' '0.20' '0.40' '1.20' '1.10' '1.30' '1.90' '?' '0.80' '2.20'\n",
            " '1.50' '2.70' '2' '0.30' '2.10' '0.50' '0.70' '1' '1.40' '2.30' '2.40'\n",
            " '0.90' '1.80' '0' '2.80' '1.60' '6.70' '3.30' '3' '2.50' '2.60' '4'\n",
            " '9.80' '3.90' '3.40' '3.80' '4.50' '3.20' '3.70' '4.30' '2.90' '3.10'\n",
            " '3.50' '3.60' '6.60' '4.90' '8.90' '4.10' '5' '5.30' '7.60' '7.30' '4.20'\n",
            " '4.40' '5.10' '7' '0.10' '0.05' '4.70' '6.20' '5.50' '4.60' '6.10' '8.10'\n",
            " '5.20' '5.60' '4.80' '10.20' '8.60']\n",
            "\n",
            "\n",
            "Column Name: TT4_measured\n",
            "['y' 'n']\n",
            "\n",
            "\n",
            "Column Name: TT4\n",
            "['15' '19' '4' '6' '57' '27' '54' '34' '39' '7.60' '53' '38' '98' '44'\n",
            " '37' '81' '13' '17' '12' '50' '23' '14' '3.90' '52' '32' '30' '84' '10'\n",
            " '55' '24' '28' '11' '6.60' '31' '33' '41' '9' '78' '42' '8.10' '65' '16'\n",
            " '9.70' '46' '22' '61' '2.30' '21' '7.50' '18' '66' '25' '43' '2' '3' '58'\n",
            " '59' '71' '74' '56' '40' '20' '48' '230' '70' '4.10' '63' '5.30' '2.90'\n",
            " '62' '75' '68' '45' '47' '36' '80' '109' '8.60' '83' '82' '101' '76'\n",
            " '103' '112' '206' '110' '93' '79' '121' '?' '107' '88' '187' '254' '115'\n",
            " '113' '260' '117' '164' '97' '64' '129' '111' '106' '95' '87' '105' '90'\n",
            " '67' '134' '35' '193' '143' '130' '108' '86' '96' '92' '99' '216' '152'\n",
            " '125' '138' '194' '91' '120' '102' '170' '126' '116' '140' '94' '159'\n",
            " '85' '210' '89' '151' '247' '139' '153' '178' '123' '137' '161' '7.30'\n",
            " '72' '202' '122' '124' '157' '118' '104' '135' '186' '241' '131' '119'\n",
            " '100' '220' '176' '136' '183' '155' '208' '199' '154' '169' '128' '235'\n",
            " '195' '267' '232' '197' '212' '149' '127' '245' '132' '162' '77' '142'\n",
            " '69' '173' '141' '156' '181' '189' '60' '114' '198' '147' '191' '177'\n",
            " '174' '207' '168' '73' '160' '145' '200' '182' '158' '203' '209' '217'\n",
            " '430' '213' '218' '163' '296' '167' '148' '166' '185' '248' '172' '144'\n",
            " '150' '165' '196' '308' '146' '426' '224' '29' '204' '201' '133' '180'\n",
            " '184' '450' '244' '301' '255' '252' '396' '223' '261' '250' '179' '219'\n",
            " '190' '51' '221' '171' '242' '275' '211' '49' '239' '205' '222' '256'\n",
            " '214' '282' '287' '253' '269' '175' '228' '333' '258' '236' '225' '263'\n",
            " '283' '359' '188' '240']\n",
            "\n",
            "\n",
            "Column Name: T4U_measured\n",
            "['y' 'n']\n",
            "\n",
            "\n",
            "Column Name: T4U\n",
            "['1.48' '1.13' '1' '1.04' '1.28' '1.19' '0.86' '1.05' '1.21' '1.02' '0.92'\n",
            " '1.29' '0.98' '1.08' '1.01' '1.18' '1.10' '1.27' '0.83' '1.11' '0.78'\n",
            " '1.39' '1.12' '0.93' '0.99' '0.90' '1.06' '0.68' '0.67' '1.14' '0.80'\n",
            " '0.96' '0.95' '1.46' '1.03' '0.97' '0.94' '1.09' '1.24' '1.23' '1.53'\n",
            " '1.26' '1.40' '1.17' '0.87' '0.61' '0.70' '1.07' '1.73' '1.45' '1.20'\n",
            " '0.89' '0.84' '0.91' '0.85' '1.35' '0.82' '1.50' '0.74' '1.71' '1.79'\n",
            " '0.73' '0.77' '1.25' '?' '0.88' '0.72' '0.31' '0' '0.79' '0.81' '0.71'\n",
            " '1.93' '1.32' '0.66' '1.68' '1.42' '1.70' '1.83' '1.41' '1.34' '1.65'\n",
            " '1.22' '0.75' '1.74' '0.69' '1.51' '0.76' '1.16' '0.35' '0.62' '0.54'\n",
            " '1.36' '1.33' '1.30' '0.48' '1.59' '1.75' '1.86' '1.38' '1.43' '1.62'\n",
            " '2.01' '0.30' '1.31' '1.15' '1.57' '0.55' '1.66' '0.52' '1.97' '1.47'\n",
            " '0.36' '1.88' '1.55' '0.34' '1.67' '0.58' '0.60' '0.59' '1.37' '1.76'\n",
            " '0.64' '1.80' '0.41' '0.20' '1.77' '0.33' '1.54' '0.46' '0.32' '1.44'\n",
            " '1.56' '0.56' '1.52' '2.03' '0.65' '0.63' '1.96' '0.53' '0.47' '0.29'\n",
            " '2.21' '1.69' '1.64' '1.49' '1.72' '1.58' '0.57' '1.61' '0.28' '2' '1.63'\n",
            " '0.27' '1.94' '0.50' '0.49' '0.40' '0.38']\n",
            "\n",
            "\n",
            "Column Name: FTI_measured\n",
            "['y' 'n']\n",
            "\n",
            "\n",
            "Column Name: FTI\n",
            "['10' '17' '0' '6' '44' '23' '63' '32' '7.50' '61' '41' '76' '45' '34'\n",
            " '81' '11' '16' '46' '22' '12' '5' '47' '29' '37' '60' '8.40' '8.50' '24'\n",
            " '28' '7' '49' '36' '15' '9' '80' '53' '7.20' '68' '6.60' '48' '21' '14'\n",
            " '2' '20' '1.40' '56' '3' '51' '13' '43' '78' '52' '64' '26' '35' '31'\n",
            " '133' '3.40' '54' '8.90' '57' '5.50' '58' '55' '2.80' '66' '4' '40' '50'\n",
            " '8.70' '87' '89' '112' '123' '99' '92' '104' '69' '196' '107' '106' '74'\n",
            " '97' '?' '122' '84' '114' '124' '241' '119' '120' '136' '85' '127' '839'\n",
            " '137' '197' '96' '77' '108' '82' '72' '94' '91' '240' '121' '109' '79'\n",
            " '100' '98' '73' '117' '165' '103' '88' '101' '126' '132' '128' '143'\n",
            " '152' '141' '186' '113' '102' '125' '93' '105' '159' '188' '71' '149'\n",
            " '116' '83' '176' '161' '86' '140' '111' '158' '115' '171' '90' '95' '70'\n",
            " '135' '134' '178' '110' '170' '205' '695' '155' '118' '741' '131' '129'\n",
            " '142' '153' '75' '254' '246' '139' '185' '157' '147' '164' '130' '222'\n",
            " '650' '174' '182' '144' '169' '257' '145' '345' '180' '167' '151' '154'\n",
            " '150' '219' '228' '65' '187' '166' '195' '208' '138' '33' '173' '146'\n",
            " '211' '181' '190' '247' '221' '395' '216' '212' '148' '162' '220' '370'\n",
            " '450' '160' '59' '189' '203' '168' '179' '264' '470' '184' '163' '67'\n",
            " '213' '354' '292' '359' '172' '156' '334' '177' '214' '194' '192' '215'\n",
            " '217' '271' '250' '244' '308' '881' '258' '316' '200' '711' '256' '232'\n",
            " '202' '39' '248' '237' '259' '445' '19' '852' '42' '235' '634' '283'\n",
            " '305' '204' '229' '332' '550' '249' '263' '615' '266' '198' '175' '209'\n",
            " '299' '193' '227' '223' '337' '210' '272' '702' '218' '239' '355' '482'\n",
            " '347' '485' '612' '428']\n",
            "\n",
            "\n",
            "Column Name: TBG_measured\n",
            "['n' 'y']\n",
            "\n",
            "\n",
            "Column Name: TBG\n",
            "['?' '28' '34' '0' '19' '30' '25' '48' '39' '31' '16' '21' '37' '40' '27'\n",
            " '3.10' '38' '108' '20' '36' '17' '23' '35' '32' '63' '9.30' '15' '26'\n",
            " '33' '41' '110' '22' '43' '53' '80' '47' '29' '13' '24' '18' '45' '86'\n",
            " '50' '8.40' '52' '11' '12' '14' '65' '7.30' '8.50' '69' '122']\n"
          ],
          "name": "stdout"
        }
      ]
    },
    {
      "cell_type": "code",
      "metadata": {
        "id": "7yOivsyiyVZP",
        "outputId": "7634fd8e-df2b-4378-b408-cc53105d1782",
        "colab": {
          "base_uri": "https://localhost:8080/",
          "height": 508
        }
      },
      "source": [
        "#check for null values\n",
        "hypothy.isnull().sum()"
      ],
      "execution_count": 260,
      "outputs": [
        {
          "output_type": "execute_result",
          "data": {
            "text/plain": [
              "status                       0\n",
              "age                          0\n",
              "sex                          0\n",
              "on_thyroxine                 0\n",
              "query_on_thyroxine           0\n",
              "on_antithyroid_medication    0\n",
              "thyroid_surgery              0\n",
              "query_hypothyroid            0\n",
              "query_hyperthyroid           0\n",
              "pregnant                     0\n",
              "sick                         0\n",
              "tumor                        0\n",
              "lithium                      0\n",
              "goitre                       0\n",
              "TSH_measured                 0\n",
              "TSH                          0\n",
              "T3_measured                  0\n",
              "T3                           0\n",
              "TT4_measured                 0\n",
              "TT4                          0\n",
              "T4U_measured                 0\n",
              "T4U                          0\n",
              "FTI_measured                 0\n",
              "FTI                          0\n",
              "TBG_measured                 0\n",
              "TBG                          0\n",
              "dtype: int64"
            ]
          },
          "metadata": {
            "tags": []
          },
          "execution_count": 260
        }
      ]
    },
    {
      "cell_type": "markdown",
      "metadata": {
        "id": "CNYnyxQUY1zv"
      },
      "source": [
        "there are no missinng values in the dataset"
      ]
    },
    {
      "cell_type": "code",
      "metadata": {
        "id": "fcYyIQYbyXFU",
        "outputId": "21842e0f-d55d-48bb-a806-96d997d176b6",
        "colab": {
          "base_uri": "https://localhost:8080/",
          "height": 508
        }
      },
      "source": [
        "#the dataset has columns with '?' on the records, lets check the total number of '?' on the columns\n",
        "\n",
        "print(hypothy[hypothy == '?'].count())"
      ],
      "execution_count": 261,
      "outputs": [
        {
          "output_type": "stream",
          "text": [
            "status                          0\n",
            "age                           446\n",
            "sex                            73\n",
            "on_thyroxine                    0\n",
            "query_on_thyroxine              0\n",
            "on_antithyroid_medication       0\n",
            "thyroid_surgery                 0\n",
            "query_hypothyroid               0\n",
            "query_hyperthyroid              0\n",
            "pregnant                        0\n",
            "sick                            0\n",
            "tumor                           0\n",
            "lithium                         0\n",
            "goitre                          0\n",
            "TSH_measured                    0\n",
            "TSH                           468\n",
            "T3_measured                     0\n",
            "T3                            695\n",
            "TT4_measured                    0\n",
            "TT4                           249\n",
            "T4U_measured                    0\n",
            "T4U                           248\n",
            "FTI_measured                    0\n",
            "FTI                           247\n",
            "TBG_measured                    0\n",
            "TBG                          2903\n",
            "dtype: int64\n"
          ],
          "name": "stdout"
        }
      ]
    },
    {
      "cell_type": "markdown",
      "metadata": {
        "id": "OI98xwFvZz2j"
      },
      "source": [
        "age = 446   \n",
        "TSH = 468  \n",
        "T3 = 695   \n",
        "TBG = 2,903\n",
        "TBG has 75% of the records in the column being '?' therefore we drop this column since its computation wil bring about errors.\n",
        " The other records are assumed to be null and we can drop them also or replace them."
      ]
    },
    {
      "cell_type": "code",
      "metadata": {
        "id": "JvbgAK62cE61"
      },
      "source": [
        "#Dropping columns TBG and TBG_measured since they dont have valuable records to work with\n",
        "\n",
        "hypothy.drop(['TBG', 'TBG_measured'],axis=1, inplace=True)"
      ],
      "execution_count": 262,
      "outputs": []
    },
    {
      "cell_type": "code",
      "metadata": {
        "id": "jdd19GUMdlcD",
        "outputId": "ccfb46b8-bb01-4ae6-ada9-6219a3d26199",
        "colab": {
          "base_uri": "https://localhost:8080/",
          "height": 126
        }
      },
      "source": [
        "# confirming that TBG has been dropped\n",
        "hypothy.columns"
      ],
      "execution_count": 263,
      "outputs": [
        {
          "output_type": "execute_result",
          "data": {
            "text/plain": [
              "Index(['status', 'age', 'sex', 'on_thyroxine', 'query_on_thyroxine',\n",
              "       'on_antithyroid_medication', 'thyroid_surgery', 'query_hypothyroid',\n",
              "       'query_hyperthyroid', 'pregnant', 'sick', 'tumor', 'lithium', 'goitre',\n",
              "       'TSH_measured', 'TSH', 'T3_measured', 'T3', 'TT4_measured', 'TT4',\n",
              "       'T4U_measured', 'T4U', 'FTI_measured', 'FTI'],\n",
              "      dtype='object')"
            ]
          },
          "metadata": {
            "tags": []
          },
          "execution_count": 263
        }
      ]
    },
    {
      "cell_type": "code",
      "metadata": {
        "id": "dogsVhjayW5q",
        "outputId": "02b90d85-a1df-4bea-81f4-2cc099f86e07",
        "colab": {
          "base_uri": "https://localhost:8080/",
          "height": 72
        }
      },
      "source": [
        "#lets check for duplicates\n",
        "\n",
        "hypothy.duplicated().value_counts()\n"
      ],
      "execution_count": 264,
      "outputs": [
        {
          "output_type": "execute_result",
          "data": {
            "text/plain": [
              "False    3011\n",
              "True      152\n",
              "dtype: int64"
            ]
          },
          "metadata": {
            "tags": []
          },
          "execution_count": 264
        }
      ]
    },
    {
      "cell_type": "code",
      "metadata": {
        "id": "a6fGRyf3oc0z"
      },
      "source": [
        "#dropping the duplicate rows\n",
        "hypothy.drop_duplicates(inplace = True)"
      ],
      "execution_count": 265,
      "outputs": []
    },
    {
      "cell_type": "code",
      "metadata": {
        "id": "dn_NCet5olmX",
        "outputId": "5d3ce92e-f0b7-4a2e-cb8f-05605513393d",
        "colab": {
          "base_uri": "https://localhost:8080/",
          "height": 35
        }
      },
      "source": [
        "#checking if the duplicates have been dropped\n",
        "hypothy.duplicated().sum()"
      ],
      "execution_count": 266,
      "outputs": [
        {
          "output_type": "execute_result",
          "data": {
            "text/plain": [
              "0"
            ]
          },
          "metadata": {
            "tags": []
          },
          "execution_count": 266
        }
      ]
    },
    {
      "cell_type": "code",
      "metadata": {
        "id": "PKijXWe_d55V"
      },
      "source": [
        "# let's start by converting categorical variables to category\n",
        "\n",
        "hypothy['status'] = hypothy['status'].astype('category')\n",
        "hypothy['sex'] = hypothy['sex'].astype('category')\n",
        "hypothy['on_thyroxine'] = hypothy['on_thyroxine'].astype('category')\n",
        "hypothy['query_on_thyroxine'] = hypothy['query_on_thyroxine'].astype('category')\n",
        "hypothy['on_antithyroid_medication'] = hypothy['on_antithyroid_medication'].astype('category')\n",
        "hypothy['thyroid_surgery'] = hypothy['thyroid_surgery'].astype('category')\n",
        "hypothy['query_hypothyroid'] = hypothy['query_hypothyroid'].astype('category')\n",
        "\n",
        "hypothy['query_hyperthyroid'] = hypothy['query_hyperthyroid'].astype('category')\n",
        "hypothy['pregnant'] = hypothy['pregnant'].astype('category')\n",
        "hypothy['sick'] = hypothy['sick'].astype('category')\n",
        "hypothy['tumor'] = hypothy['tumor'].astype('category')\n",
        "hypothy['lithium'] = hypothy['lithium'].astype('category')\n",
        "hypothy['goitre'] = hypothy['goitre'].astype('category')\n",
        "hypothy['TSH_measured'] = hypothy['TSH_measured'].astype('category')\n",
        "\n",
        "hypothy['T3_measured'] = hypothy['T3_measured'].astype('category')\n",
        "hypothy['TT4_measured'] = hypothy['TT4_measured'].astype('category')\n",
        "hypothy['T4U_measured'] = hypothy['T4U_measured'].astype('category')\n",
        "hypothy['FTI_measured'] = hypothy['FTI_measured'].astype('category')"
      ],
      "execution_count": 267,
      "outputs": []
    },
    {
      "cell_type": "code",
      "metadata": {
        "id": "FbCRyS6keDgT",
        "outputId": "3b3efa20-0386-40e9-c0e4-7e20326a28a2",
        "colab": {
          "base_uri": "https://localhost:8080/",
          "height": 472
        }
      },
      "source": [
        "#cinfirm\n",
        "\n",
        "hypothy.dtypes"
      ],
      "execution_count": 268,
      "outputs": [
        {
          "output_type": "execute_result",
          "data": {
            "text/plain": [
              "status                       category\n",
              "age                            object\n",
              "sex                          category\n",
              "on_thyroxine                 category\n",
              "query_on_thyroxine           category\n",
              "on_antithyroid_medication    category\n",
              "thyroid_surgery              category\n",
              "query_hypothyroid            category\n",
              "query_hyperthyroid           category\n",
              "pregnant                     category\n",
              "sick                         category\n",
              "tumor                        category\n",
              "lithium                      category\n",
              "goitre                       category\n",
              "TSH_measured                 category\n",
              "TSH                            object\n",
              "T3_measured                  category\n",
              "T3                             object\n",
              "TT4_measured                 category\n",
              "TT4                            object\n",
              "T4U_measured                 category\n",
              "T4U                            object\n",
              "FTI_measured                 category\n",
              "FTI                            object\n",
              "dtype: object"
            ]
          },
          "metadata": {
            "tags": []
          },
          "execution_count": 268
        }
      ]
    },
    {
      "cell_type": "code",
      "metadata": {
        "id": "jMwHmW7ByWqX",
        "outputId": "c755ac56-cee4-4080-f114-ce9cd50deba6",
        "colab": {
          "base_uri": "https://localhost:8080/",
          "height": 472
        }
      },
      "source": [
        "# first converting categorical variables to category\n",
        "\n",
        "hypothy['status'] = hypothy['status'].astype('category')\n",
        "hypothy['sex'] = hypothy['sex'].astype('category')\n",
        "hypothy['on_thyroxine'] = hypothy['on_thyroxine'].astype('category')\n",
        "hypothy['query_on_thyroxine'] = hypothy['query_on_thyroxine'].astype('category')\n",
        "hypothy['on_antithyroid_medication'] = hypothy['on_antithyroid_medication'].astype('category')\n",
        "hypothy['thyroid_surgery'] = hypothy['thyroid_surgery'].astype('category')\n",
        "hypothy['query_hypothyroid'] = hypothy['query_hypothyroid'].astype('category')\n",
        "\n",
        "hypothy['query_hyperthyroid'] = hypothy['query_hyperthyroid'].astype('category')\n",
        "hypothy['pregnant'] = hypothy['pregnant'].astype('category')\n",
        "hypothy['sick'] = hypothy['sick'].astype('category')\n",
        "hypothy['tumor'] = hypothy['tumor'].astype('category')\n",
        "hypothy['lithium'] = hypothy['lithium'].astype('category')\n",
        "hypothy['goitre'] = hypothy['goitre'].astype('category')\n",
        "hypothy['TSH_measured'] = hypothy['TSH_measured'].astype('category')\n",
        "\n",
        "hypothy['T3_measured'] = hypothy['T3_measured'].astype('category')\n",
        "hypothy['TT4_measured'] = hypothy['TT4_measured'].astype('category')\n",
        "hypothy['T4U_measured'] = hypothy['T4U_measured'].astype('category')\n",
        "hypothy['FTI_measured'] = hypothy['FTI_measured'].astype('category')\n",
        "\n",
        "hypothy.dtypes"
      ],
      "execution_count": 269,
      "outputs": [
        {
          "output_type": "execute_result",
          "data": {
            "text/plain": [
              "status                       category\n",
              "age                            object\n",
              "sex                          category\n",
              "on_thyroxine                 category\n",
              "query_on_thyroxine           category\n",
              "on_antithyroid_medication    category\n",
              "thyroid_surgery              category\n",
              "query_hypothyroid            category\n",
              "query_hyperthyroid           category\n",
              "pregnant                     category\n",
              "sick                         category\n",
              "tumor                        category\n",
              "lithium                      category\n",
              "goitre                       category\n",
              "TSH_measured                 category\n",
              "TSH                            object\n",
              "T3_measured                  category\n",
              "T3                             object\n",
              "TT4_measured                 category\n",
              "TT4                            object\n",
              "T4U_measured                 category\n",
              "T4U                            object\n",
              "FTI_measured                 category\n",
              "FTI                            object\n",
              "dtype: object"
            ]
          },
          "metadata": {
            "tags": []
          },
          "execution_count": 269
        }
      ]
    },
    {
      "cell_type": "code",
      "metadata": {
        "id": "Lo-fiu1feorn",
        "outputId": "3cbb4626-6668-45c0-cc34-210e8caba199",
        "colab": {
          "base_uri": "https://localhost:8080/",
          "height": 472
        }
      },
      "source": [
        "# let's convert numerical variables to numerical datatypes and replace question marks nan\n",
        "##‘coerce’ converts invalid parsing in this case '?' to NaN.\n",
        "\n",
        "hypothy['age'] = pd.to_numeric(hypothy['age'], errors = 'coerce') \n",
        "hypothy['TSH'] = pd.to_numeric(hypothy['TSH'], errors = 'coerce')\n",
        "hypothy['T3'] = pd.to_numeric(hypothy['T3'], errors = 'coerce')\n",
        "hypothy['TT4'] = pd.to_numeric(hypothy['TT4'], errors = 'coerce')\n",
        "hypothy['T4U'] = pd.to_numeric(hypothy['T4U'], errors = 'coerce')\n",
        "hypothy['FTI'] = pd.to_numeric(hypothy['FTI'], errors = 'coerce')\n",
        "\n",
        "print(hypothy.dtypes)"
      ],
      "execution_count": 270,
      "outputs": [
        {
          "output_type": "stream",
          "text": [
            "status                       category\n",
            "age                           float64\n",
            "sex                          category\n",
            "on_thyroxine                 category\n",
            "query_on_thyroxine           category\n",
            "on_antithyroid_medication    category\n",
            "thyroid_surgery              category\n",
            "query_hypothyroid            category\n",
            "query_hyperthyroid           category\n",
            "pregnant                     category\n",
            "sick                         category\n",
            "tumor                        category\n",
            "lithium                      category\n",
            "goitre                       category\n",
            "TSH_measured                 category\n",
            "TSH                           float64\n",
            "T3_measured                  category\n",
            "T3                            float64\n",
            "TT4_measured                 category\n",
            "TT4                           float64\n",
            "T4U_measured                 category\n",
            "T4U                           float64\n",
            "FTI_measured                 category\n",
            "FTI                           float64\n",
            "dtype: object\n"
          ],
          "name": "stdout"
        }
      ]
    },
    {
      "cell_type": "code",
      "metadata": {
        "id": "2z3BVXEwh3QH",
        "outputId": "cef5ca1c-ab26-4dfb-bb3d-ac0beb20dfcb",
        "colab": {
          "base_uri": "https://localhost:8080/",
          "height": 35
        }
      },
      "source": [
        "hypothy.shape"
      ],
      "execution_count": 271,
      "outputs": [
        {
          "output_type": "execute_result",
          "data": {
            "text/plain": [
              "(3011, 24)"
            ]
          },
          "metadata": {
            "tags": []
          },
          "execution_count": 271
        }
      ]
    },
    {
      "cell_type": "markdown",
      "metadata": {
        "id": "jjdE6mDQxIHI"
      },
      "source": [
        "# EXPLORATORY DATA ANALYSIS"
      ]
    },
    {
      "cell_type": "markdown",
      "metadata": {
        "id": "3XDtfL3w11CS"
      },
      "source": [
        "**UNIVARIATE ANALYSIS**"
      ]
    },
    {
      "cell_type": "code",
      "metadata": {
        "id": "MA_AelnXwzz_",
        "outputId": "afff68a0-9486-4b85-8fe9-3ca3e5c40bdc",
        "colab": {
          "base_uri": "https://localhost:8080/",
          "height": 218
        }
      },
      "source": [
        "#lets preview our clean dataset\n",
        "\n",
        "df1 = hypothy\n",
        "df1.head(5)"
      ],
      "execution_count": 272,
      "outputs": [
        {
          "output_type": "execute_result",
          "data": {
            "text/html": [
              "<div>\n",
              "<style scoped>\n",
              "    .dataframe tbody tr th:only-of-type {\n",
              "        vertical-align: middle;\n",
              "    }\n",
              "\n",
              "    .dataframe tbody tr th {\n",
              "        vertical-align: top;\n",
              "    }\n",
              "\n",
              "    .dataframe thead th {\n",
              "        text-align: right;\n",
              "    }\n",
              "</style>\n",
              "<table border=\"1\" class=\"dataframe\">\n",
              "  <thead>\n",
              "    <tr style=\"text-align: right;\">\n",
              "      <th></th>\n",
              "      <th>status</th>\n",
              "      <th>age</th>\n",
              "      <th>sex</th>\n",
              "      <th>on_thyroxine</th>\n",
              "      <th>query_on_thyroxine</th>\n",
              "      <th>on_antithyroid_medication</th>\n",
              "      <th>thyroid_surgery</th>\n",
              "      <th>query_hypothyroid</th>\n",
              "      <th>query_hyperthyroid</th>\n",
              "      <th>pregnant</th>\n",
              "      <th>sick</th>\n",
              "      <th>tumor</th>\n",
              "      <th>lithium</th>\n",
              "      <th>goitre</th>\n",
              "      <th>TSH_measured</th>\n",
              "      <th>TSH</th>\n",
              "      <th>T3_measured</th>\n",
              "      <th>T3</th>\n",
              "      <th>TT4_measured</th>\n",
              "      <th>TT4</th>\n",
              "      <th>T4U_measured</th>\n",
              "      <th>T4U</th>\n",
              "      <th>FTI_measured</th>\n",
              "      <th>FTI</th>\n",
              "    </tr>\n",
              "  </thead>\n",
              "  <tbody>\n",
              "    <tr>\n",
              "      <th>0</th>\n",
              "      <td>hypothyroid</td>\n",
              "      <td>72.0</td>\n",
              "      <td>M</td>\n",
              "      <td>f</td>\n",
              "      <td>f</td>\n",
              "      <td>f</td>\n",
              "      <td>f</td>\n",
              "      <td>f</td>\n",
              "      <td>f</td>\n",
              "      <td>f</td>\n",
              "      <td>f</td>\n",
              "      <td>f</td>\n",
              "      <td>f</td>\n",
              "      <td>f</td>\n",
              "      <td>y</td>\n",
              "      <td>30.0</td>\n",
              "      <td>y</td>\n",
              "      <td>0.6</td>\n",
              "      <td>y</td>\n",
              "      <td>15.0</td>\n",
              "      <td>y</td>\n",
              "      <td>1.48</td>\n",
              "      <td>y</td>\n",
              "      <td>10.0</td>\n",
              "    </tr>\n",
              "    <tr>\n",
              "      <th>1</th>\n",
              "      <td>hypothyroid</td>\n",
              "      <td>15.0</td>\n",
              "      <td>F</td>\n",
              "      <td>t</td>\n",
              "      <td>f</td>\n",
              "      <td>f</td>\n",
              "      <td>f</td>\n",
              "      <td>f</td>\n",
              "      <td>f</td>\n",
              "      <td>f</td>\n",
              "      <td>f</td>\n",
              "      <td>f</td>\n",
              "      <td>f</td>\n",
              "      <td>f</td>\n",
              "      <td>y</td>\n",
              "      <td>145.0</td>\n",
              "      <td>y</td>\n",
              "      <td>1.7</td>\n",
              "      <td>y</td>\n",
              "      <td>19.0</td>\n",
              "      <td>y</td>\n",
              "      <td>1.13</td>\n",
              "      <td>y</td>\n",
              "      <td>17.0</td>\n",
              "    </tr>\n",
              "    <tr>\n",
              "      <th>2</th>\n",
              "      <td>hypothyroid</td>\n",
              "      <td>24.0</td>\n",
              "      <td>M</td>\n",
              "      <td>f</td>\n",
              "      <td>f</td>\n",
              "      <td>f</td>\n",
              "      <td>f</td>\n",
              "      <td>f</td>\n",
              "      <td>f</td>\n",
              "      <td>f</td>\n",
              "      <td>f</td>\n",
              "      <td>f</td>\n",
              "      <td>f</td>\n",
              "      <td>f</td>\n",
              "      <td>y</td>\n",
              "      <td>0.0</td>\n",
              "      <td>y</td>\n",
              "      <td>0.2</td>\n",
              "      <td>y</td>\n",
              "      <td>4.0</td>\n",
              "      <td>y</td>\n",
              "      <td>1.00</td>\n",
              "      <td>y</td>\n",
              "      <td>0.0</td>\n",
              "    </tr>\n",
              "    <tr>\n",
              "      <th>3</th>\n",
              "      <td>hypothyroid</td>\n",
              "      <td>24.0</td>\n",
              "      <td>F</td>\n",
              "      <td>f</td>\n",
              "      <td>f</td>\n",
              "      <td>f</td>\n",
              "      <td>f</td>\n",
              "      <td>f</td>\n",
              "      <td>f</td>\n",
              "      <td>f</td>\n",
              "      <td>f</td>\n",
              "      <td>f</td>\n",
              "      <td>f</td>\n",
              "      <td>f</td>\n",
              "      <td>y</td>\n",
              "      <td>430.0</td>\n",
              "      <td>y</td>\n",
              "      <td>0.4</td>\n",
              "      <td>y</td>\n",
              "      <td>6.0</td>\n",
              "      <td>y</td>\n",
              "      <td>1.04</td>\n",
              "      <td>y</td>\n",
              "      <td>6.0</td>\n",
              "    </tr>\n",
              "    <tr>\n",
              "      <th>4</th>\n",
              "      <td>hypothyroid</td>\n",
              "      <td>77.0</td>\n",
              "      <td>M</td>\n",
              "      <td>f</td>\n",
              "      <td>f</td>\n",
              "      <td>f</td>\n",
              "      <td>f</td>\n",
              "      <td>f</td>\n",
              "      <td>f</td>\n",
              "      <td>f</td>\n",
              "      <td>f</td>\n",
              "      <td>f</td>\n",
              "      <td>f</td>\n",
              "      <td>f</td>\n",
              "      <td>y</td>\n",
              "      <td>7.3</td>\n",
              "      <td>y</td>\n",
              "      <td>1.2</td>\n",
              "      <td>y</td>\n",
              "      <td>57.0</td>\n",
              "      <td>y</td>\n",
              "      <td>1.28</td>\n",
              "      <td>y</td>\n",
              "      <td>44.0</td>\n",
              "    </tr>\n",
              "  </tbody>\n",
              "</table>\n",
              "</div>"
            ],
            "text/plain": [
              "        status   age sex on_thyroxine  ... T4U_measured   T4U FTI_measured   FTI\n",
              "0  hypothyroid  72.0   M            f  ...            y  1.48            y  10.0\n",
              "1  hypothyroid  15.0   F            t  ...            y  1.13            y  17.0\n",
              "2  hypothyroid  24.0   M            f  ...            y  1.00            y   0.0\n",
              "3  hypothyroid  24.0   F            f  ...            y  1.04            y   6.0\n",
              "4  hypothyroid  77.0   M            f  ...            y  1.28            y  44.0\n",
              "\n",
              "[5 rows x 24 columns]"
            ]
          },
          "metadata": {
            "tags": []
          },
          "execution_count": 272
        }
      ]
    },
    {
      "cell_type": "code",
      "metadata": {
        "id": "_F-XneOwyWEJ",
        "outputId": "11def809-889e-4a3a-feb1-c2be522d0768",
        "colab": {
          "base_uri": "https://localhost:8080/",
          "height": 288
        }
      },
      "source": [
        "# checking the statistical summary of the cleaned data\n",
        "df1.describe()"
      ],
      "execution_count": 273,
      "outputs": [
        {
          "output_type": "execute_result",
          "data": {
            "text/html": [
              "<div>\n",
              "<style scoped>\n",
              "    .dataframe tbody tr th:only-of-type {\n",
              "        vertical-align: middle;\n",
              "    }\n",
              "\n",
              "    .dataframe tbody tr th {\n",
              "        vertical-align: top;\n",
              "    }\n",
              "\n",
              "    .dataframe thead th {\n",
              "        text-align: right;\n",
              "    }\n",
              "</style>\n",
              "<table border=\"1\" class=\"dataframe\">\n",
              "  <thead>\n",
              "    <tr style=\"text-align: right;\">\n",
              "      <th></th>\n",
              "      <th>age</th>\n",
              "      <th>TSH</th>\n",
              "      <th>T3</th>\n",
              "      <th>TT4</th>\n",
              "      <th>T4U</th>\n",
              "      <th>FTI</th>\n",
              "    </tr>\n",
              "  </thead>\n",
              "  <tbody>\n",
              "    <tr>\n",
              "      <th>count</th>\n",
              "      <td>2584.000000</td>\n",
              "      <td>2631.000000</td>\n",
              "      <td>2406.000000</td>\n",
              "      <td>2846.000000</td>\n",
              "      <td>2847.000000</td>\n",
              "      <td>2848.000000</td>\n",
              "    </tr>\n",
              "    <tr>\n",
              "      <th>mean</th>\n",
              "      <td>51.361068</td>\n",
              "      <td>5.809320</td>\n",
              "      <td>1.933666</td>\n",
              "      <td>108.706922</td>\n",
              "      <td>0.977559</td>\n",
              "      <td>115.489080</td>\n",
              "    </tr>\n",
              "    <tr>\n",
              "      <th>std</th>\n",
              "      <td>19.288226</td>\n",
              "      <td>24.023192</td>\n",
              "      <td>0.979488</td>\n",
              "      <td>44.606704</td>\n",
              "      <td>0.225796</td>\n",
              "      <td>60.147649</td>\n",
              "    </tr>\n",
              "    <tr>\n",
              "      <th>min</th>\n",
              "      <td>1.000000</td>\n",
              "      <td>0.000000</td>\n",
              "      <td>0.000000</td>\n",
              "      <td>2.000000</td>\n",
              "      <td>0.000000</td>\n",
              "      <td>0.000000</td>\n",
              "    </tr>\n",
              "    <tr>\n",
              "      <th>25%</th>\n",
              "      <td>35.000000</td>\n",
              "      <td>0.000000</td>\n",
              "      <td>1.400000</td>\n",
              "      <td>83.000000</td>\n",
              "      <td>0.850000</td>\n",
              "      <td>91.000000</td>\n",
              "    </tr>\n",
              "    <tr>\n",
              "      <th>50%</th>\n",
              "      <td>54.000000</td>\n",
              "      <td>0.700000</td>\n",
              "      <td>1.800000</td>\n",
              "      <td>104.000000</td>\n",
              "      <td>0.960000</td>\n",
              "      <td>107.000000</td>\n",
              "    </tr>\n",
              "    <tr>\n",
              "      <th>75%</th>\n",
              "      <td>67.000000</td>\n",
              "      <td>2.200000</td>\n",
              "      <td>2.300000</td>\n",
              "      <td>127.000000</td>\n",
              "      <td>1.060000</td>\n",
              "      <td>129.000000</td>\n",
              "    </tr>\n",
              "    <tr>\n",
              "      <th>max</th>\n",
              "      <td>98.000000</td>\n",
              "      <td>530.000000</td>\n",
              "      <td>10.200000</td>\n",
              "      <td>450.000000</td>\n",
              "      <td>2.210000</td>\n",
              "      <td>881.000000</td>\n",
              "    </tr>\n",
              "  </tbody>\n",
              "</table>\n",
              "</div>"
            ],
            "text/plain": [
              "               age          TSH  ...          T4U          FTI\n",
              "count  2584.000000  2631.000000  ...  2847.000000  2848.000000\n",
              "mean     51.361068     5.809320  ...     0.977559   115.489080\n",
              "std      19.288226    24.023192  ...     0.225796    60.147649\n",
              "min       1.000000     0.000000  ...     0.000000     0.000000\n",
              "25%      35.000000     0.000000  ...     0.850000    91.000000\n",
              "50%      54.000000     0.700000  ...     0.960000   107.000000\n",
              "75%      67.000000     2.200000  ...     1.060000   129.000000\n",
              "max      98.000000   530.000000  ...     2.210000   881.000000\n",
              "\n",
              "[8 rows x 6 columns]"
            ]
          },
          "metadata": {
            "tags": []
          },
          "execution_count": 273
        }
      ]
    },
    {
      "cell_type": "code",
      "metadata": {
        "id": "t-VS0ndkEA2C",
        "outputId": "9fefa540-723b-4115-bc5a-02b8d9945403",
        "colab": {
          "base_uri": "https://localhost:8080/",
          "height": 329
        }
      },
      "source": [
        "#counting the number of people who have tested negative and those who are hypothyroid.\n",
        "df1.status.value_counts().plot(kind = 'bar', rot = 0)\n",
        "print(df1.status.value_counts())"
      ],
      "execution_count": 274,
      "outputs": [
        {
          "output_type": "stream",
          "text": [
            "negative       2870\n",
            "hypothyroid     141\n",
            "Name: status, dtype: int64\n"
          ],
          "name": "stdout"
        },
        {
          "output_type": "display_data",
          "data": {
            "image/png": "[encoded data removed]",
            "text/plain": [
              "<Figure size 432x288 with 1 Axes>"
            ]
          },
          "metadata": {
            "tags": []
          }
        }
      ]
    },
    {
      "cell_type": "code",
      "metadata": {
        "id": "IhbRvif2Cs3A",
        "outputId": "e2f2854a-f292-495f-845f-796ddf5492e5",
        "colab": {
          "base_uri": "https://localhost:8080/",
          "height": 1000
        }
      },
      "source": [
        "#lets check the distribution of numerical columns\n",
        "dist_columns = ['age', 'FTI', 'T3', 'T4U', 'TSH', 'TT4']\n",
        "\n",
        "sns.set_style('darkgrid')\n",
        "fig, axes = plt.subplots(len(dist_columns), figsize = (10, 15))\n",
        "fig.suptitle('Distributions of numerical columns', y= 1.01, color = 'black', fontsize = 15)\n",
        "\n",
        "for ax, data, name in zip(axes.flatten(), df1, dist_columns):\n",
        " sns.distplot(df1[name], ax = ax, kde = True, color = 'purple')\n",
        "plt.tight_layout()"
      ],
      "execution_count": 275,
      "outputs": [
        {
          "output_type": "display_data",
          "data": {
            "image/png": "[encoded data removed]",
            "text/plain": [
              "<Figure size 720x1080 with 6 Axes>"
            ]
          },
          "metadata": {
            "tags": []
          }
        }
      ]
    },
    {
      "cell_type": "markdown",
      "metadata": {
        "id": "KF0kzOF_DD4F"
      },
      "source": [
        "comments:  age shows a bimodal distribution\n",
        "FTI and T3 shoes a bit or more than trimodal distribution with a thin curve and some skewness to the right\n",
        "T4U is a shows some bimodal distribution with majority of the data being normally distributed\n",
        "TSH is heavily skewed to the right\n",
        "TT4 is normally distributed"
      ]
    },
    {
      "cell_type": "markdown",
      "metadata": {
        "id": "SFPx2_rM1480"
      },
      "source": [
        "**BIVARIATE ANALYSIS**"
      ]
    },
    {
      "cell_type": "code",
      "metadata": {
        "id": "onpUJoiKyVTI",
        "outputId": "540efd88-2d51-4c86-917f-a5052c497244",
        "colab": {
          "base_uri": "https://localhost:8080/",
          "height": 307
        }
      },
      "source": [
        "#barchart comparing sex and status\n",
        "pd.crosstab(df1['status'], df1['sex']).plot(kind='bar', rot=0, fontsize=12)"
      ],
      "execution_count": 276,
      "outputs": [
        {
          "output_type": "execute_result",
          "data": {
            "text/plain": [
              "<matplotlib.axes._subplots.AxesSubplot at 0x7f36380e7e48>"
            ]
          },
          "metadata": {
            "tags": []
          },
          "execution_count": 276
        },
        {
          "output_type": "display_data",
          "data": {
            "image/png": "[encoded data removed]",
            "text/plain": [
              "<Figure size 432x288 with 1 Axes>"
            ]
          },
          "metadata": {
            "tags": []
          }
        }
      ]
    },
    {
      "cell_type": "code",
      "metadata": {
        "id": "z_CJiWmpDu2l",
        "outputId": "eafac634-3741-4342-aa56-78344b59ca06",
        "colab": {
          "base_uri": "https://localhost:8080/",
          "height": 307
        }
      },
      "source": [
        "pd.crosstab(df1['status'], df1['on_antithyroid_medication']).plot(kind='bar', rot=0, fontsize=12)\n",
        "# a few males who test negative are on antithyroid medication"
      ],
      "execution_count": 277,
      "outputs": [
        {
          "output_type": "execute_result",
          "data": {
            "text/plain": [
              "<matplotlib.axes._subplots.AxesSubplot at 0x7f3638124400>"
            ]
          },
          "metadata": {
            "tags": []
          },
          "execution_count": 277
        },
        {
          "output_type": "display_data",
          "data": {
            "image/png": "[encoded data removed]",
            "text/plain": [
              "<Figure size 432x288 with 1 Axes>"
            ]
          },
          "metadata": {
            "tags": []
          }
        }
      ]
    },
    {
      "cell_type": "code",
      "metadata": {
        "id": "WohdzpK3CrZQ"
      },
      "source": [
        "# splitting age into  age groups to get a deeper understanding of our data.\n",
        "conditions = [\n",
        "    ((df1.age >= 0) & (df1.age <= 9)),\n",
        "    ((df1.age >= 10) & (df1.age <= 19)),\n",
        "    ((df1.age >= 20) & (df1.age <= 29)),\n",
        "    ((df1.age >= 30) & (df1.age <= 39)),\n",
        "    ((df1.age >= 40) & (df1.age <= 49)),\n",
        "    ((df1.age >= 50) & (df1.age <= 59)),\n",
        "    ((df1.age >= 60) & (df1.age <= 69)),\n",
        "    ((df1.age >= 70) & (df1.age <= 79)),\n",
        "    ((df1.age >= 80) & (df1.age <= 89)),\n",
        "    ((df1.age >= 90) & (df1.age <= 98))\n",
        "]\n",
        "\n",
        "groups = ['G1', 'G2', 'G3', 'G4', 'G5', 'G6', 'G7', 'G8', 'G9','G10']\n",
        "#create a column that stores our new data\n",
        "df1['age'] = np.select(conditions, groups)\n"
      ],
      "execution_count": 278,
      "outputs": []
    },
    {
      "cell_type": "code",
      "metadata": {
        "id": "Ly7wOPzHDuqd",
        "outputId": "3b1c746c-8d58-4153-a7a2-eac1d6d00b0a",
        "colab": {
          "base_uri": "https://localhost:8080/",
          "height": 343
        }
      },
      "source": [
        "\n",
        "#plot a graph to show the distribution of hypothyroidism across different ages.\n",
        "age = sns.countplot('age', hue = 'status', data = df1)\n",
        "age.set(title = \"relation between the age and hypothyroidism\", ylabel = \"Status\")"
      ],
      "execution_count": 279,
      "outputs": [
        {
          "output_type": "execute_result",
          "data": {
            "text/plain": [
              "[Text(0, 0.5, 'Status'),\n",
              " Text(0.5, 1.0, 'relation between the age and hypothyroidism')]"
            ]
          },
          "metadata": {
            "tags": []
          },
          "execution_count": 279
        },
        {
          "output_type": "display_data",
          "data": {
            "image/png": "[encoded data removed]",
            "text/plain": [
              "<Figure size 432x288 with 1 Axes>"
            ]
          },
          "metadata": {
            "tags": []
          }
        }
      ]
    },
    {
      "cell_type": "markdown",
      "metadata": {
        "id": "eQZ7lyogDgs0"
      },
      "source": [
        "comment:we observe that more female have hypothyroid compared to male\n",
        "we also see that more female tested negative. thia is expected since more females took the test\n"
      ]
    },
    {
      "cell_type": "code",
      "metadata": {
        "id": "t8AtvArpFmu-",
        "outputId": "10dff7c1-88ae-406a-c51c-0c43da05eea2",
        "colab": {
          "base_uri": "https://localhost:8080/",
          "height": 307
        }
      },
      "source": [
        "pd.crosstab(df1['status'], df1['goitre']).plot(kind='bar', rot=0, fontsize=12)\n",
        "\n",
        "# a few patients who tested negative have goitre"
      ],
      "execution_count": 280,
      "outputs": [
        {
          "output_type": "execute_result",
          "data": {
            "text/plain": [
              "<matplotlib.axes._subplots.AxesSubplot at 0x7f363833eb38>"
            ]
          },
          "metadata": {
            "tags": []
          },
          "execution_count": 280
        },
        {
          "output_type": "display_data",
          "data": {
            "image/png": "[encoded data removed]",
            "text/plain": [
              "<Figure size 432x288 with 1 Axes>"
            ]
          },
          "metadata": {
            "tags": []
          }
        }
      ]
    },
    {
      "cell_type": "markdown",
      "metadata": {
        "id": "V6ycjaqIGI4P"
      },
      "source": [
        " comments:the numerical variables shows moderate to strong positive and negative correlation among each other. some have week negative correlation e.g T4U to FTI and age to TT4. let's explore this further by plotting pair plots below."
      ]
    },
    {
      "cell_type": "markdown",
      "metadata": {
        "id": "MHP6cH_X182l"
      },
      "source": [
        "**MULTIVARIATE ANALYSIS**"
      ]
    },
    {
      "cell_type": "code",
      "metadata": {
        "id": "wLo1r6wL1_9a",
        "outputId": "1396f245-8008-4c27-93e8-52f5cd20faf7",
        "colab": {
          "base_uri": "https://localhost:8080/",
          "height": 198
        }
      },
      "source": [
        "#checking the correlation\n",
        "corr = df1.corr()\n",
        "corr"
      ],
      "execution_count": 281,
      "outputs": [
        {
          "output_type": "execute_result",
          "data": {
            "text/html": [
              "<div>\n",
              "<style scoped>\n",
              "    .dataframe tbody tr th:only-of-type {\n",
              "        vertical-align: middle;\n",
              "    }\n",
              "\n",
              "    .dataframe tbody tr th {\n",
              "        vertical-align: top;\n",
              "    }\n",
              "\n",
              "    .dataframe thead th {\n",
              "        text-align: right;\n",
              "    }\n",
              "</style>\n",
              "<table border=\"1\" class=\"dataframe\">\n",
              "  <thead>\n",
              "    <tr style=\"text-align: right;\">\n",
              "      <th></th>\n",
              "      <th>TSH</th>\n",
              "      <th>T3</th>\n",
              "      <th>TT4</th>\n",
              "      <th>T4U</th>\n",
              "      <th>FTI</th>\n",
              "    </tr>\n",
              "  </thead>\n",
              "  <tbody>\n",
              "    <tr>\n",
              "      <th>TSH</th>\n",
              "      <td>1.000000</td>\n",
              "      <td>-0.184436</td>\n",
              "      <td>-0.321660</td>\n",
              "      <td>0.074867</td>\n",
              "      <td>-0.261213</td>\n",
              "    </tr>\n",
              "    <tr>\n",
              "      <th>T3</th>\n",
              "      <td>-0.184436</td>\n",
              "      <td>1.000000</td>\n",
              "      <td>0.590541</td>\n",
              "      <td>0.409381</td>\n",
              "      <td>0.314971</td>\n",
              "    </tr>\n",
              "    <tr>\n",
              "      <th>TT4</th>\n",
              "      <td>-0.321660</td>\n",
              "      <td>0.590541</td>\n",
              "      <td>1.000000</td>\n",
              "      <td>0.320452</td>\n",
              "      <td>0.677444</td>\n",
              "    </tr>\n",
              "    <tr>\n",
              "      <th>T4U</th>\n",
              "      <td>0.074867</td>\n",
              "      <td>0.409381</td>\n",
              "      <td>0.320452</td>\n",
              "      <td>1.000000</td>\n",
              "      <td>-0.294470</td>\n",
              "    </tr>\n",
              "    <tr>\n",
              "      <th>FTI</th>\n",
              "      <td>-0.261213</td>\n",
              "      <td>0.314971</td>\n",
              "      <td>0.677444</td>\n",
              "      <td>-0.294470</td>\n",
              "      <td>1.000000</td>\n",
              "    </tr>\n",
              "  </tbody>\n",
              "</table>\n",
              "</div>"
            ],
            "text/plain": [
              "          TSH        T3       TT4       T4U       FTI\n",
              "TSH  1.000000 -0.184436 -0.321660  0.074867 -0.261213\n",
              "T3  -0.184436  1.000000  0.590541  0.409381  0.314971\n",
              "TT4 -0.321660  0.590541  1.000000  0.320452  0.677444\n",
              "T4U  0.074867  0.409381  0.320452  1.000000 -0.294470\n",
              "FTI -0.261213  0.314971  0.677444 -0.294470  1.000000"
            ]
          },
          "metadata": {
            "tags": []
          },
          "execution_count": 281
        }
      ]
    },
    {
      "cell_type": "markdown",
      "metadata": {
        "id": "ineDpP3tGlI0"
      },
      "source": [
        "the relation to itself is 1, has expected. TBG,T4U,TT4,T3 have an inverse relation to age"
      ]
    },
    {
      "cell_type": "markdown",
      "metadata": {
        "id": "-CC6VHj2G7Az"
      },
      "source": [
        "# MODELLING"
      ]
    },
    {
      "cell_type": "markdown",
      "metadata": {
        "id": "3E3ElenYHv2A"
      },
      "source": [
        "**DATA PREPROCESSING**"
      ]
    },
    {
      "cell_type": "code",
      "metadata": {
        "id": "cz5Jptvl2A8a"
      },
      "source": [
        "# since most of the categorical columns are in string format,\n",
        "# there is need to encode the data to numerical before we begin modeling\n",
        "# we will use label encoding (.cat.codes)\n",
        "\n",
        "df1['status'] = df1['status'].cat.codes\n",
        "df1['sex'] = df1['sex'].cat.codes\n",
        "df1['on_thyroxine'] = df1['on_thyroxine'].cat.codes\n",
        "df1['query_on_thyroxine'] = df1['query_on_thyroxine'].cat.codes\n",
        "df1['on_antithyroid_medication'] = df1['on_antithyroid_medication'].cat.codes\n",
        "df1['thyroid_surgery'] = df1['thyroid_surgery'].cat.codes\n",
        "df1['query_hypothyroid'] = df1['query_hypothyroid'].cat.codes\n",
        "df1['query_hyperthyroid'] = df1['query_hyperthyroid'].cat.codes\n",
        "df1['pregnant'] = df1['pregnant'].cat.codes\n",
        "\n",
        "df1['sick'] = df1['sick'].cat.codes\n",
        "df1['tumor'] = df1['tumor'].cat.codes\n",
        "df1['lithium'] = df1['lithium'].cat.codes\n",
        "df1['goitre'] = df1['goitre'].cat.codes\n",
        "df1['TSH_measured'] = df1['TSH_measured'].cat.codes\n",
        "df1['T3_measured'] = df1['T3_measured'].cat.codes\n",
        "df1['TT4_measured'] = df1['TT4_measured'].cat.codes\n",
        "df1['T4U_measured'] = df1['T4U_measured'].cat.codes\n",
        "df1['FTI_measured'] = df1['FTI_measured'].cat.codes"
      ],
      "execution_count": 282,
      "outputs": []
    },
    {
      "cell_type": "code",
      "metadata": {
        "id": "bZv45cAi2A_d",
        "outputId": "18a8eb4e-145f-47ca-aae6-ea9b2627c7a1",
        "colab": {
          "base_uri": "https://localhost:8080/",
          "height": 472
        }
      },
      "source": [
        "# checking for data types. \n",
        "df1.dtypes"
      ],
      "execution_count": 283,
      "outputs": [
        {
          "output_type": "execute_result",
          "data": {
            "text/plain": [
              "status                          int8\n",
              "age                           object\n",
              "sex                             int8\n",
              "on_thyroxine                    int8\n",
              "query_on_thyroxine              int8\n",
              "on_antithyroid_medication       int8\n",
              "thyroid_surgery                 int8\n",
              "query_hypothyroid               int8\n",
              "query_hyperthyroid              int8\n",
              "pregnant                        int8\n",
              "sick                            int8\n",
              "tumor                           int8\n",
              "lithium                         int8\n",
              "goitre                          int8\n",
              "TSH_measured                    int8\n",
              "TSH                          float64\n",
              "T3_measured                     int8\n",
              "T3                           float64\n",
              "TT4_measured                    int8\n",
              "TT4                          float64\n",
              "T4U_measured                    int8\n",
              "T4U                          float64\n",
              "FTI_measured                    int8\n",
              "FTI                          float64\n",
              "dtype: object"
            ]
          },
          "metadata": {
            "tags": []
          },
          "execution_count": 283
        }
      ]
    },
    {
      "cell_type": "code",
      "metadata": {
        "id": "UfC9rrb22BFz",
        "outputId": "be8455b2-23e7-466b-946e-18f4d3ea10f3",
        "colab": {
          "base_uri": "https://localhost:8080/",
          "height": 472
        }
      },
      "source": [
        "# converting int8 to int64\n",
        "\n",
        "df1['status'] = df1['status'].astype('int64')\n",
        "df1['sex'] = df1['sex'].astype('int64')\n",
        "df1['on_thyroxine'] = df1['on_thyroxine'].astype('int64')\n",
        "df1['query_on_thyroxine'] = df1['query_on_thyroxine'].astype('int64')\n",
        "df1['on_antithyroid_medication'] = df1['on_antithyroid_medication'].astype('int64')\n",
        "df1['thyroid_surgery'] = df1['thyroid_surgery'].astype('int64')\n",
        "df1['query_hypothyroid'] = df1['query_hypothyroid'].astype('int64')\n",
        "df1['query_hyperthyroid'] = df1['query_hyperthyroid'].astype('int64')\n",
        "df1['pregnant'] = df1['pregnant'].astype('int64')\n",
        "\n",
        "df1['sick'] = df1['sick'].astype('int64')\n",
        "df1['tumor'] = df1['tumor'].astype('int64')\n",
        "df1['lithium'] = df1['lithium'].astype('int64')\n",
        "df1['goitre'] = df1['goitre'].astype('int64')\n",
        "df1['TSH_measured'] = df1['TSH_measured'].astype('int64')\n",
        "df1['T3_measured'] = df1['T3_measured'].astype('int64')\n",
        "df1['TT4_measured'] = df1['TT4_measured'].astype('int64')\n",
        "df1['T4U_measured'] = df1['T4U_measured'].astype('int64')\n",
        "df1['FTI_measured'] = df1['FTI_measured'].astype('int64')\n",
        "df1.dtypes"
      ],
      "execution_count": 284,
      "outputs": [
        {
          "output_type": "execute_result",
          "data": {
            "text/plain": [
              "status                         int64\n",
              "age                           object\n",
              "sex                            int64\n",
              "on_thyroxine                   int64\n",
              "query_on_thyroxine             int64\n",
              "on_antithyroid_medication      int64\n",
              "thyroid_surgery                int64\n",
              "query_hypothyroid              int64\n",
              "query_hyperthyroid             int64\n",
              "pregnant                       int64\n",
              "sick                           int64\n",
              "tumor                          int64\n",
              "lithium                        int64\n",
              "goitre                         int64\n",
              "TSH_measured                   int64\n",
              "TSH                          float64\n",
              "T3_measured                    int64\n",
              "T3                           float64\n",
              "TT4_measured                   int64\n",
              "TT4                          float64\n",
              "T4U_measured                   int64\n",
              "T4U                          float64\n",
              "FTI_measured                   int64\n",
              "FTI                          float64\n",
              "dtype: object"
            ]
          },
          "metadata": {
            "tags": []
          },
          "execution_count": 284
        }
      ]
    },
    {
      "cell_type": "code",
      "metadata": {
        "id": "FGiphK7Y2BSw",
        "outputId": "f25f0b40-de6d-452b-f98b-ca9046cd558b",
        "colab": {
          "base_uri": "https://localhost:8080/",
          "height": 218
        }
      },
      "source": [
        "df1.head()"
      ],
      "execution_count": 285,
      "outputs": [
        {
          "output_type": "execute_result",
          "data": {
            "text/html": [
              "<div>\n",
              "<style scoped>\n",
              "    .dataframe tbody tr th:only-of-type {\n",
              "        vertical-align: middle;\n",
              "    }\n",
              "\n",
              "    .dataframe tbody tr th {\n",
              "        vertical-align: top;\n",
              "    }\n",
              "\n",
              "    .dataframe thead th {\n",
              "        text-align: right;\n",
              "    }\n",
              "</style>\n",
              "<table border=\"1\" class=\"dataframe\">\n",
              "  <thead>\n",
              "    <tr style=\"text-align: right;\">\n",
              "      <th></th>\n",
              "      <th>status</th>\n",
              "      <th>age</th>\n",
              "      <th>sex</th>\n",
              "      <th>on_thyroxine</th>\n",
              "      <th>query_on_thyroxine</th>\n",
              "      <th>on_antithyroid_medication</th>\n",
              "      <th>thyroid_surgery</th>\n",
              "      <th>query_hypothyroid</th>\n",
              "      <th>query_hyperthyroid</th>\n",
              "      <th>pregnant</th>\n",
              "      <th>sick</th>\n",
              "      <th>tumor</th>\n",
              "      <th>lithium</th>\n",
              "      <th>goitre</th>\n",
              "      <th>TSH_measured</th>\n",
              "      <th>TSH</th>\n",
              "      <th>T3_measured</th>\n",
              "      <th>T3</th>\n",
              "      <th>TT4_measured</th>\n",
              "      <th>TT4</th>\n",
              "      <th>T4U_measured</th>\n",
              "      <th>T4U</th>\n",
              "      <th>FTI_measured</th>\n",
              "      <th>FTI</th>\n",
              "    </tr>\n",
              "  </thead>\n",
              "  <tbody>\n",
              "    <tr>\n",
              "      <th>0</th>\n",
              "      <td>0</td>\n",
              "      <td>G8</td>\n",
              "      <td>2</td>\n",
              "      <td>0</td>\n",
              "      <td>0</td>\n",
              "      <td>0</td>\n",
              "      <td>0</td>\n",
              "      <td>0</td>\n",
              "      <td>0</td>\n",
              "      <td>0</td>\n",
              "      <td>0</td>\n",
              "      <td>0</td>\n",
              "      <td>0</td>\n",
              "      <td>0</td>\n",
              "      <td>1</td>\n",
              "      <td>30.0</td>\n",
              "      <td>1</td>\n",
              "      <td>0.6</td>\n",
              "      <td>1</td>\n",
              "      <td>15.0</td>\n",
              "      <td>1</td>\n",
              "      <td>1.48</td>\n",
              "      <td>1</td>\n",
              "      <td>10.0</td>\n",
              "    </tr>\n",
              "    <tr>\n",
              "      <th>1</th>\n",
              "      <td>0</td>\n",
              "      <td>G2</td>\n",
              "      <td>1</td>\n",
              "      <td>1</td>\n",
              "      <td>0</td>\n",
              "      <td>0</td>\n",
              "      <td>0</td>\n",
              "      <td>0</td>\n",
              "      <td>0</td>\n",
              "      <td>0</td>\n",
              "      <td>0</td>\n",
              "      <td>0</td>\n",
              "      <td>0</td>\n",
              "      <td>0</td>\n",
              "      <td>1</td>\n",
              "      <td>145.0</td>\n",
              "      <td>1</td>\n",
              "      <td>1.7</td>\n",
              "      <td>1</td>\n",
              "      <td>19.0</td>\n",
              "      <td>1</td>\n",
              "      <td>1.13</td>\n",
              "      <td>1</td>\n",
              "      <td>17.0</td>\n",
              "    </tr>\n",
              "    <tr>\n",
              "      <th>2</th>\n",
              "      <td>0</td>\n",
              "      <td>G3</td>\n",
              "      <td>2</td>\n",
              "      <td>0</td>\n",
              "      <td>0</td>\n",
              "      <td>0</td>\n",
              "      <td>0</td>\n",
              "      <td>0</td>\n",
              "      <td>0</td>\n",
              "      <td>0</td>\n",
              "      <td>0</td>\n",
              "      <td>0</td>\n",
              "      <td>0</td>\n",
              "      <td>0</td>\n",
              "      <td>1</td>\n",
              "      <td>0.0</td>\n",
              "      <td>1</td>\n",
              "      <td>0.2</td>\n",
              "      <td>1</td>\n",
              "      <td>4.0</td>\n",
              "      <td>1</td>\n",
              "      <td>1.00</td>\n",
              "      <td>1</td>\n",
              "      <td>0.0</td>\n",
              "    </tr>\n",
              "    <tr>\n",
              "      <th>3</th>\n",
              "      <td>0</td>\n",
              "      <td>G3</td>\n",
              "      <td>1</td>\n",
              "      <td>0</td>\n",
              "      <td>0</td>\n",
              "      <td>0</td>\n",
              "      <td>0</td>\n",
              "      <td>0</td>\n",
              "      <td>0</td>\n",
              "      <td>0</td>\n",
              "      <td>0</td>\n",
              "      <td>0</td>\n",
              "      <td>0</td>\n",
              "      <td>0</td>\n",
              "      <td>1</td>\n",
              "      <td>430.0</td>\n",
              "      <td>1</td>\n",
              "      <td>0.4</td>\n",
              "      <td>1</td>\n",
              "      <td>6.0</td>\n",
              "      <td>1</td>\n",
              "      <td>1.04</td>\n",
              "      <td>1</td>\n",
              "      <td>6.0</td>\n",
              "    </tr>\n",
              "    <tr>\n",
              "      <th>4</th>\n",
              "      <td>0</td>\n",
              "      <td>G8</td>\n",
              "      <td>2</td>\n",
              "      <td>0</td>\n",
              "      <td>0</td>\n",
              "      <td>0</td>\n",
              "      <td>0</td>\n",
              "      <td>0</td>\n",
              "      <td>0</td>\n",
              "      <td>0</td>\n",
              "      <td>0</td>\n",
              "      <td>0</td>\n",
              "      <td>0</td>\n",
              "      <td>0</td>\n",
              "      <td>1</td>\n",
              "      <td>7.3</td>\n",
              "      <td>1</td>\n",
              "      <td>1.2</td>\n",
              "      <td>1</td>\n",
              "      <td>57.0</td>\n",
              "      <td>1</td>\n",
              "      <td>1.28</td>\n",
              "      <td>1</td>\n",
              "      <td>44.0</td>\n",
              "    </tr>\n",
              "  </tbody>\n",
              "</table>\n",
              "</div>"
            ],
            "text/plain": [
              "   status age  sex  on_thyroxine  ...  T4U_measured   T4U  FTI_measured   FTI\n",
              "0       0  G8    2             0  ...             1  1.48             1  10.0\n",
              "1       0  G2    1             1  ...             1  1.13             1  17.0\n",
              "2       0  G3    2             0  ...             1  1.00             1   0.0\n",
              "3       0  G3    1             0  ...             1  1.04             1   6.0\n",
              "4       0  G8    2             0  ...             1  1.28             1  44.0\n",
              "\n",
              "[5 rows x 24 columns]"
            ]
          },
          "metadata": {
            "tags": []
          },
          "execution_count": 285
        }
      ]
    },
    {
      "cell_type": "markdown",
      "metadata": {
        "id": "8bXrho_PIIKG"
      },
      "source": [
        "**RANDOM FORESTS**"
      ]
    },
    {
      "cell_type": "code",
      "metadata": {
        "id": "FhJ2tkQc2BYg"
      },
      "source": [
        "# splitting data into features and label\n",
        "\n",
        "features = ['age', 'sex', 'on_thyroxine', 'query_on_thyroxine',\n",
        "       'on_antithyroid_medication', 'thyroid_surgery', 'query_hypothyroid',\n",
        "       'query_hyperthyroid', 'pregnant', 'sick', 'tumor', 'lithium', 'goitre',\n",
        "       'TSH_measured', 'TSH', 'T3_measured', 'T3', 'TT4_measured', 'TT4',\n",
        "       'T4U_measured', 'T4U', 'FTI_measured', 'FTI']\n",
        "X = df1[features].values\n",
        "y = df1['status'].values\n",
        "# training data using 80% of our data\n",
        "X_train, X_test, y_train, y_test = train_test_split(X,y, test_size = 0.2, random_state=0)\n",
        "\n",
        "# assigning number of trees to use to a variable\n",
        "target_number_of_trees =100\n",
        "\n"
      ],
      "execution_count": 286,
      "outputs": []
    },
    {
      "cell_type": "code",
      "metadata": {
        "id": "ahEyrlPr2Bxz"
      },
      "source": [
        ""
      ],
      "execution_count": 286,
      "outputs": []
    },
    {
      "cell_type": "code",
      "metadata": {
        "id": "-w9Vy63h2Bup"
      },
      "source": [
        ""
      ],
      "execution_count": 286,
      "outputs": []
    },
    {
      "cell_type": "code",
      "metadata": {
        "id": "TBfcB1fS2BpL"
      },
      "source": [
        ""
      ],
      "execution_count": 286,
      "outputs": []
    },
    {
      "cell_type": "code",
      "metadata": {
        "id": "8bJh09152Bnh"
      },
      "source": [
        ""
      ],
      "execution_count": 286,
      "outputs": []
    },
    {
      "cell_type": "code",
      "metadata": {
        "id": "lKEQ15D62BgS"
      },
      "source": [
        ""
      ],
      "execution_count": 286,
      "outputs": []
    },
    {
      "cell_type": "code",
      "metadata": {
        "id": "sD4zri9e2Bd3"
      },
      "source": [
        ""
      ],
      "execution_count": 286,
      "outputs": []
    },
    {
      "cell_type": "code",
      "metadata": {
        "id": "co_j9Vxo2Bcr"
      },
      "source": [
        ""
      ],
      "execution_count": 286,
      "outputs": []
    },
    {
      "cell_type": "code",
      "metadata": {
        "id": "bGMxwlhA2BWf"
      },
      "source": [
        ""
      ],
      "execution_count": 286,
      "outputs": []
    },
    {
      "cell_type": "code",
      "metadata": {
        "id": "uvJjxUaH2BRR"
      },
      "source": [
        ""
      ],
      "execution_count": 286,
      "outputs": []
    },
    {
      "cell_type": "code",
      "metadata": {
        "id": "TW8-FPb_2BDC"
      },
      "source": [
        ""
      ],
      "execution_count": 286,
      "outputs": []
    },
    {
      "cell_type": "code",
      "metadata": {
        "id": "cvGX0iQs2A6R"
      },
      "source": [
        ""
      ],
      "execution_count": 286,
      "outputs": []
    },
    {
      "cell_type": "code",
      "metadata": {
        "id": "Rn2N7zZm2A4o"
      },
      "source": [
        ""
      ],
      "execution_count": 286,
      "outputs": []
    },
    {
      "cell_type": "code",
      "metadata": {
        "id": "lZZ0FzmK2Ayg"
      },
      "source": [
        ""
      ],
      "execution_count": 286,
      "outputs": []
    },
    {
      "cell_type": "code",
      "metadata": {
        "id": "rsPfo64Y2AtX"
      },
      "source": [
        ""
      ],
      "execution_count": 286,
      "outputs": []
    },
    {
      "cell_type": "code",
      "metadata": {
        "id": "FdpBKXB41_7h"
      },
      "source": [
        ""
      ],
      "execution_count": 286,
      "outputs": []
    }
  ]
}