{
  "nbformat": 4,
  "nbformat_minor": 0,
  "metadata": {
    "colab": {
      "name": "WEEK 8 IP-THYROID-MollyAbisage",
      "provenance": [],
      "collapsed_sections": [
        "_RIKK4Gm1mmV"
      ],
      "authorship_tag": "ABX9TyP/+IuticvvRC82a1+41p8b",
      "include_colab_link": true
    },
    "kernelspec": {
      "name": "python3",
      "display_name": "Python 3"
    }
  },
  "cells": [
    {
      "cell_type": "markdown",
      "metadata": {
        "id": "view-in-github",
        "colab_type": "text"
      },
      "source": [
        "<a href=\"https://colab.research.google.com/github/Molly-Abisage/N.H-HYPOTHYROID/blob/main/WEEK_8_IP_THYROID_MollyAbisage.ipynb\" target=\"_parent\"><img src=\"https://colab.research.google.com/assets/colab-badge.svg\" alt=\"Open In Colab\"/></a>"
      ]
    },
    {
      "cell_type": "markdown",
      "metadata": {
        "id": "_RIKK4Gm1mmV"
      },
      "source": [
        "# NAIROBI HOSPITAL HYPOTHYROIDISM TEST"
      ]
    },
    {
      "cell_type": "markdown",
      "metadata": {
        "id": "ohJCf8dsZqLs"
      },
      "source": [
        "\n",
        "**OVERVIEW**\n",
        "\n",
        "Nairobi hospital conducted a clinical camp to test for hypothyroidism amondst thyroid patients. we are using this data to accomplish the following\n",
        "\n",
        "build a model that determines whether or not the patient's symptoms indicate that the patient has hypothyroid.\n",
        "\n",
        "part 1: build decision trees\n",
        "\n",
        "part 2: SVM\n",
        "\n",
        "**QUESTION DEFINITION**\n",
        "\n",
        "predict if the symptoms of a patient indicates that the patient has hypothyroid.\n",
        "\n",
        "**METRICS OF SUCCESS**\n",
        "\n",
        "We are diagnosing if the variables we have indicate that the patient has hypothyroidism. a high accuracy is what we expect , not so accurate model means wrong diagnosing and would give rise to wrong medication which can cost lifes.\n",
        "\n",
        "**CONTEXT**\n",
        "column description\n",
        "\n",
        "status - tells us if the patient is negative or has hypothyroidism\n",
        "\n",
        "age - how old is the patient\n",
        "\n",
        "sex - if the patient is male or female\n",
        "\n",
        "on_thyroxine - True /False\n",
        "\n",
        "query_on_thyroxine\n",
        "\n",
        "on_antithyroid_medication - if the patient is on medication\n",
        "\n",
        "thyroid_surgery - if the patient has had thyroid surgery\n",
        "\n",
        "query_hypothyroid\n",
        "\n",
        "query_hyperthyroid\n",
        "\n",
        "pregnant - if the patient is pregnant,true or false\n",
        "\n",
        "sick - if the patient is sick,\n",
        "\n",
        "tumor - if the patient has tumor\n",
        "\n",
        "lithium\n",
        "\n",
        "goitre - if the patient has goitre\n",
        "\n",
        "TSH_measured - if a blood test has been done to measure the hormone\n",
        "\n",
        "TSH - thyroid stimulating hormone , tells the thyroid to release thyroid hormone to the blood.\n",
        "\n",
        "T3_measured - if T3 measurement has been done\n",
        "\n",
        "T3 - triiodothyronine , this is a thyroid hormone produced in the thyroid glands\n",
        "\n",
        "TT4_measured\n",
        "\n",
        "TT4 - thyroxine , the principla hormone from the thyroid gland.\n",
        "\n",
        "T4U_measured - true / false\n",
        "\n",
        "T4U - thyroid hormone produced in the thyroid glands(thyroxine)/levothyroxine\n",
        "\n",
        "FTI_measured - if FTI has been measured\n",
        "\n",
        "FTI - free thyroxine index, it is considered more indicator of thyroid, obtained by nultiplying Total T4 and T3 uptake.\n",
        "\n",
        "TBG_measured - if TBG has been measured.\n",
        "\n",
        "TBG - thyroid binding globulin, binds thyroid hormones in circulation\n",
        "\n",
        "**EXPERIMENTAL DESIGN**\n",
        "\n",
        "Recording the Experimental Design;-  \n",
        "Below are the steps that will be conducted in this analysis in order to respond to the research question comprehensively:\n",
        "\n",
        "Load data and preview preliminary characteristics\n",
        "Data Cleaning (check for and deal with outliers, anomalies and missing data)\n",
        "Exploratory Analysis\n",
        "Implementing the Solution\n",
        "Challenging the Solution\n",
        "Follow Up Questions"
      ]
    },
    {
      "cell_type": "markdown",
      "metadata": {
        "id": "bAgJuAkW0Pey"
      },
      "source": [
        "# LOAD AND TIDYING THE DATASET"
      ]
    },
    {
      "cell_type": "code",
      "metadata": {
        "id": "xR8tk3oQv21n"
      },
      "source": [
        "\n",
        "import pandas as pd\n",
        "import numpy as np\n",
        "import matplotlib.pyplot as plt\n",
        "%matplotlib inline\n",
        "import seaborn as sns\n",
        "import scipy as sp\n",
        "\n",
        "from sklearn.model_selection import train_test_split\n",
        "from sklearn.preprocessing import StandardScaler\n",
        "from sklearn.decomposition import PCA\n",
        "from sklearn.ensemble import RandomForestClassifier\n",
        "from sklearn.metrics import confusion_matrix\n",
        "from sklearn.metrics import accuracy_score\n",
        "from sklearn.linear_model import LinearRegression\n",
        "from sklearn import metrics\n",
        "import pandas as pd\n",
        "import numpy as np\n",
        "import seaborn as sns\n",
        "import matplotlib.pyplot as plt\n",
        "\n",
        "from sklearn.ensemble import GradientBoostingClassifier\n",
        "from sklearn.tree import DecisionTreeClassifier\n",
        "from sklearn.svm import SVC\n",
        "from sklearn.metrics import confusion_matrix, accuracy_score\n",
        "import seaborn as sns; sns.set(font_scale=1.2)\n",
        "\n",
        "import warnings\n",
        "warnings.filterwarnings('ignore')"
      ],
      "execution_count": 110,
      "outputs": []
    },
    {
      "cell_type": "code",
      "metadata": {
        "id": "K3Qmt8HHZv3p",
        "outputId": "b0eccc36-ce5d-492e-e950-ed5c7b54fbc5",
        "colab": {
          "base_uri": "https://localhost:8080/",
          "height": 218
        }
      },
      "source": [
        "hypothy = pd.read_csv('/content/hypothyroid.csv')\n",
        "# previewing a sample of the data\n",
        "\n",
        "hypothy.sample(n=5)"
      ],
      "execution_count": 111,
      "outputs": [
        {
          "output_type": "execute_result",
          "data": {
            "text/html": [
              "<div>\n",
              "<style scoped>\n",
              "    .dataframe tbody tr th:only-of-type {\n",
              "        vertical-align: middle;\n",
              "    }\n",
              "\n",
              "    .dataframe tbody tr th {\n",
              "        vertical-align: top;\n",
              "    }\n",
              "\n",
              "    .dataframe thead th {\n",
              "        text-align: right;\n",
              "    }\n",
              "</style>\n",
              "<table border=\"1\" class=\"dataframe\">\n",
              "  <thead>\n",
              "    <tr style=\"text-align: right;\">\n",
              "      <th></th>\n",
              "      <th>status</th>\n",
              "      <th>age</th>\n",
              "      <th>sex</th>\n",
              "      <th>on_thyroxine</th>\n",
              "      <th>query_on_thyroxine</th>\n",
              "      <th>on_antithyroid_medication</th>\n",
              "      <th>thyroid_surgery</th>\n",
              "      <th>query_hypothyroid</th>\n",
              "      <th>query_hyperthyroid</th>\n",
              "      <th>pregnant</th>\n",
              "      <th>sick</th>\n",
              "      <th>tumor</th>\n",
              "      <th>lithium</th>\n",
              "      <th>goitre</th>\n",
              "      <th>TSH_measured</th>\n",
              "      <th>TSH</th>\n",
              "      <th>T3_measured</th>\n",
              "      <th>T3</th>\n",
              "      <th>TT4_measured</th>\n",
              "      <th>TT4</th>\n",
              "      <th>T4U_measured</th>\n",
              "      <th>T4U</th>\n",
              "      <th>FTI_measured</th>\n",
              "      <th>FTI</th>\n",
              "      <th>TBG_measured</th>\n",
              "      <th>TBG</th>\n",
              "    </tr>\n",
              "  </thead>\n",
              "  <tbody>\n",
              "    <tr>\n",
              "      <th>2713</th>\n",
              "      <td>negative</td>\n",
              "      <td>47</td>\n",
              "      <td>F</td>\n",
              "      <td>f</td>\n",
              "      <td>f</td>\n",
              "      <td>f</td>\n",
              "      <td>f</td>\n",
              "      <td>f</td>\n",
              "      <td>t</td>\n",
              "      <td>f</td>\n",
              "      <td>f</td>\n",
              "      <td>f</td>\n",
              "      <td>f</td>\n",
              "      <td>f</td>\n",
              "      <td>y</td>\n",
              "      <td>0.15</td>\n",
              "      <td>y</td>\n",
              "      <td>4.30</td>\n",
              "      <td>y</td>\n",
              "      <td>189</td>\n",
              "      <td>y</td>\n",
              "      <td>1.07</td>\n",
              "      <td>y</td>\n",
              "      <td>176</td>\n",
              "      <td>n</td>\n",
              "      <td>?</td>\n",
              "    </tr>\n",
              "    <tr>\n",
              "      <th>1388</th>\n",
              "      <td>negative</td>\n",
              "      <td>70</td>\n",
              "      <td>F</td>\n",
              "      <td>f</td>\n",
              "      <td>f</td>\n",
              "      <td>f</td>\n",
              "      <td>f</td>\n",
              "      <td>f</td>\n",
              "      <td>f</td>\n",
              "      <td>f</td>\n",
              "      <td>f</td>\n",
              "      <td>f</td>\n",
              "      <td>f</td>\n",
              "      <td>f</td>\n",
              "      <td>y</td>\n",
              "      <td>0</td>\n",
              "      <td>y</td>\n",
              "      <td>1.70</td>\n",
              "      <td>y</td>\n",
              "      <td>213</td>\n",
              "      <td>y</td>\n",
              "      <td>1</td>\n",
              "      <td>y</td>\n",
              "      <td>213</td>\n",
              "      <td>n</td>\n",
              "      <td>?</td>\n",
              "    </tr>\n",
              "    <tr>\n",
              "      <th>632</th>\n",
              "      <td>negative</td>\n",
              "      <td>69</td>\n",
              "      <td>F</td>\n",
              "      <td>t</td>\n",
              "      <td>f</td>\n",
              "      <td>f</td>\n",
              "      <td>f</td>\n",
              "      <td>f</td>\n",
              "      <td>f</td>\n",
              "      <td>f</td>\n",
              "      <td>f</td>\n",
              "      <td>f</td>\n",
              "      <td>f</td>\n",
              "      <td>f</td>\n",
              "      <td>y</td>\n",
              "      <td>0.80</td>\n",
              "      <td>y</td>\n",
              "      <td>1.20</td>\n",
              "      <td>y</td>\n",
              "      <td>60</td>\n",
              "      <td>y</td>\n",
              "      <td>1.11</td>\n",
              "      <td>y</td>\n",
              "      <td>54</td>\n",
              "      <td>n</td>\n",
              "      <td>?</td>\n",
              "    </tr>\n",
              "    <tr>\n",
              "      <th>2778</th>\n",
              "      <td>negative</td>\n",
              "      <td>52</td>\n",
              "      <td>M</td>\n",
              "      <td>f</td>\n",
              "      <td>f</td>\n",
              "      <td>f</td>\n",
              "      <td>f</td>\n",
              "      <td>f</td>\n",
              "      <td>f</td>\n",
              "      <td>f</td>\n",
              "      <td>f</td>\n",
              "      <td>f</td>\n",
              "      <td>f</td>\n",
              "      <td>f</td>\n",
              "      <td>y</td>\n",
              "      <td>1.10</td>\n",
              "      <td>y</td>\n",
              "      <td>2.70</td>\n",
              "      <td>y</td>\n",
              "      <td>159</td>\n",
              "      <td>y</td>\n",
              "      <td>1.19</td>\n",
              "      <td>y</td>\n",
              "      <td>134</td>\n",
              "      <td>n</td>\n",
              "      <td>?</td>\n",
              "    </tr>\n",
              "    <tr>\n",
              "      <th>2715</th>\n",
              "      <td>negative</td>\n",
              "      <td>?</td>\n",
              "      <td>F</td>\n",
              "      <td>t</td>\n",
              "      <td>f</td>\n",
              "      <td>f</td>\n",
              "      <td>f</td>\n",
              "      <td>f</td>\n",
              "      <td>f</td>\n",
              "      <td>f</td>\n",
              "      <td>f</td>\n",
              "      <td>f</td>\n",
              "      <td>f</td>\n",
              "      <td>f</td>\n",
              "      <td>y</td>\n",
              "      <td>2.10</td>\n",
              "      <td>y</td>\n",
              "      <td>4.50</td>\n",
              "      <td>y</td>\n",
              "      <td>208</td>\n",
              "      <td>y</td>\n",
              "      <td>1.76</td>\n",
              "      <td>y</td>\n",
              "      <td>118</td>\n",
              "      <td>n</td>\n",
              "      <td>?</td>\n",
              "    </tr>\n",
              "  </tbody>\n",
              "</table>\n",
              "</div>"
            ],
            "text/plain": [
              "        status age sex on_thyroxine  ... FTI_measured  FTI TBG_measured TBG\n",
              "2713  negative  47   F            f  ...            y  176            n   ?\n",
              "1388  negative  70   F            f  ...            y  213            n   ?\n",
              "632   negative  69   F            t  ...            y   54            n   ?\n",
              "2778  negative  52   M            f  ...            y  134            n   ?\n",
              "2715  negative   ?   F            t  ...            y  118            n   ?\n",
              "\n",
              "[5 rows x 26 columns]"
            ]
          },
          "metadata": {
            "tags": []
          },
          "execution_count": 111
        }
      ]
    },
    {
      "cell_type": "code",
      "metadata": {
        "id": "EG7Fhuh0Xbfs",
        "outputId": "82fac17c-68ba-4bee-8e00-206d83eb3536",
        "colab": {
          "base_uri": "https://localhost:8080/",
          "height": 218
        }
      },
      "source": [
        "#preview the head\n",
        "hypothy.head(5)"
      ],
      "execution_count": 112,
      "outputs": [
        {
          "output_type": "execute_result",
          "data": {
            "text/html": [
              "<div>\n",
              "<style scoped>\n",
              "    .dataframe tbody tr th:only-of-type {\n",
              "        vertical-align: middle;\n",
              "    }\n",
              "\n",
              "    .dataframe tbody tr th {\n",
              "        vertical-align: top;\n",
              "    }\n",
              "\n",
              "    .dataframe thead th {\n",
              "        text-align: right;\n",
              "    }\n",
              "</style>\n",
              "<table border=\"1\" class=\"dataframe\">\n",
              "  <thead>\n",
              "    <tr style=\"text-align: right;\">\n",
              "      <th></th>\n",
              "      <th>status</th>\n",
              "      <th>age</th>\n",
              "      <th>sex</th>\n",
              "      <th>on_thyroxine</th>\n",
              "      <th>query_on_thyroxine</th>\n",
              "      <th>on_antithyroid_medication</th>\n",
              "      <th>thyroid_surgery</th>\n",
              "      <th>query_hypothyroid</th>\n",
              "      <th>query_hyperthyroid</th>\n",
              "      <th>pregnant</th>\n",
              "      <th>sick</th>\n",
              "      <th>tumor</th>\n",
              "      <th>lithium</th>\n",
              "      <th>goitre</th>\n",
              "      <th>TSH_measured</th>\n",
              "      <th>TSH</th>\n",
              "      <th>T3_measured</th>\n",
              "      <th>T3</th>\n",
              "      <th>TT4_measured</th>\n",
              "      <th>TT4</th>\n",
              "      <th>T4U_measured</th>\n",
              "      <th>T4U</th>\n",
              "      <th>FTI_measured</th>\n",
              "      <th>FTI</th>\n",
              "      <th>TBG_measured</th>\n",
              "      <th>TBG</th>\n",
              "    </tr>\n",
              "  </thead>\n",
              "  <tbody>\n",
              "    <tr>\n",
              "      <th>0</th>\n",
              "      <td>hypothyroid</td>\n",
              "      <td>72</td>\n",
              "      <td>M</td>\n",
              "      <td>f</td>\n",
              "      <td>f</td>\n",
              "      <td>f</td>\n",
              "      <td>f</td>\n",
              "      <td>f</td>\n",
              "      <td>f</td>\n",
              "      <td>f</td>\n",
              "      <td>f</td>\n",
              "      <td>f</td>\n",
              "      <td>f</td>\n",
              "      <td>f</td>\n",
              "      <td>y</td>\n",
              "      <td>30</td>\n",
              "      <td>y</td>\n",
              "      <td>0.60</td>\n",
              "      <td>y</td>\n",
              "      <td>15</td>\n",
              "      <td>y</td>\n",
              "      <td>1.48</td>\n",
              "      <td>y</td>\n",
              "      <td>10</td>\n",
              "      <td>n</td>\n",
              "      <td>?</td>\n",
              "    </tr>\n",
              "    <tr>\n",
              "      <th>1</th>\n",
              "      <td>hypothyroid</td>\n",
              "      <td>15</td>\n",
              "      <td>F</td>\n",
              "      <td>t</td>\n",
              "      <td>f</td>\n",
              "      <td>f</td>\n",
              "      <td>f</td>\n",
              "      <td>f</td>\n",
              "      <td>f</td>\n",
              "      <td>f</td>\n",
              "      <td>f</td>\n",
              "      <td>f</td>\n",
              "      <td>f</td>\n",
              "      <td>f</td>\n",
              "      <td>y</td>\n",
              "      <td>145</td>\n",
              "      <td>y</td>\n",
              "      <td>1.70</td>\n",
              "      <td>y</td>\n",
              "      <td>19</td>\n",
              "      <td>y</td>\n",
              "      <td>1.13</td>\n",
              "      <td>y</td>\n",
              "      <td>17</td>\n",
              "      <td>n</td>\n",
              "      <td>?</td>\n",
              "    </tr>\n",
              "    <tr>\n",
              "      <th>2</th>\n",
              "      <td>hypothyroid</td>\n",
              "      <td>24</td>\n",
              "      <td>M</td>\n",
              "      <td>f</td>\n",
              "      <td>f</td>\n",
              "      <td>f</td>\n",
              "      <td>f</td>\n",
              "      <td>f</td>\n",
              "      <td>f</td>\n",
              "      <td>f</td>\n",
              "      <td>f</td>\n",
              "      <td>f</td>\n",
              "      <td>f</td>\n",
              "      <td>f</td>\n",
              "      <td>y</td>\n",
              "      <td>0</td>\n",
              "      <td>y</td>\n",
              "      <td>0.20</td>\n",
              "      <td>y</td>\n",
              "      <td>4</td>\n",
              "      <td>y</td>\n",
              "      <td>1</td>\n",
              "      <td>y</td>\n",
              "      <td>0</td>\n",
              "      <td>n</td>\n",
              "      <td>?</td>\n",
              "    </tr>\n",
              "    <tr>\n",
              "      <th>3</th>\n",
              "      <td>hypothyroid</td>\n",
              "      <td>24</td>\n",
              "      <td>F</td>\n",
              "      <td>f</td>\n",
              "      <td>f</td>\n",
              "      <td>f</td>\n",
              "      <td>f</td>\n",
              "      <td>f</td>\n",
              "      <td>f</td>\n",
              "      <td>f</td>\n",
              "      <td>f</td>\n",
              "      <td>f</td>\n",
              "      <td>f</td>\n",
              "      <td>f</td>\n",
              "      <td>y</td>\n",
              "      <td>430</td>\n",
              "      <td>y</td>\n",
              "      <td>0.40</td>\n",
              "      <td>y</td>\n",
              "      <td>6</td>\n",
              "      <td>y</td>\n",
              "      <td>1.04</td>\n",
              "      <td>y</td>\n",
              "      <td>6</td>\n",
              "      <td>n</td>\n",
              "      <td>?</td>\n",
              "    </tr>\n",
              "    <tr>\n",
              "      <th>4</th>\n",
              "      <td>hypothyroid</td>\n",
              "      <td>77</td>\n",
              "      <td>M</td>\n",
              "      <td>f</td>\n",
              "      <td>f</td>\n",
              "      <td>f</td>\n",
              "      <td>f</td>\n",
              "      <td>f</td>\n",
              "      <td>f</td>\n",
              "      <td>f</td>\n",
              "      <td>f</td>\n",
              "      <td>f</td>\n",
              "      <td>f</td>\n",
              "      <td>f</td>\n",
              "      <td>y</td>\n",
              "      <td>7.30</td>\n",
              "      <td>y</td>\n",
              "      <td>1.20</td>\n",
              "      <td>y</td>\n",
              "      <td>57</td>\n",
              "      <td>y</td>\n",
              "      <td>1.28</td>\n",
              "      <td>y</td>\n",
              "      <td>44</td>\n",
              "      <td>n</td>\n",
              "      <td>?</td>\n",
              "    </tr>\n",
              "  </tbody>\n",
              "</table>\n",
              "</div>"
            ],
            "text/plain": [
              "        status age sex on_thyroxine  ... FTI_measured FTI TBG_measured TBG\n",
              "0  hypothyroid  72   M            f  ...            y  10            n   ?\n",
              "1  hypothyroid  15   F            t  ...            y  17            n   ?\n",
              "2  hypothyroid  24   M            f  ...            y   0            n   ?\n",
              "3  hypothyroid  24   F            f  ...            y   6            n   ?\n",
              "4  hypothyroid  77   M            f  ...            y  44            n   ?\n",
              "\n",
              "[5 rows x 26 columns]"
            ]
          },
          "metadata": {
            "tags": []
          },
          "execution_count": 112
        }
      ]
    },
    {
      "cell_type": "code",
      "metadata": {
        "id": "yEwMplpRZv9J",
        "outputId": "9dc40b3d-6fbf-429b-a071-a6504b354bd7",
        "colab": {
          "base_uri": "https://localhost:8080/",
          "height": 35
        }
      },
      "source": [
        "# checking the total number of records and columns\n",
        "\n",
        "hypothy.shape"
      ],
      "execution_count": 113,
      "outputs": [
        {
          "output_type": "execute_result",
          "data": {
            "text/plain": [
              "(3163, 26)"
            ]
          },
          "metadata": {
            "tags": []
          },
          "execution_count": 113
        }
      ]
    },
    {
      "cell_type": "code",
      "metadata": {
        "id": "kkGTYpTLZwCN",
        "outputId": "5483d904-9996-4cfd-c37b-968856e6ed8a",
        "colab": {
          "base_uri": "https://localhost:8080/",
          "height": 617
        }
      },
      "source": [
        "# checking datatypes of each attribute and previewing the existense of null values\n",
        "\n",
        "hypothy.info()"
      ],
      "execution_count": 114,
      "outputs": [
        {
          "output_type": "stream",
          "text": [
            "<class 'pandas.core.frame.DataFrame'>\n",
            "RangeIndex: 3163 entries, 0 to 3162\n",
            "Data columns (total 26 columns):\n",
            " #   Column                     Non-Null Count  Dtype \n",
            "---  ------                     --------------  ----- \n",
            " 0   status                     3163 non-null   object\n",
            " 1   age                        3163 non-null   object\n",
            " 2   sex                        3163 non-null   object\n",
            " 3   on_thyroxine               3163 non-null   object\n",
            " 4   query_on_thyroxine         3163 non-null   object\n",
            " 5   on_antithyroid_medication  3163 non-null   object\n",
            " 6   thyroid_surgery            3163 non-null   object\n",
            " 7   query_hypothyroid          3163 non-null   object\n",
            " 8   query_hyperthyroid         3163 non-null   object\n",
            " 9   pregnant                   3163 non-null   object\n",
            " 10  sick                       3163 non-null   object\n",
            " 11  tumor                      3163 non-null   object\n",
            " 12  lithium                    3163 non-null   object\n",
            " 13  goitre                     3163 non-null   object\n",
            " 14  TSH_measured               3163 non-null   object\n",
            " 15  TSH                        3163 non-null   object\n",
            " 16  T3_measured                3163 non-null   object\n",
            " 17  T3                         3163 non-null   object\n",
            " 18  TT4_measured               3163 non-null   object\n",
            " 19  TT4                        3163 non-null   object\n",
            " 20  T4U_measured               3163 non-null   object\n",
            " 21  T4U                        3163 non-null   object\n",
            " 22  FTI_measured               3163 non-null   object\n",
            " 23  FTI                        3163 non-null   object\n",
            " 24  TBG_measured               3163 non-null   object\n",
            " 25  TBG                        3163 non-null   object\n",
            "dtypes: object(26)\n",
            "memory usage: 642.6+ KB\n"
          ],
          "name": "stdout"
        }
      ]
    },
    {
      "cell_type": "markdown",
      "metadata": {
        "id": "GvEM54LTzRNH"
      },
      "source": [
        "the columns have 'object' as datatype, we change this in cleaning stage"
      ]
    },
    {
      "cell_type": "code",
      "metadata": {
        "id": "Xz9RCCM4XvQo",
        "outputId": "b6a41e9d-2143-4c07-80ce-911e56cda71e",
        "colab": {
          "base_uri": "https://localhost:8080/",
          "height": 508
        }
      },
      "source": [
        "# checking for unique values in each column\n",
        "\n",
        "hypothy.nunique()"
      ],
      "execution_count": 115,
      "outputs": [
        {
          "output_type": "execute_result",
          "data": {
            "text/plain": [
              "status                         2\n",
              "age                           93\n",
              "sex                            3\n",
              "on_thyroxine                   2\n",
              "query_on_thyroxine             2\n",
              "on_antithyroid_medication      2\n",
              "thyroid_surgery                2\n",
              "query_hypothyroid              2\n",
              "query_hyperthyroid             2\n",
              "pregnant                       2\n",
              "sick                           2\n",
              "tumor                          2\n",
              "lithium                        2\n",
              "goitre                         2\n",
              "TSH_measured                   2\n",
              "TSH                          240\n",
              "T3_measured                    2\n",
              "T3                            70\n",
              "TT4_measured                   2\n",
              "TT4                          269\n",
              "T4U_measured                   2\n",
              "T4U                          159\n",
              "FTI_measured                   2\n",
              "FTI                          281\n",
              "TBG_measured                   2\n",
              "TBG                           53\n",
              "dtype: int64"
            ]
          },
          "metadata": {
            "tags": []
          },
          "execution_count": 115
        }
      ]
    },
    {
      "cell_type": "code",
      "metadata": {
        "id": "ItExG6sSYKyI",
        "outputId": "1c56c61e-f02b-4594-bbdb-165dbb02f3e7",
        "colab": {
          "base_uri": "https://localhost:8080/",
          "height": 1000
        }
      },
      "source": [
        "#we preview the unique features in each column\n",
        "\n",
        "# previewing the unique values of each of our columns\n",
        "\n",
        "columns = hypothy.columns.to_list()\n",
        "\n",
        "for column in columns:\n",
        "    print(\"\\n\")\n",
        "    print(\"Column Name:\", column)\n",
        "    print(hypothy[column].unique())"
      ],
      "execution_count": 116,
      "outputs": [
        {
          "output_type": "stream",
          "text": [
            "\n",
            "\n",
            "Column Name: status\n",
            "['hypothyroid' 'negative']\n",
            "\n",
            "\n",
            "Column Name: age\n",
            "['72' '15' '24' '77' '85' '64' '20' '42' '69' '75' '53' '59' '68' '50'\n",
            " '78' '65' '28' '43' '40' '84' '?' '83' '63' '73' '36' '27' '48' '71' '60'\n",
            " '34' '79' '62' '74' '32' '41' '70' '29' '5' '58' '35' '51' '22' '16' '44'\n",
            " '39' '47' '18' '17' '88' '56' '30' '45' '66' '52' '54' '80' '33' '38'\n",
            " '92' '67' '46' '13' '89' '61' '49' '26' '57' '31' '90' '81' '25' '37'\n",
            " '76' '87' '23' '55' '86' '98' '21' '97' '1' '6' '14' '82' '11' '19' '9'\n",
            " '12' '10' '8' '7' '4' '93']\n",
            "\n",
            "\n",
            "Column Name: sex\n",
            "['M' 'F' '?']\n",
            "\n",
            "\n",
            "Column Name: on_thyroxine\n",
            "['f' 't']\n",
            "\n",
            "\n",
            "Column Name: query_on_thyroxine\n",
            "['f' 't']\n",
            "\n",
            "\n",
            "Column Name: on_antithyroid_medication\n",
            "['f' 't']\n",
            "\n",
            "\n",
            "Column Name: thyroid_surgery\n",
            "['f' 't']\n",
            "\n",
            "\n",
            "Column Name: query_hypothyroid\n",
            "['f' 't']\n",
            "\n",
            "\n",
            "Column Name: query_hyperthyroid\n",
            "['f' 't']\n",
            "\n",
            "\n",
            "Column Name: pregnant\n",
            "['f' 't']\n",
            "\n",
            "\n",
            "Column Name: sick\n",
            "['f' 't']\n",
            "\n",
            "\n",
            "Column Name: tumor\n",
            "['f' 't']\n",
            "\n",
            "\n",
            "Column Name: lithium\n",
            "['f' 't']\n",
            "\n",
            "\n",
            "Column Name: goitre\n",
            "['f' 't']\n",
            "\n",
            "\n",
            "Column Name: TSH_measured\n",
            "['y' 'n']\n",
            "\n",
            "\n",
            "Column Name: TSH\n",
            "['30' '145' '0' '430' '7.30' '138' '7.70' '21' '92' '48' '36' '15' '15.30'\n",
            " '25' '61' '28' '170' '54' '216' '56' '71' '46' '70' '34' '53' '9.40'\n",
            " '126' '10' '530' '35' '65' '57' '125' '23' '80' '117' '49' '66' '8.20'\n",
            " '150' '?' '18' '165' '164' '24' '90' '77' '19' '58' '100' '213' '17'\n",
            " '235' '153' '13' '31' '109' '260' '43' '12' '11' '55' '6.50' '20' '7.50'\n",
            " '14' '60' '140' '33' '8.70' '0.25' '10.70' '82' '45' '42' '41' '160' '16'\n",
            " '89' '44' '176' '6.40' '183' '29' '37' '39' '7.90' '59' '68' '38' '47'\n",
            " '143' '6.60' '288' '96' '0.50' '1.20' '1.90' '0.09' '3.10' '0.40' '0.85'\n",
            " '0.30' '0.90' '1.50' '4.60' '0.20' '5.80' '4' '1.40' '2' '2.60' '2.90'\n",
            " '0.80' '4.90' '10.30' '2.30' '0.70' '0.60' '1.30' '2.50' '5.10' '1.70'\n",
            " '2.70' '22' '8.10' '3.30' '5' '3.20' '1.80' '1.10' '0.46' '1' '5.60'\n",
            " '4.40' '16.50' '2.10' '6.30' '5.50' '7.40' '5.90' '0.15' '14.90' '2.20'\n",
            " '9.70' '9.60' '1.60' '3.70' '3' '2.80' '0.10' '4.20' '27' '3.50' '0.05'\n",
            " '19.20' '8' '9.10' '3.60' '7.80' '3.80' '8.50' '9.20' '52' '2.40' '3.90'\n",
            " '0.03' '0.04' '26' '6.10' '0.65' '0.92' '7.60' '8.40' '14.40' '1.05'\n",
            " '0.37' '178' '6.90' '4.50' '4.70' '40' '6' '4.10' '14.30' '5.40' '8.30'\n",
            " '0.06' '8.80' '8.90' '7.10' '4.80' '0.43' '6.70' '200' '8.60' '86' '0.21'\n",
            " '9' '0.26' '3.40' '6.20' '17.40' '85' '1.83' '63' '13.30' '0.02' '0.42'\n",
            " '9.50' '0.84' '0.88' '4.30' '0.67' '0.81' '5.20' '9.80' '76' '0.62'\n",
            " '0.01' '11.40' '88' '0.68' '0.07' '0.69' '0.77' '9.90' '0.64' '13.20'\n",
            " '6.80' '0.28' '11.60' '0.91' '1.01' '0.23' '0.35' '50' '32' '0.83' '0.08']\n",
            "\n",
            "\n",
            "Column Name: T3_measured\n",
            "['y' 'n']\n",
            "\n",
            "\n",
            "Column Name: T3\n",
            "['0.60' '1.70' '0.20' '0.40' '1.20' '1.10' '1.30' '1.90' '?' '0.80' '2.20'\n",
            " '1.50' '2.70' '2' '0.30' '2.10' '0.50' '0.70' '1' '1.40' '2.30' '2.40'\n",
            " '0.90' '1.80' '0' '2.80' '1.60' '6.70' '3.30' '3' '2.50' '2.60' '4'\n",
            " '9.80' '3.90' '3.40' '3.80' '4.50' '3.20' '3.70' '4.30' '2.90' '3.10'\n",
            " '3.50' '3.60' '6.60' '4.90' '8.90' '4.10' '5' '5.30' '7.60' '7.30' '4.20'\n",
            " '4.40' '5.10' '7' '0.10' '0.05' '4.70' '6.20' '5.50' '4.60' '6.10' '8.10'\n",
            " '5.20' '5.60' '4.80' '10.20' '8.60']\n",
            "\n",
            "\n",
            "Column Name: TT4_measured\n",
            "['y' 'n']\n",
            "\n",
            "\n",
            "Column Name: TT4\n",
            "['15' '19' '4' '6' '57' '27' '54' '34' '39' '7.60' '53' '38' '98' '44'\n",
            " '37' '81' '13' '17' '12' '50' '23' '14' '3.90' '52' '32' '30' '84' '10'\n",
            " '55' '24' '28' '11' '6.60' '31' '33' '41' '9' '78' '42' '8.10' '65' '16'\n",
            " '9.70' '46' '22' '61' '2.30' '21' '7.50' '18' '66' '25' '43' '2' '3' '58'\n",
            " '59' '71' '74' '56' '40' '20' '48' '230' '70' '4.10' '63' '5.30' '2.90'\n",
            " '62' '75' '68' '45' '47' '36' '80' '109' '8.60' '83' '82' '101' '76'\n",
            " '103' '112' '206' '110' '93' '79' '121' '?' '107' '88' '187' '254' '115'\n",
            " '113' '260' '117' '164' '97' '64' '129' '111' '106' '95' '87' '105' '90'\n",
            " '67' '134' '35' '193' '143' '130' '108' '86' '96' '92' '99' '216' '152'\n",
            " '125' '138' '194' '91' '120' '102' '170' '126' '116' '140' '94' '159'\n",
            " '85' '210' '89' '151' '247' '139' '153' '178' '123' '137' '161' '7.30'\n",
            " '72' '202' '122' '124' '157' '118' '104' '135' '186' '241' '131' '119'\n",
            " '100' '220' '176' '136' '183' '155' '208' '199' '154' '169' '128' '235'\n",
            " '195' '267' '232' '197' '212' '149' '127' '245' '132' '162' '77' '142'\n",
            " '69' '173' '141' '156' '181' '189' '60' '114' '198' '147' '191' '177'\n",
            " '174' '207' '168' '73' '160' '145' '200' '182' '158' '203' '209' '217'\n",
            " '430' '213' '218' '163' '296' '167' '148' '166' '185' '248' '172' '144'\n",
            " '150' '165' '196' '308' '146' '426' '224' '29' '204' '201' '133' '180'\n",
            " '184' '450' '244' '301' '255' '252' '396' '223' '261' '250' '179' '219'\n",
            " '190' '51' '221' '171' '242' '275' '211' '49' '239' '205' '222' '256'\n",
            " '214' '282' '287' '253' '269' '175' '228' '333' '258' '236' '225' '263'\n",
            " '283' '359' '188' '240']\n",
            "\n",
            "\n",
            "Column Name: T4U_measured\n",
            "['y' 'n']\n",
            "\n",
            "\n",
            "Column Name: T4U\n",
            "['1.48' '1.13' '1' '1.04' '1.28' '1.19' '0.86' '1.05' '1.21' '1.02' '0.92'\n",
            " '1.29' '0.98' '1.08' '1.01' '1.18' '1.10' '1.27' '0.83' '1.11' '0.78'\n",
            " '1.39' '1.12' '0.93' '0.99' '0.90' '1.06' '0.68' '0.67' '1.14' '0.80'\n",
            " '0.96' '0.95' '1.46' '1.03' '0.97' '0.94' '1.09' '1.24' '1.23' '1.53'\n",
            " '1.26' '1.40' '1.17' '0.87' '0.61' '0.70' '1.07' '1.73' '1.45' '1.20'\n",
            " '0.89' '0.84' '0.91' '0.85' '1.35' '0.82' '1.50' '0.74' '1.71' '1.79'\n",
            " '0.73' '0.77' '1.25' '?' '0.88' '0.72' '0.31' '0' '0.79' '0.81' '0.71'\n",
            " '1.93' '1.32' '0.66' '1.68' '1.42' '1.70' '1.83' '1.41' '1.34' '1.65'\n",
            " '1.22' '0.75' '1.74' '0.69' '1.51' '0.76' '1.16' '0.35' '0.62' '0.54'\n",
            " '1.36' '1.33' '1.30' '0.48' '1.59' '1.75' '1.86' '1.38' '1.43' '1.62'\n",
            " '2.01' '0.30' '1.31' '1.15' '1.57' '0.55' '1.66' '0.52' '1.97' '1.47'\n",
            " '0.36' '1.88' '1.55' '0.34' '1.67' '0.58' '0.60' '0.59' '1.37' '1.76'\n",
            " '0.64' '1.80' '0.41' '0.20' '1.77' '0.33' '1.54' '0.46' '0.32' '1.44'\n",
            " '1.56' '0.56' '1.52' '2.03' '0.65' '0.63' '1.96' '0.53' '0.47' '0.29'\n",
            " '2.21' '1.69' '1.64' '1.49' '1.72' '1.58' '0.57' '1.61' '0.28' '2' '1.63'\n",
            " '0.27' '1.94' '0.50' '0.49' '0.40' '0.38']\n",
            "\n",
            "\n",
            "Column Name: FTI_measured\n",
            "['y' 'n']\n",
            "\n",
            "\n",
            "Column Name: FTI\n",
            "['10' '17' '0' '6' '44' '23' '63' '32' '7.50' '61' '41' '76' '45' '34'\n",
            " '81' '11' '16' '46' '22' '12' '5' '47' '29' '37' '60' '8.40' '8.50' '24'\n",
            " '28' '7' '49' '36' '15' '9' '80' '53' '7.20' '68' '6.60' '48' '21' '14'\n",
            " '2' '20' '1.40' '56' '3' '51' '13' '43' '78' '52' '64' '26' '35' '31'\n",
            " '133' '3.40' '54' '8.90' '57' '5.50' '58' '55' '2.80' '66' '4' '40' '50'\n",
            " '8.70' '87' '89' '112' '123' '99' '92' '104' '69' '196' '107' '106' '74'\n",
            " '97' '?' '122' '84' '114' '124' '241' '119' '120' '136' '85' '127' '839'\n",
            " '137' '197' '96' '77' '108' '82' '72' '94' '91' '240' '121' '109' '79'\n",
            " '100' '98' '73' '117' '165' '103' '88' '101' '126' '132' '128' '143'\n",
            " '152' '141' '186' '113' '102' '125' '93' '105' '159' '188' '71' '149'\n",
            " '116' '83' '176' '161' '86' '140' '111' '158' '115' '171' '90' '95' '70'\n",
            " '135' '134' '178' '110' '170' '205' '695' '155' '118' '741' '131' '129'\n",
            " '142' '153' '75' '254' '246' '139' '185' '157' '147' '164' '130' '222'\n",
            " '650' '174' '182' '144' '169' '257' '145' '345' '180' '167' '151' '154'\n",
            " '150' '219' '228' '65' '187' '166' '195' '208' '138' '33' '173' '146'\n",
            " '211' '181' '190' '247' '221' '395' '216' '212' '148' '162' '220' '370'\n",
            " '450' '160' '59' '189' '203' '168' '179' '264' '470' '184' '163' '67'\n",
            " '213' '354' '292' '359' '172' '156' '334' '177' '214' '194' '192' '215'\n",
            " '217' '271' '250' '244' '308' '881' '258' '316' '200' '711' '256' '232'\n",
            " '202' '39' '248' '237' '259' '445' '19' '852' '42' '235' '634' '283'\n",
            " '305' '204' '229' '332' '550' '249' '263' '615' '266' '198' '175' '209'\n",
            " '299' '193' '227' '223' '337' '210' '272' '702' '218' '239' '355' '482'\n",
            " '347' '485' '612' '428']\n",
            "\n",
            "\n",
            "Column Name: TBG_measured\n",
            "['n' 'y']\n",
            "\n",
            "\n",
            "Column Name: TBG\n",
            "['?' '28' '34' '0' '19' '30' '25' '48' '39' '31' '16' '21' '37' '40' '27'\n",
            " '3.10' '38' '108' '20' '36' '17' '23' '35' '32' '63' '9.30' '15' '26'\n",
            " '33' '41' '110' '22' '43' '53' '80' '47' '29' '13' '24' '18' '45' '86'\n",
            " '50' '8.40' '52' '11' '12' '14' '65' '7.30' '8.50' '69' '122']\n"
          ],
          "name": "stdout"
        }
      ]
    },
    {
      "cell_type": "code",
      "metadata": {
        "id": "7yOivsyiyVZP",
        "outputId": "c125ea69-60ac-47da-d91b-51adb00ca90b",
        "colab": {
          "base_uri": "https://localhost:8080/",
          "height": 508
        }
      },
      "source": [
        "#check for null values\n",
        "hypothy.isnull().sum()"
      ],
      "execution_count": 117,
      "outputs": [
        {
          "output_type": "execute_result",
          "data": {
            "text/plain": [
              "status                       0\n",
              "age                          0\n",
              "sex                          0\n",
              "on_thyroxine                 0\n",
              "query_on_thyroxine           0\n",
              "on_antithyroid_medication    0\n",
              "thyroid_surgery              0\n",
              "query_hypothyroid            0\n",
              "query_hyperthyroid           0\n",
              "pregnant                     0\n",
              "sick                         0\n",
              "tumor                        0\n",
              "lithium                      0\n",
              "goitre                       0\n",
              "TSH_measured                 0\n",
              "TSH                          0\n",
              "T3_measured                  0\n",
              "T3                           0\n",
              "TT4_measured                 0\n",
              "TT4                          0\n",
              "T4U_measured                 0\n",
              "T4U                          0\n",
              "FTI_measured                 0\n",
              "FTI                          0\n",
              "TBG_measured                 0\n",
              "TBG                          0\n",
              "dtype: int64"
            ]
          },
          "metadata": {
            "tags": []
          },
          "execution_count": 117
        }
      ]
    },
    {
      "cell_type": "markdown",
      "metadata": {
        "id": "CNYnyxQUY1zv"
      },
      "source": [
        "there are no missinng values in the dataset"
      ]
    },
    {
      "cell_type": "code",
      "metadata": {
        "id": "fcYyIQYbyXFU",
        "outputId": "5b9aa6e0-5681-47ba-cb6c-156da19e1307",
        "colab": {
          "base_uri": "https://localhost:8080/",
          "height": 508
        }
      },
      "source": [
        "#the dataset has columns with '?' on the records, lets check the total number of '?' on the columns\n",
        "\n",
        "print(hypothy[hypothy == '?'].count())"
      ],
      "execution_count": 118,
      "outputs": [
        {
          "output_type": "stream",
          "text": [
            "status                          0\n",
            "age                           446\n",
            "sex                            73\n",
            "on_thyroxine                    0\n",
            "query_on_thyroxine              0\n",
            "on_antithyroid_medication       0\n",
            "thyroid_surgery                 0\n",
            "query_hypothyroid               0\n",
            "query_hyperthyroid              0\n",
            "pregnant                        0\n",
            "sick                            0\n",
            "tumor                           0\n",
            "lithium                         0\n",
            "goitre                          0\n",
            "TSH_measured                    0\n",
            "TSH                           468\n",
            "T3_measured                     0\n",
            "T3                            695\n",
            "TT4_measured                    0\n",
            "TT4                           249\n",
            "T4U_measured                    0\n",
            "T4U                           248\n",
            "FTI_measured                    0\n",
            "FTI                           247\n",
            "TBG_measured                    0\n",
            "TBG                          2903\n",
            "dtype: int64\n"
          ],
          "name": "stdout"
        }
      ]
    },
    {
      "cell_type": "markdown",
      "metadata": {
        "id": "OI98xwFvZz2j"
      },
      "source": [
        "age = 446   \n",
        "TSH = 468  \n",
        "T3 = 695   \n",
        "TBG = 2,903\n",
        "TBG has 75% of the records in the column being '?' therefore we drop this column since its computation wil bring about errors.\n",
        " The other records are assumed to be null and we can drop them also or replace them."
      ]
    },
    {
      "cell_type": "code",
      "metadata": {
        "id": "JvbgAK62cE61"
      },
      "source": [
        "#Dropping columns TBG and TBG_measured since they dont have valuable records to work with\n",
        "\n",
        "hypothy.drop(['TBG', 'TBG_measured'],axis=1, inplace=True)"
      ],
      "execution_count": 119,
      "outputs": []
    },
    {
      "cell_type": "code",
      "metadata": {
        "id": "3rrMjNcvrMpH",
        "outputId": "7ed7c428-d19e-4f32-f71a-4da9edc7ab66",
        "colab": {
          "base_uri": "https://localhost:8080/",
          "height": 218
        }
      },
      "source": [
        "hypothy = hypothy.replace(['?'], np.nan) \n",
        "hypothy.sample(n=5)"
      ],
      "execution_count": 120,
      "outputs": [
        {
          "output_type": "execute_result",
          "data": {
            "text/html": [
              "<div>\n",
              "<style scoped>\n",
              "    .dataframe tbody tr th:only-of-type {\n",
              "        vertical-align: middle;\n",
              "    }\n",
              "\n",
              "    .dataframe tbody tr th {\n",
              "        vertical-align: top;\n",
              "    }\n",
              "\n",
              "    .dataframe thead th {\n",
              "        text-align: right;\n",
              "    }\n",
              "</style>\n",
              "<table border=\"1\" class=\"dataframe\">\n",
              "  <thead>\n",
              "    <tr style=\"text-align: right;\">\n",
              "      <th></th>\n",
              "      <th>status</th>\n",
              "      <th>age</th>\n",
              "      <th>sex</th>\n",
              "      <th>on_thyroxine</th>\n",
              "      <th>query_on_thyroxine</th>\n",
              "      <th>on_antithyroid_medication</th>\n",
              "      <th>thyroid_surgery</th>\n",
              "      <th>query_hypothyroid</th>\n",
              "      <th>query_hyperthyroid</th>\n",
              "      <th>pregnant</th>\n",
              "      <th>sick</th>\n",
              "      <th>tumor</th>\n",
              "      <th>lithium</th>\n",
              "      <th>goitre</th>\n",
              "      <th>TSH_measured</th>\n",
              "      <th>TSH</th>\n",
              "      <th>T3_measured</th>\n",
              "      <th>T3</th>\n",
              "      <th>TT4_measured</th>\n",
              "      <th>TT4</th>\n",
              "      <th>T4U_measured</th>\n",
              "      <th>T4U</th>\n",
              "      <th>FTI_measured</th>\n",
              "      <th>FTI</th>\n",
              "    </tr>\n",
              "  </thead>\n",
              "  <tbody>\n",
              "    <tr>\n",
              "      <th>3087</th>\n",
              "      <td>negative</td>\n",
              "      <td>79</td>\n",
              "      <td>M</td>\n",
              "      <td>f</td>\n",
              "      <td>f</td>\n",
              "      <td>f</td>\n",
              "      <td>f</td>\n",
              "      <td>f</td>\n",
              "      <td>f</td>\n",
              "      <td>f</td>\n",
              "      <td>f</td>\n",
              "      <td>f</td>\n",
              "      <td>f</td>\n",
              "      <td>f</td>\n",
              "      <td>n</td>\n",
              "      <td>NaN</td>\n",
              "      <td>y</td>\n",
              "      <td>3.10</td>\n",
              "      <td>y</td>\n",
              "      <td>162</td>\n",
              "      <td>y</td>\n",
              "      <td>0.78</td>\n",
              "      <td>y</td>\n",
              "      <td>209</td>\n",
              "    </tr>\n",
              "    <tr>\n",
              "      <th>1158</th>\n",
              "      <td>negative</td>\n",
              "      <td>72</td>\n",
              "      <td>F</td>\n",
              "      <td>t</td>\n",
              "      <td>f</td>\n",
              "      <td>f</td>\n",
              "      <td>f</td>\n",
              "      <td>f</td>\n",
              "      <td>f</td>\n",
              "      <td>f</td>\n",
              "      <td>f</td>\n",
              "      <td>f</td>\n",
              "      <td>f</td>\n",
              "      <td>f</td>\n",
              "      <td>y</td>\n",
              "      <td>0</td>\n",
              "      <td>y</td>\n",
              "      <td>1.60</td>\n",
              "      <td>y</td>\n",
              "      <td>123</td>\n",
              "      <td>y</td>\n",
              "      <td>0.92</td>\n",
              "      <td>y</td>\n",
              "      <td>134</td>\n",
              "    </tr>\n",
              "    <tr>\n",
              "      <th>722</th>\n",
              "      <td>negative</td>\n",
              "      <td>61</td>\n",
              "      <td>M</td>\n",
              "      <td>f</td>\n",
              "      <td>f</td>\n",
              "      <td>f</td>\n",
              "      <td>f</td>\n",
              "      <td>f</td>\n",
              "      <td>f</td>\n",
              "      <td>f</td>\n",
              "      <td>f</td>\n",
              "      <td>f</td>\n",
              "      <td>f</td>\n",
              "      <td>f</td>\n",
              "      <td>y</td>\n",
              "      <td>0.50</td>\n",
              "      <td>y</td>\n",
              "      <td>1.30</td>\n",
              "      <td>y</td>\n",
              "      <td>93</td>\n",
              "      <td>y</td>\n",
              "      <td>0.84</td>\n",
              "      <td>y</td>\n",
              "      <td>111</td>\n",
              "    </tr>\n",
              "    <tr>\n",
              "      <th>55</th>\n",
              "      <td>hypothyroid</td>\n",
              "      <td>41</td>\n",
              "      <td>F</td>\n",
              "      <td>f</td>\n",
              "      <td>f</td>\n",
              "      <td>f</td>\n",
              "      <td>f</td>\n",
              "      <td>f</td>\n",
              "      <td>f</td>\n",
              "      <td>f</td>\n",
              "      <td>f</td>\n",
              "      <td>f</td>\n",
              "      <td>f</td>\n",
              "      <td>f</td>\n",
              "      <td>n</td>\n",
              "      <td>NaN</td>\n",
              "      <td>n</td>\n",
              "      <td>NaN</td>\n",
              "      <td>y</td>\n",
              "      <td>44</td>\n",
              "      <td>y</td>\n",
              "      <td>0.90</td>\n",
              "      <td>y</td>\n",
              "      <td>49</td>\n",
              "    </tr>\n",
              "    <tr>\n",
              "      <th>37</th>\n",
              "      <td>hypothyroid</td>\n",
              "      <td>40</td>\n",
              "      <td>F</td>\n",
              "      <td>f</td>\n",
              "      <td>f</td>\n",
              "      <td>f</td>\n",
              "      <td>f</td>\n",
              "      <td>f</td>\n",
              "      <td>f</td>\n",
              "      <td>f</td>\n",
              "      <td>f</td>\n",
              "      <td>f</td>\n",
              "      <td>f</td>\n",
              "      <td>f</td>\n",
              "      <td>y</td>\n",
              "      <td>30</td>\n",
              "      <td>y</td>\n",
              "      <td>0.30</td>\n",
              "      <td>y</td>\n",
              "      <td>6.60</td>\n",
              "      <td>y</td>\n",
              "      <td>0.93</td>\n",
              "      <td>y</td>\n",
              "      <td>7</td>\n",
              "    </tr>\n",
              "  </tbody>\n",
              "</table>\n",
              "</div>"
            ],
            "text/plain": [
              "           status age sex on_thyroxine  ... T4U_measured   T4U FTI_measured  FTI\n",
              "3087     negative  79   M            f  ...            y  0.78            y  209\n",
              "1158     negative  72   F            t  ...            y  0.92            y  134\n",
              "722      negative  61   M            f  ...            y  0.84            y  111\n",
              "55    hypothyroid  41   F            f  ...            y  0.90            y   49\n",
              "37    hypothyroid  40   F            f  ...            y  0.93            y    7\n",
              "\n",
              "[5 rows x 24 columns]"
            ]
          },
          "metadata": {
            "tags": []
          },
          "execution_count": 120
        }
      ]
    },
    {
      "cell_type": "code",
      "metadata": {
        "id": "TLHASIVUrarX"
      },
      "source": [
        "# dropping null values on specific columns\n",
        "\n",
        "hypothy = hypothy[hypothy['age'].notna()]\n",
        "hypothy = hypothy[hypothy['sex'].notna()]\n",
        "hypothy = hypothy[hypothy['TSH'].notna()]\n",
        "hypothy = hypothy[hypothy['T4U'].notna()]\n",
        "hypothy = hypothy[hypothy['TT4'].notna()]\n",
        "hypothy = hypothy[hypothy['FTI'].notna()]\n",
        "hypothy = hypothy[hypothy['T3'].notna()]"
      ],
      "execution_count": 121,
      "outputs": []
    },
    {
      "cell_type": "code",
      "metadata": {
        "id": "P1ait4uUsMbL",
        "outputId": "d457fd91-7587-4abe-e553-f71cb590b72f",
        "colab": {
          "base_uri": "https://localhost:8080/",
          "height": 472
        }
      },
      "source": [
        "# confirming that there are no more nulls\n",
        "\n",
        "hypothy.isnull().sum()"
      ],
      "execution_count": 122,
      "outputs": [
        {
          "output_type": "execute_result",
          "data": {
            "text/plain": [
              "status                       0\n",
              "age                          0\n",
              "sex                          0\n",
              "on_thyroxine                 0\n",
              "query_on_thyroxine           0\n",
              "on_antithyroid_medication    0\n",
              "thyroid_surgery              0\n",
              "query_hypothyroid            0\n",
              "query_hyperthyroid           0\n",
              "pregnant                     0\n",
              "sick                         0\n",
              "tumor                        0\n",
              "lithium                      0\n",
              "goitre                       0\n",
              "TSH_measured                 0\n",
              "TSH                          0\n",
              "T3_measured                  0\n",
              "T3                           0\n",
              "TT4_measured                 0\n",
              "TT4                          0\n",
              "T4U_measured                 0\n",
              "T4U                          0\n",
              "FTI_measured                 0\n",
              "FTI                          0\n",
              "dtype: int64"
            ]
          },
          "metadata": {
            "tags": []
          },
          "execution_count": 122
        }
      ]
    },
    {
      "cell_type": "code",
      "metadata": {
        "id": "dogsVhjayW5q",
        "outputId": "1f8ac32b-78b6-48f1-fba8-529bfc5cda6a",
        "colab": {
          "base_uri": "https://localhost:8080/",
          "height": 72
        }
      },
      "source": [
        "#lets check for duplicates\n",
        "\n",
        "hypothy.duplicated().value_counts()\n"
      ],
      "execution_count": 123,
      "outputs": [
        {
          "output_type": "execute_result",
          "data": {
            "text/plain": [
              "False    1946\n",
              "True       54\n",
              "dtype: int64"
            ]
          },
          "metadata": {
            "tags": []
          },
          "execution_count": 123
        }
      ]
    },
    {
      "cell_type": "code",
      "metadata": {
        "id": "a6fGRyf3oc0z"
      },
      "source": [
        "#dropping the duplicate rows\n",
        "hypothy.drop_duplicates(inplace = True)"
      ],
      "execution_count": 124,
      "outputs": []
    },
    {
      "cell_type": "code",
      "metadata": {
        "id": "dn_NCet5olmX",
        "outputId": "ddc75164-d432-4c69-be1a-15642bf25476",
        "colab": {
          "base_uri": "https://localhost:8080/",
          "height": 35
        }
      },
      "source": [
        "#checking if the duplicates have been dropped\n",
        "hypothy.duplicated().sum()"
      ],
      "execution_count": 125,
      "outputs": [
        {
          "output_type": "execute_result",
          "data": {
            "text/plain": [
              "0"
            ]
          },
          "metadata": {
            "tags": []
          },
          "execution_count": 125
        }
      ]
    },
    {
      "cell_type": "code",
      "metadata": {
        "id": "jMwHmW7ByWqX",
        "outputId": "157ffa36-f679-4737-8d32-3a01c934f6ec",
        "colab": {
          "base_uri": "https://localhost:8080/",
          "height": 472
        }
      },
      "source": [
        "# first converting categorical variables to category\n",
        "\n",
        "hypothy['status'] = hypothy['status'].astype('category')\n",
        "hypothy['sex'] = hypothy['sex'].astype('category')\n",
        "hypothy['on_thyroxine'] = hypothy['on_thyroxine'].astype('category')\n",
        "hypothy['query_on_thyroxine'] = hypothy['query_on_thyroxine'].astype('category')\n",
        "hypothy['on_antithyroid_medication'] = hypothy['on_antithyroid_medication'].astype('category')\n",
        "hypothy['thyroid_surgery'] = hypothy['thyroid_surgery'].astype('category')\n",
        "hypothy['query_hypothyroid'] = hypothy['query_hypothyroid'].astype('category')\n",
        "\n",
        "hypothy['query_hyperthyroid'] = hypothy['query_hyperthyroid'].astype('category')\n",
        "hypothy['pregnant'] = hypothy['pregnant'].astype('category')\n",
        "hypothy['sick'] = hypothy['sick'].astype('category')\n",
        "hypothy['tumor'] = hypothy['tumor'].astype('category')\n",
        "hypothy['lithium'] = hypothy['lithium'].astype('category')\n",
        "hypothy['goitre'] = hypothy['goitre'].astype('category')\n",
        "hypothy['TSH_measured'] = hypothy['TSH_measured'].astype('category')\n",
        "\n",
        "hypothy['T3_measured'] = hypothy['T3_measured'].astype('category')\n",
        "hypothy['TT4_measured'] = hypothy['TT4_measured'].astype('category')\n",
        "hypothy['T4U_measured'] = hypothy['T4U_measured'].astype('category')\n",
        "hypothy['FTI_measured'] = hypothy['FTI_measured'].astype('category')\n",
        "\n",
        "hypothy.dtypes"
      ],
      "execution_count": 126,
      "outputs": [
        {
          "output_type": "execute_result",
          "data": {
            "text/plain": [
              "status                       category\n",
              "age                            object\n",
              "sex                          category\n",
              "on_thyroxine                 category\n",
              "query_on_thyroxine           category\n",
              "on_antithyroid_medication    category\n",
              "thyroid_surgery              category\n",
              "query_hypothyroid            category\n",
              "query_hyperthyroid           category\n",
              "pregnant                     category\n",
              "sick                         category\n",
              "tumor                        category\n",
              "lithium                      category\n",
              "goitre                       category\n",
              "TSH_measured                 category\n",
              "TSH                            object\n",
              "T3_measured                  category\n",
              "T3                             object\n",
              "TT4_measured                 category\n",
              "TT4                            object\n",
              "T4U_measured                 category\n",
              "T4U                            object\n",
              "FTI_measured                 category\n",
              "FTI                            object\n",
              "dtype: object"
            ]
          },
          "metadata": {
            "tags": []
          },
          "execution_count": 126
        }
      ]
    },
    {
      "cell_type": "code",
      "metadata": {
        "id": "Lo-fiu1feorn",
        "outputId": "36183342-5389-4e92-a2be-be2aff2a3a91",
        "colab": {
          "base_uri": "https://localhost:8080/",
          "height": 472
        }
      },
      "source": [
        "# let's convert numerical variables to numerical datatypes and replace question marks nan\n",
        "##‘coerce’ converts invalid parsing in this case '?' to NaN.\n",
        "\n",
        "hypothy['age'] = pd.to_numeric(hypothy['age'], errors = 'coerce') \n",
        "hypothy['TSH'] = pd.to_numeric(hypothy['TSH'], errors = 'coerce')\n",
        "hypothy['T3'] = pd.to_numeric(hypothy['T3'], errors = 'coerce')\n",
        "hypothy['TT4'] = pd.to_numeric(hypothy['TT4'], errors = 'coerce')\n",
        "hypothy['T4U'] = pd.to_numeric(hypothy['T4U'], errors = 'coerce')\n",
        "hypothy['FTI'] = pd.to_numeric(hypothy['FTI'], errors = 'coerce')\n",
        "\n",
        "print(hypothy.dtypes)"
      ],
      "execution_count": 127,
      "outputs": [
        {
          "output_type": "stream",
          "text": [
            "status                       category\n",
            "age                             int64\n",
            "sex                          category\n",
            "on_thyroxine                 category\n",
            "query_on_thyroxine           category\n",
            "on_antithyroid_medication    category\n",
            "thyroid_surgery              category\n",
            "query_hypothyroid            category\n",
            "query_hyperthyroid           category\n",
            "pregnant                     category\n",
            "sick                         category\n",
            "tumor                        category\n",
            "lithium                      category\n",
            "goitre                       category\n",
            "TSH_measured                 category\n",
            "TSH                           float64\n",
            "T3_measured                  category\n",
            "T3                            float64\n",
            "TT4_measured                 category\n",
            "TT4                           float64\n",
            "T4U_measured                 category\n",
            "T4U                           float64\n",
            "FTI_measured                 category\n",
            "FTI                           float64\n",
            "dtype: object\n"
          ],
          "name": "stdout"
        }
      ]
    },
    {
      "cell_type": "code",
      "metadata": {
        "id": "2z3BVXEwh3QH",
        "outputId": "2c4f62fd-a1b8-48e1-e443-919d28396553",
        "colab": {
          "base_uri": "https://localhost:8080/",
          "height": 35
        }
      },
      "source": [
        "hypothy.shape"
      ],
      "execution_count": 128,
      "outputs": [
        {
          "output_type": "execute_result",
          "data": {
            "text/plain": [
              "(1946, 24)"
            ]
          },
          "metadata": {
            "tags": []
          },
          "execution_count": 128
        }
      ]
    },
    {
      "cell_type": "markdown",
      "metadata": {
        "id": "jjdE6mDQxIHI"
      },
      "source": [
        "# EXPLORATORY DATA ANALYSIS"
      ]
    },
    {
      "cell_type": "markdown",
      "metadata": {
        "id": "3XDtfL3w11CS"
      },
      "source": [
        "**UNIVARIATE ANALYSIS**"
      ]
    },
    {
      "cell_type": "code",
      "metadata": {
        "id": "MA_AelnXwzz_",
        "outputId": "183805da-f19f-470f-ba17-e53ffc0d330c",
        "colab": {
          "base_uri": "https://localhost:8080/",
          "height": 218
        }
      },
      "source": [
        "#lets preview our clean dataset\n",
        "\n",
        "df1 = hypothy\n",
        "df1.head(5)"
      ],
      "execution_count": 129,
      "outputs": [
        {
          "output_type": "execute_result",
          "data": {
            "text/html": [
              "<div>\n",
              "<style scoped>\n",
              "    .dataframe tbody tr th:only-of-type {\n",
              "        vertical-align: middle;\n",
              "    }\n",
              "\n",
              "    .dataframe tbody tr th {\n",
              "        vertical-align: top;\n",
              "    }\n",
              "\n",
              "    .dataframe thead th {\n",
              "        text-align: right;\n",
              "    }\n",
              "</style>\n",
              "<table border=\"1\" class=\"dataframe\">\n",
              "  <thead>\n",
              "    <tr style=\"text-align: right;\">\n",
              "      <th></th>\n",
              "      <th>status</th>\n",
              "      <th>age</th>\n",
              "      <th>sex</th>\n",
              "      <th>on_thyroxine</th>\n",
              "      <th>query_on_thyroxine</th>\n",
              "      <th>on_antithyroid_medication</th>\n",
              "      <th>thyroid_surgery</th>\n",
              "      <th>query_hypothyroid</th>\n",
              "      <th>query_hyperthyroid</th>\n",
              "      <th>pregnant</th>\n",
              "      <th>sick</th>\n",
              "      <th>tumor</th>\n",
              "      <th>lithium</th>\n",
              "      <th>goitre</th>\n",
              "      <th>TSH_measured</th>\n",
              "      <th>TSH</th>\n",
              "      <th>T3_measured</th>\n",
              "      <th>T3</th>\n",
              "      <th>TT4_measured</th>\n",
              "      <th>TT4</th>\n",
              "      <th>T4U_measured</th>\n",
              "      <th>T4U</th>\n",
              "      <th>FTI_measured</th>\n",
              "      <th>FTI</th>\n",
              "    </tr>\n",
              "  </thead>\n",
              "  <tbody>\n",
              "    <tr>\n",
              "      <th>0</th>\n",
              "      <td>hypothyroid</td>\n",
              "      <td>72</td>\n",
              "      <td>M</td>\n",
              "      <td>f</td>\n",
              "      <td>f</td>\n",
              "      <td>f</td>\n",
              "      <td>f</td>\n",
              "      <td>f</td>\n",
              "      <td>f</td>\n",
              "      <td>f</td>\n",
              "      <td>f</td>\n",
              "      <td>f</td>\n",
              "      <td>f</td>\n",
              "      <td>f</td>\n",
              "      <td>y</td>\n",
              "      <td>30.0</td>\n",
              "      <td>y</td>\n",
              "      <td>0.6</td>\n",
              "      <td>y</td>\n",
              "      <td>15.0</td>\n",
              "      <td>y</td>\n",
              "      <td>1.48</td>\n",
              "      <td>y</td>\n",
              "      <td>10.0</td>\n",
              "    </tr>\n",
              "    <tr>\n",
              "      <th>1</th>\n",
              "      <td>hypothyroid</td>\n",
              "      <td>15</td>\n",
              "      <td>F</td>\n",
              "      <td>t</td>\n",
              "      <td>f</td>\n",
              "      <td>f</td>\n",
              "      <td>f</td>\n",
              "      <td>f</td>\n",
              "      <td>f</td>\n",
              "      <td>f</td>\n",
              "      <td>f</td>\n",
              "      <td>f</td>\n",
              "      <td>f</td>\n",
              "      <td>f</td>\n",
              "      <td>y</td>\n",
              "      <td>145.0</td>\n",
              "      <td>y</td>\n",
              "      <td>1.7</td>\n",
              "      <td>y</td>\n",
              "      <td>19.0</td>\n",
              "      <td>y</td>\n",
              "      <td>1.13</td>\n",
              "      <td>y</td>\n",
              "      <td>17.0</td>\n",
              "    </tr>\n",
              "    <tr>\n",
              "      <th>2</th>\n",
              "      <td>hypothyroid</td>\n",
              "      <td>24</td>\n",
              "      <td>M</td>\n",
              "      <td>f</td>\n",
              "      <td>f</td>\n",
              "      <td>f</td>\n",
              "      <td>f</td>\n",
              "      <td>f</td>\n",
              "      <td>f</td>\n",
              "      <td>f</td>\n",
              "      <td>f</td>\n",
              "      <td>f</td>\n",
              "      <td>f</td>\n",
              "      <td>f</td>\n",
              "      <td>y</td>\n",
              "      <td>0.0</td>\n",
              "      <td>y</td>\n",
              "      <td>0.2</td>\n",
              "      <td>y</td>\n",
              "      <td>4.0</td>\n",
              "      <td>y</td>\n",
              "      <td>1.00</td>\n",
              "      <td>y</td>\n",
              "      <td>0.0</td>\n",
              "    </tr>\n",
              "    <tr>\n",
              "      <th>3</th>\n",
              "      <td>hypothyroid</td>\n",
              "      <td>24</td>\n",
              "      <td>F</td>\n",
              "      <td>f</td>\n",
              "      <td>f</td>\n",
              "      <td>f</td>\n",
              "      <td>f</td>\n",
              "      <td>f</td>\n",
              "      <td>f</td>\n",
              "      <td>f</td>\n",
              "      <td>f</td>\n",
              "      <td>f</td>\n",
              "      <td>f</td>\n",
              "      <td>f</td>\n",
              "      <td>y</td>\n",
              "      <td>430.0</td>\n",
              "      <td>y</td>\n",
              "      <td>0.4</td>\n",
              "      <td>y</td>\n",
              "      <td>6.0</td>\n",
              "      <td>y</td>\n",
              "      <td>1.04</td>\n",
              "      <td>y</td>\n",
              "      <td>6.0</td>\n",
              "    </tr>\n",
              "    <tr>\n",
              "      <th>4</th>\n",
              "      <td>hypothyroid</td>\n",
              "      <td>77</td>\n",
              "      <td>M</td>\n",
              "      <td>f</td>\n",
              "      <td>f</td>\n",
              "      <td>f</td>\n",
              "      <td>f</td>\n",
              "      <td>f</td>\n",
              "      <td>f</td>\n",
              "      <td>f</td>\n",
              "      <td>f</td>\n",
              "      <td>f</td>\n",
              "      <td>f</td>\n",
              "      <td>f</td>\n",
              "      <td>y</td>\n",
              "      <td>7.3</td>\n",
              "      <td>y</td>\n",
              "      <td>1.2</td>\n",
              "      <td>y</td>\n",
              "      <td>57.0</td>\n",
              "      <td>y</td>\n",
              "      <td>1.28</td>\n",
              "      <td>y</td>\n",
              "      <td>44.0</td>\n",
              "    </tr>\n",
              "  </tbody>\n",
              "</table>\n",
              "</div>"
            ],
            "text/plain": [
              "        status  age sex on_thyroxine  ... T4U_measured   T4U FTI_measured   FTI\n",
              "0  hypothyroid   72   M            f  ...            y  1.48            y  10.0\n",
              "1  hypothyroid   15   F            t  ...            y  1.13            y  17.0\n",
              "2  hypothyroid   24   M            f  ...            y  1.00            y   0.0\n",
              "3  hypothyroid   24   F            f  ...            y  1.04            y   6.0\n",
              "4  hypothyroid   77   M            f  ...            y  1.28            y  44.0\n",
              "\n",
              "[5 rows x 24 columns]"
            ]
          },
          "metadata": {
            "tags": []
          },
          "execution_count": 129
        }
      ]
    },
    {
      "cell_type": "code",
      "metadata": {
        "id": "_F-XneOwyWEJ",
        "outputId": "eb33b02d-34b5-4601-f208-73ba1ebf3e35",
        "colab": {
          "base_uri": "https://localhost:8080/",
          "height": 288
        }
      },
      "source": [
        "# checking the statistical summary of the cleaned data\n",
        "df1.describe()"
      ],
      "execution_count": 130,
      "outputs": [
        {
          "output_type": "execute_result",
          "data": {
            "text/html": [
              "<div>\n",
              "<style scoped>\n",
              "    .dataframe tbody tr th:only-of-type {\n",
              "        vertical-align: middle;\n",
              "    }\n",
              "\n",
              "    .dataframe tbody tr th {\n",
              "        vertical-align: top;\n",
              "    }\n",
              "\n",
              "    .dataframe thead th {\n",
              "        text-align: right;\n",
              "    }\n",
              "</style>\n",
              "<table border=\"1\" class=\"dataframe\">\n",
              "  <thead>\n",
              "    <tr style=\"text-align: right;\">\n",
              "      <th></th>\n",
              "      <th>age</th>\n",
              "      <th>TSH</th>\n",
              "      <th>T3</th>\n",
              "      <th>TT4</th>\n",
              "      <th>T4U</th>\n",
              "      <th>FTI</th>\n",
              "    </tr>\n",
              "  </thead>\n",
              "  <tbody>\n",
              "    <tr>\n",
              "      <th>count</th>\n",
              "      <td>1946.000000</td>\n",
              "      <td>1946.000000</td>\n",
              "      <td>1946.000000</td>\n",
              "      <td>1946.000000</td>\n",
              "      <td>1946.000000</td>\n",
              "      <td>1946.000000</td>\n",
              "    </tr>\n",
              "    <tr>\n",
              "      <th>mean</th>\n",
              "      <td>53.584789</td>\n",
              "      <td>5.957256</td>\n",
              "      <td>1.918911</td>\n",
              "      <td>107.246300</td>\n",
              "      <td>0.987744</td>\n",
              "      <td>110.140956</td>\n",
              "    </tr>\n",
              "    <tr>\n",
              "      <th>std</th>\n",
              "      <td>19.258577</td>\n",
              "      <td>24.676600</td>\n",
              "      <td>0.955347</td>\n",
              "      <td>44.081825</td>\n",
              "      <td>0.230405</td>\n",
              "      <td>40.324629</td>\n",
              "    </tr>\n",
              "    <tr>\n",
              "      <th>min</th>\n",
              "      <td>1.000000</td>\n",
              "      <td>0.000000</td>\n",
              "      <td>0.050000</td>\n",
              "      <td>2.000000</td>\n",
              "      <td>0.000000</td>\n",
              "      <td>0.000000</td>\n",
              "    </tr>\n",
              "    <tr>\n",
              "      <th>25%</th>\n",
              "      <td>37.000000</td>\n",
              "      <td>0.000000</td>\n",
              "      <td>1.300000</td>\n",
              "      <td>82.000000</td>\n",
              "      <td>0.852500</td>\n",
              "      <td>90.000000</td>\n",
              "    </tr>\n",
              "    <tr>\n",
              "      <th>50%</th>\n",
              "      <td>57.000000</td>\n",
              "      <td>0.700000</td>\n",
              "      <td>1.800000</td>\n",
              "      <td>103.000000</td>\n",
              "      <td>0.960000</td>\n",
              "      <td>107.000000</td>\n",
              "    </tr>\n",
              "    <tr>\n",
              "      <th>75%</th>\n",
              "      <td>70.000000</td>\n",
              "      <td>2.200000</td>\n",
              "      <td>2.300000</td>\n",
              "      <td>125.000000</td>\n",
              "      <td>1.070000</td>\n",
              "      <td>126.000000</td>\n",
              "    </tr>\n",
              "    <tr>\n",
              "      <th>max</th>\n",
              "      <td>98.000000</td>\n",
              "      <td>530.000000</td>\n",
              "      <td>9.800000</td>\n",
              "      <td>450.000000</td>\n",
              "      <td>2.030000</td>\n",
              "      <td>450.000000</td>\n",
              "    </tr>\n",
              "  </tbody>\n",
              "</table>\n",
              "</div>"
            ],
            "text/plain": [
              "               age          TSH  ...          T4U          FTI\n",
              "count  1946.000000  1946.000000  ...  1946.000000  1946.000000\n",
              "mean     53.584789     5.957256  ...     0.987744   110.140956\n",
              "std      19.258577    24.676600  ...     0.230405    40.324629\n",
              "min       1.000000     0.000000  ...     0.000000     0.000000\n",
              "25%      37.000000     0.000000  ...     0.852500    90.000000\n",
              "50%      57.000000     0.700000  ...     0.960000   107.000000\n",
              "75%      70.000000     2.200000  ...     1.070000   126.000000\n",
              "max      98.000000   530.000000  ...     2.030000   450.000000\n",
              "\n",
              "[8 rows x 6 columns]"
            ]
          },
          "metadata": {
            "tags": []
          },
          "execution_count": 130
        }
      ]
    },
    {
      "cell_type": "code",
      "metadata": {
        "id": "t-VS0ndkEA2C",
        "outputId": "7afc5dd9-54aa-43dc-e3b7-adb8fce50f0c",
        "colab": {
          "base_uri": "https://localhost:8080/",
          "height": 325
        }
      },
      "source": [
        "#counting the number of people who have tested negative and those who are hypothyroid.\n",
        "df1.status.value_counts().plot(kind = 'bar', rot = 0)\n",
        "print(df1.status.value_counts())"
      ],
      "execution_count": 131,
      "outputs": [
        {
          "output_type": "stream",
          "text": [
            "negative       1833\n",
            "hypothyroid     113\n",
            "Name: status, dtype: int64\n"
          ],
          "name": "stdout"
        },
        {
          "output_type": "display_data",
          "data": {
            "image/png": "[encoded data removed]",
            "text/plain": [
              "<Figure size 432x288 with 1 Axes>"
            ]
          },
          "metadata": {
            "tags": []
          }
        }
      ]
    },
    {
      "cell_type": "code",
      "metadata": {
        "id": "IhbRvif2Cs3A",
        "outputId": "8b4d37ea-642b-413f-f303-3b7b42368b0e",
        "colab": {
          "base_uri": "https://localhost:8080/",
          "height": 1000
        }
      },
      "source": [
        "#lets check the distribution of numerical columns\n",
        "dist_columns = ['age', 'FTI', 'T3', 'T4U', 'TSH', 'TT4']\n",
        "\n",
        "sns.set_style('darkgrid')\n",
        "fig, axes = plt.subplots(len(dist_columns), figsize = (10, 15))\n",
        "fig.suptitle('Distributions of numerical columns', y= 1.01, color = 'black', fontsize = 15)\n",
        "\n",
        "for ax, data, name in zip(axes.flatten(), df1, dist_columns):\n",
        " sns.distplot(df1[name], ax = ax, kde = True, color = 'purple')\n",
        "plt.tight_layout()"
      ],
      "execution_count": 132,
      "outputs": [
        {
          "output_type": "display_data",
          "data": {
            "image/png": "[encoded data removed]",
            "text/plain": [
              "<Figure size 720x1080 with 6 Axes>"
            ]
          },
          "metadata": {
            "tags": []
          }
        }
      ]
    },
    {
      "cell_type": "markdown",
      "metadata": {
        "id": "KF0kzOF_DD4F"
      },
      "source": [
        "comments:  age shows a bimodal distribution\n",
        "FTI and T3 shoes a bit or more than trimodal distribution with a thin curve and some skewness to the right\n",
        "T4U is a shows some bimodal distribution with majority of the data being normally distributed\n",
        "TSH is heavily skewed to the right\n",
        "TT4 is normally distributed"
      ]
    },
    {
      "cell_type": "markdown",
      "metadata": {
        "id": "SFPx2_rM1480"
      },
      "source": [
        "**BIVARIATE ANALYSIS**"
      ]
    },
    {
      "cell_type": "code",
      "metadata": {
        "id": "onpUJoiKyVTI",
        "outputId": "84c3b6b1-4c64-48bd-f923-1b5a538adb86",
        "colab": {
          "base_uri": "https://localhost:8080/",
          "height": 307
        }
      },
      "source": [
        "#barchart comparing sex and status\n",
        "pd.crosstab(df1['status'], df1['sex']).plot(kind='bar', rot=0, fontsize=12)"
      ],
      "execution_count": 133,
      "outputs": [
        {
          "output_type": "execute_result",
          "data": {
            "text/plain": [
              "<matplotlib.axes._subplots.AxesSubplot at 0x7f4b51862b38>"
            ]
          },
          "metadata": {
            "tags": []
          },
          "execution_count": 133
        },
        {
          "output_type": "display_data",
          "data": {
            "image/png": "[encoded data removed]",
            "text/plain": [
              "<Figure size 432x288 with 1 Axes>"
            ]
          },
          "metadata": {
            "tags": []
          }
        }
      ]
    },
    {
      "cell_type": "code",
      "metadata": {
        "id": "z_CJiWmpDu2l",
        "outputId": "33ec940e-c330-4266-8e38-0091fe3a5214",
        "colab": {
          "base_uri": "https://localhost:8080/",
          "height": 307
        }
      },
      "source": [
        "pd.crosstab(df1['status'], df1['on_antithyroid_medication']).plot(kind='bar', rot=0, fontsize=12)\n",
        "# a few males who test negative are on antithyroid medication"
      ],
      "execution_count": 134,
      "outputs": [
        {
          "output_type": "execute_result",
          "data": {
            "text/plain": [
              "<matplotlib.axes._subplots.AxesSubplot at 0x7f4b518ca7f0>"
            ]
          },
          "metadata": {
            "tags": []
          },
          "execution_count": 134
        },
        {
          "output_type": "display_data",
          "data": {
            "image/png": "[encoded data removed]",
            "text/plain": [
              "<Figure size 432x288 with 1 Axes>"
            ]
          },
          "metadata": {
            "tags": []
          }
        }
      ]
    },
    {
      "cell_type": "code",
      "metadata": {
        "id": "WohdzpK3CrZQ"
      },
      "source": [
        "# splitting age into  age groups to get a deeper understanding of our data.\n",
        "conditions = [\n",
        "    ((df1.age >= 0) & (df1.age <= 9)),\n",
        "    ((df1.age >= 10) & (df1.age <= 19)),\n",
        "    ((df1.age >= 20) & (df1.age <= 29)),\n",
        "    ((df1.age >= 30) & (df1.age <= 39)),\n",
        "    ((df1.age >= 40) & (df1.age <= 49)),\n",
        "    ((df1.age >= 50) & (df1.age <= 59)),\n",
        "    ((df1.age >= 60) & (df1.age <= 69)),\n",
        "    ((df1.age >= 70) & (df1.age <= 79)),\n",
        "    ((df1.age >= 80) & (df1.age <= 89)),\n",
        "    ((df1.age >= 90) & (df1.age <= 98))\n",
        "]\n",
        "\n",
        "groups = ['G1', 'G2', 'G3', 'G4', 'G5', 'G6', 'G7', 'G8', 'G9','G10']\n",
        "#create a column that stores our new data\n",
        "df1['age'] = np.select(conditions, groups)\n"
      ],
      "execution_count": 135,
      "outputs": []
    },
    {
      "cell_type": "code",
      "metadata": {
        "id": "Ly7wOPzHDuqd",
        "outputId": "d1e61c2a-c451-494a-bd08-418ae8ca46fa",
        "colab": {
          "base_uri": "https://localhost:8080/",
          "height": 343
        }
      },
      "source": [
        "\n",
        "#plot a graph to show the distribution of hypothyroidism across different ages.\n",
        "age = sns.countplot('age', hue = 'status', data = df1)\n",
        "age.set(title = \"relation between the age and hypothyroidism\", ylabel = \"Status\")"
      ],
      "execution_count": 136,
      "outputs": [
        {
          "output_type": "execute_result",
          "data": {
            "text/plain": [
              "[Text(0, 0.5, 'Status'),\n",
              " Text(0.5, 1.0, 'relation between the age and hypothyroidism')]"
            ]
          },
          "metadata": {
            "tags": []
          },
          "execution_count": 136
        },
        {
          "output_type": "display_data",
          "data": {
            "image/png": "[encoded data removed]",
            "text/plain": [
              "<Figure size 432x288 with 1 Axes>"
            ]
          },
          "metadata": {
            "tags": []
          }
        }
      ]
    },
    {
      "cell_type": "markdown",
      "metadata": {
        "id": "eQZ7lyogDgs0"
      },
      "source": [
        "comment:we observe that more female have hypothyroid compared to male\n",
        "we also see that more female tested negative. thia is expected since more females took the test\n"
      ]
    },
    {
      "cell_type": "code",
      "metadata": {
        "id": "t8AtvArpFmu-",
        "outputId": "b6f744b0-2e99-4e94-b07b-6308b55f089a",
        "colab": {
          "base_uri": "https://localhost:8080/",
          "height": 307
        }
      },
      "source": [
        "pd.crosstab(df1['status'], df1['goitre']).plot(kind='bar', rot=0, fontsize=12)\n",
        "\n",
        "# a few patients who tested negative have goitre"
      ],
      "execution_count": 137,
      "outputs": [
        {
          "output_type": "execute_result",
          "data": {
            "text/plain": [
              "<matplotlib.axes._subplots.AxesSubplot at 0x7f4b4cc499e8>"
            ]
          },
          "metadata": {
            "tags": []
          },
          "execution_count": 137
        },
        {
          "output_type": "display_data",
          "data": {
            "image/png": "[encoded data removed]",
            "text/plain": [
              "<Figure size 432x288 with 1 Axes>"
            ]
          },
          "metadata": {
            "tags": []
          }
        }
      ]
    },
    {
      "cell_type": "markdown",
      "metadata": {
        "id": "V6ycjaqIGI4P"
      },
      "source": [
        " comments:the numerical variables shows moderate to strong positive and negative correlation among each other. some have week negative correlation e.g T4U to FTI and age to TT4. let's explore this further by plotting pair plots below."
      ]
    },
    {
      "cell_type": "markdown",
      "metadata": {
        "id": "MHP6cH_X182l"
      },
      "source": [
        "**MULTIVARIATE ANALYSIS**"
      ]
    },
    {
      "cell_type": "code",
      "metadata": {
        "id": "wLo1r6wL1_9a",
        "outputId": "f3d211fa-e42e-48eb-c215-4e5e9416f907",
        "colab": {
          "base_uri": "https://localhost:8080/",
          "height": 198
        }
      },
      "source": [
        "#checking the correlation\n",
        "corr = df1.corr()\n",
        "corr"
      ],
      "execution_count": 138,
      "outputs": [
        {
          "output_type": "execute_result",
          "data": {
            "text/html": [
              "<div>\n",
              "<style scoped>\n",
              "    .dataframe tbody tr th:only-of-type {\n",
              "        vertical-align: middle;\n",
              "    }\n",
              "\n",
              "    .dataframe tbody tr th {\n",
              "        vertical-align: top;\n",
              "    }\n",
              "\n",
              "    .dataframe thead th {\n",
              "        text-align: right;\n",
              "    }\n",
              "</style>\n",
              "<table border=\"1\" class=\"dataframe\">\n",
              "  <thead>\n",
              "    <tr style=\"text-align: right;\">\n",
              "      <th></th>\n",
              "      <th>TSH</th>\n",
              "      <th>T3</th>\n",
              "      <th>TT4</th>\n",
              "      <th>T4U</th>\n",
              "      <th>FTI</th>\n",
              "    </tr>\n",
              "  </thead>\n",
              "  <tbody>\n",
              "    <tr>\n",
              "      <th>TSH</th>\n",
              "      <td>1.000000</td>\n",
              "      <td>-0.188139</td>\n",
              "      <td>-0.327163</td>\n",
              "      <td>0.058965</td>\n",
              "      <td>-0.378382</td>\n",
              "    </tr>\n",
              "    <tr>\n",
              "      <th>T3</th>\n",
              "      <td>-0.188139</td>\n",
              "      <td>1.000000</td>\n",
              "      <td>0.580542</td>\n",
              "      <td>0.499923</td>\n",
              "      <td>0.316124</td>\n",
              "    </tr>\n",
              "    <tr>\n",
              "      <th>TT4</th>\n",
              "      <td>-0.327163</td>\n",
              "      <td>0.580542</td>\n",
              "      <td>1.000000</td>\n",
              "      <td>0.423904</td>\n",
              "      <td>0.802290</td>\n",
              "    </tr>\n",
              "    <tr>\n",
              "      <th>T4U</th>\n",
              "      <td>0.058965</td>\n",
              "      <td>0.499923</td>\n",
              "      <td>0.423904</td>\n",
              "      <td>1.000000</td>\n",
              "      <td>-0.148000</td>\n",
              "    </tr>\n",
              "    <tr>\n",
              "      <th>FTI</th>\n",
              "      <td>-0.378382</td>\n",
              "      <td>0.316124</td>\n",
              "      <td>0.802290</td>\n",
              "      <td>-0.148000</td>\n",
              "      <td>1.000000</td>\n",
              "    </tr>\n",
              "  </tbody>\n",
              "</table>\n",
              "</div>"
            ],
            "text/plain": [
              "          TSH        T3       TT4       T4U       FTI\n",
              "TSH  1.000000 -0.188139 -0.327163  0.058965 -0.378382\n",
              "T3  -0.188139  1.000000  0.580542  0.499923  0.316124\n",
              "TT4 -0.327163  0.580542  1.000000  0.423904  0.802290\n",
              "T4U  0.058965  0.499923  0.423904  1.000000 -0.148000\n",
              "FTI -0.378382  0.316124  0.802290 -0.148000  1.000000"
            ]
          },
          "metadata": {
            "tags": []
          },
          "execution_count": 138
        }
      ]
    },
    {
      "cell_type": "markdown",
      "metadata": {
        "id": "ineDpP3tGlI0"
      },
      "source": [
        "the relation to itself is 1, has expected. TBG,T4U,TT4,T3 have an inverse relation to age"
      ]
    },
    {
      "cell_type": "markdown",
      "metadata": {
        "id": "-CC6VHj2G7Az"
      },
      "source": [
        "# MODELLING"
      ]
    },
    {
      "cell_type": "markdown",
      "metadata": {
        "id": "3E3ElenYHv2A"
      },
      "source": [
        "**DATA PREPROCESSING**"
      ]
    },
    {
      "cell_type": "code",
      "metadata": {
        "id": "cz5Jptvl2A8a"
      },
      "source": [
        "# since most of the categorical columns are in string format,\n",
        "# there is need to encode the data to numerical before we begin modeling\n",
        "# we will use label encoding (.cat.codes)\n",
        "\n",
        "df1['status'] = df1['status'].cat.codes\n",
        "df1['sex'] = df1['sex'].cat.codes\n",
        "df1['on_thyroxine'] = df1['on_thyroxine'].cat.codes\n",
        "df1['query_on_thyroxine'] = df1['query_on_thyroxine'].cat.codes\n",
        "df1['on_antithyroid_medication'] = df1['on_antithyroid_medication'].cat.codes\n",
        "df1['thyroid_surgery'] = df1['thyroid_surgery'].cat.codes\n",
        "df1['query_hypothyroid'] = df1['query_hypothyroid'].cat.codes\n",
        "df1['query_hyperthyroid'] = df1['query_hyperthyroid'].cat.codes\n",
        "df1['pregnant'] = df1['pregnant'].cat.codes\n",
        "\n",
        "df1['sick'] = df1['sick'].cat.codes\n",
        "df1['tumor'] = df1['tumor'].cat.codes\n",
        "df1['lithium'] = df1['lithium'].cat.codes\n",
        "df1['goitre'] = df1['goitre'].cat.codes\n",
        "df1['TSH_measured'] = df1['TSH_measured'].cat.codes\n",
        "df1['T3_measured'] = df1['T3_measured'].cat.codes\n",
        "df1['TT4_measured'] = df1['TT4_measured'].cat.codes\n",
        "df1['T4U_measured'] = df1['T4U_measured'].cat.codes\n",
        "df1['FTI_measured'] = df1['FTI_measured'].cat.codes"
      ],
      "execution_count": 139,
      "outputs": []
    },
    {
      "cell_type": "code",
      "metadata": {
        "id": "bZv45cAi2A_d",
        "outputId": "3687b79f-8952-44fb-a48a-9790cfcb549f",
        "colab": {
          "base_uri": "https://localhost:8080/",
          "height": 472
        }
      },
      "source": [
        "# checking for data types. \n",
        "df1.dtypes"
      ],
      "execution_count": 140,
      "outputs": [
        {
          "output_type": "execute_result",
          "data": {
            "text/plain": [
              "status                          int8\n",
              "age                           object\n",
              "sex                             int8\n",
              "on_thyroxine                    int8\n",
              "query_on_thyroxine              int8\n",
              "on_antithyroid_medication       int8\n",
              "thyroid_surgery                 int8\n",
              "query_hypothyroid               int8\n",
              "query_hyperthyroid              int8\n",
              "pregnant                        int8\n",
              "sick                            int8\n",
              "tumor                           int8\n",
              "lithium                         int8\n",
              "goitre                          int8\n",
              "TSH_measured                    int8\n",
              "TSH                          float64\n",
              "T3_measured                     int8\n",
              "T3                           float64\n",
              "TT4_measured                    int8\n",
              "TT4                          float64\n",
              "T4U_measured                    int8\n",
              "T4U                          float64\n",
              "FTI_measured                    int8\n",
              "FTI                          float64\n",
              "dtype: object"
            ]
          },
          "metadata": {
            "tags": []
          },
          "execution_count": 140
        }
      ]
    },
    {
      "cell_type": "code",
      "metadata": {
        "id": "UfC9rrb22BFz",
        "outputId": "b5ee8920-742d-46c9-f097-7446f6d4af2e",
        "colab": {
          "base_uri": "https://localhost:8080/",
          "height": 472
        }
      },
      "source": [
        "# converting int8 to int64\n",
        "\n",
        "df1['status'] = df1['status'].astype('int64')\n",
        "df1['sex'] = df1['sex'].astype('int64')\n",
        "df1['on_thyroxine'] = df1['on_thyroxine'].astype('int64')\n",
        "df1['query_on_thyroxine'] = df1['query_on_thyroxine'].astype('int64')\n",
        "df1['on_antithyroid_medication'] = df1['on_antithyroid_medication'].astype('int64')\n",
        "df1['thyroid_surgery'] = df1['thyroid_surgery'].astype('int64')\n",
        "df1['query_hypothyroid'] = df1['query_hypothyroid'].astype('int64')\n",
        "df1['query_hyperthyroid'] = df1['query_hyperthyroid'].astype('int64')\n",
        "df1['pregnant'] = df1['pregnant'].astype('int64')\n",
        "\n",
        "df1['sick'] = df1['sick'].astype('int64')\n",
        "df1['tumor'] = df1['tumor'].astype('int64')\n",
        "df1['lithium'] = df1['lithium'].astype('int64')\n",
        "df1['goitre'] = df1['goitre'].astype('int64')\n",
        "df1['TSH_measured'] = df1['TSH_measured'].astype('int64')\n",
        "df1['T3_measured'] = df1['T3_measured'].astype('int64')\n",
        "df1['TT4_measured'] = df1['TT4_measured'].astype('int64')\n",
        "df1['T4U_measured'] = df1['T4U_measured'].astype('int64')\n",
        "df1['FTI_measured'] = df1['FTI_measured'].astype('int64')\n",
        "df1.dtypes"
      ],
      "execution_count": 141,
      "outputs": [
        {
          "output_type": "execute_result",
          "data": {
            "text/plain": [
              "status                         int64\n",
              "age                           object\n",
              "sex                            int64\n",
              "on_thyroxine                   int64\n",
              "query_on_thyroxine             int64\n",
              "on_antithyroid_medication      int64\n",
              "thyroid_surgery                int64\n",
              "query_hypothyroid              int64\n",
              "query_hyperthyroid             int64\n",
              "pregnant                       int64\n",
              "sick                           int64\n",
              "tumor                          int64\n",
              "lithium                        int64\n",
              "goitre                         int64\n",
              "TSH_measured                   int64\n",
              "TSH                          float64\n",
              "T3_measured                    int64\n",
              "T3                           float64\n",
              "TT4_measured                   int64\n",
              "TT4                          float64\n",
              "T4U_measured                   int64\n",
              "T4U                          float64\n",
              "FTI_measured                   int64\n",
              "FTI                          float64\n",
              "dtype: object"
            ]
          },
          "metadata": {
            "tags": []
          },
          "execution_count": 141
        }
      ]
    },
    {
      "cell_type": "code",
      "metadata": {
        "id": "FGiphK7Y2BSw",
        "outputId": "e1b10202-f80f-4380-c710-8df4a2d87d33",
        "colab": {
          "base_uri": "https://localhost:8080/",
          "height": 218
        }
      },
      "source": [
        "df1.head()"
      ],
      "execution_count": 142,
      "outputs": [
        {
          "output_type": "execute_result",
          "data": {
            "text/html": [
              "<div>\n",
              "<style scoped>\n",
              "    .dataframe tbody tr th:only-of-type {\n",
              "        vertical-align: middle;\n",
              "    }\n",
              "\n",
              "    .dataframe tbody tr th {\n",
              "        vertical-align: top;\n",
              "    }\n",
              "\n",
              "    .dataframe thead th {\n",
              "        text-align: right;\n",
              "    }\n",
              "</style>\n",
              "<table border=\"1\" class=\"dataframe\">\n",
              "  <thead>\n",
              "    <tr style=\"text-align: right;\">\n",
              "      <th></th>\n",
              "      <th>status</th>\n",
              "      <th>age</th>\n",
              "      <th>sex</th>\n",
              "      <th>on_thyroxine</th>\n",
              "      <th>query_on_thyroxine</th>\n",
              "      <th>on_antithyroid_medication</th>\n",
              "      <th>thyroid_surgery</th>\n",
              "      <th>query_hypothyroid</th>\n",
              "      <th>query_hyperthyroid</th>\n",
              "      <th>pregnant</th>\n",
              "      <th>sick</th>\n",
              "      <th>tumor</th>\n",
              "      <th>lithium</th>\n",
              "      <th>goitre</th>\n",
              "      <th>TSH_measured</th>\n",
              "      <th>TSH</th>\n",
              "      <th>T3_measured</th>\n",
              "      <th>T3</th>\n",
              "      <th>TT4_measured</th>\n",
              "      <th>TT4</th>\n",
              "      <th>T4U_measured</th>\n",
              "      <th>T4U</th>\n",
              "      <th>FTI_measured</th>\n",
              "      <th>FTI</th>\n",
              "    </tr>\n",
              "  </thead>\n",
              "  <tbody>\n",
              "    <tr>\n",
              "      <th>0</th>\n",
              "      <td>0</td>\n",
              "      <td>G8</td>\n",
              "      <td>1</td>\n",
              "      <td>0</td>\n",
              "      <td>0</td>\n",
              "      <td>0</td>\n",
              "      <td>0</td>\n",
              "      <td>0</td>\n",
              "      <td>0</td>\n",
              "      <td>0</td>\n",
              "      <td>0</td>\n",
              "      <td>0</td>\n",
              "      <td>0</td>\n",
              "      <td>0</td>\n",
              "      <td>0</td>\n",
              "      <td>30.0</td>\n",
              "      <td>0</td>\n",
              "      <td>0.6</td>\n",
              "      <td>0</td>\n",
              "      <td>15.0</td>\n",
              "      <td>0</td>\n",
              "      <td>1.48</td>\n",
              "      <td>0</td>\n",
              "      <td>10.0</td>\n",
              "    </tr>\n",
              "    <tr>\n",
              "      <th>1</th>\n",
              "      <td>0</td>\n",
              "      <td>G2</td>\n",
              "      <td>0</td>\n",
              "      <td>1</td>\n",
              "      <td>0</td>\n",
              "      <td>0</td>\n",
              "      <td>0</td>\n",
              "      <td>0</td>\n",
              "      <td>0</td>\n",
              "      <td>0</td>\n",
              "      <td>0</td>\n",
              "      <td>0</td>\n",
              "      <td>0</td>\n",
              "      <td>0</td>\n",
              "      <td>0</td>\n",
              "      <td>145.0</td>\n",
              "      <td>0</td>\n",
              "      <td>1.7</td>\n",
              "      <td>0</td>\n",
              "      <td>19.0</td>\n",
              "      <td>0</td>\n",
              "      <td>1.13</td>\n",
              "      <td>0</td>\n",
              "      <td>17.0</td>\n",
              "    </tr>\n",
              "    <tr>\n",
              "      <th>2</th>\n",
              "      <td>0</td>\n",
              "      <td>G3</td>\n",
              "      <td>1</td>\n",
              "      <td>0</td>\n",
              "      <td>0</td>\n",
              "      <td>0</td>\n",
              "      <td>0</td>\n",
              "      <td>0</td>\n",
              "      <td>0</td>\n",
              "      <td>0</td>\n",
              "      <td>0</td>\n",
              "      <td>0</td>\n",
              "      <td>0</td>\n",
              "      <td>0</td>\n",
              "      <td>0</td>\n",
              "      <td>0.0</td>\n",
              "      <td>0</td>\n",
              "      <td>0.2</td>\n",
              "      <td>0</td>\n",
              "      <td>4.0</td>\n",
              "      <td>0</td>\n",
              "      <td>1.00</td>\n",
              "      <td>0</td>\n",
              "      <td>0.0</td>\n",
              "    </tr>\n",
              "    <tr>\n",
              "      <th>3</th>\n",
              "      <td>0</td>\n",
              "      <td>G3</td>\n",
              "      <td>0</td>\n",
              "      <td>0</td>\n",
              "      <td>0</td>\n",
              "      <td>0</td>\n",
              "      <td>0</td>\n",
              "      <td>0</td>\n",
              "      <td>0</td>\n",
              "      <td>0</td>\n",
              "      <td>0</td>\n",
              "      <td>0</td>\n",
              "      <td>0</td>\n",
              "      <td>0</td>\n",
              "      <td>0</td>\n",
              "      <td>430.0</td>\n",
              "      <td>0</td>\n",
              "      <td>0.4</td>\n",
              "      <td>0</td>\n",
              "      <td>6.0</td>\n",
              "      <td>0</td>\n",
              "      <td>1.04</td>\n",
              "      <td>0</td>\n",
              "      <td>6.0</td>\n",
              "    </tr>\n",
              "    <tr>\n",
              "      <th>4</th>\n",
              "      <td>0</td>\n",
              "      <td>G8</td>\n",
              "      <td>1</td>\n",
              "      <td>0</td>\n",
              "      <td>0</td>\n",
              "      <td>0</td>\n",
              "      <td>0</td>\n",
              "      <td>0</td>\n",
              "      <td>0</td>\n",
              "      <td>0</td>\n",
              "      <td>0</td>\n",
              "      <td>0</td>\n",
              "      <td>0</td>\n",
              "      <td>0</td>\n",
              "      <td>0</td>\n",
              "      <td>7.3</td>\n",
              "      <td>0</td>\n",
              "      <td>1.2</td>\n",
              "      <td>0</td>\n",
              "      <td>57.0</td>\n",
              "      <td>0</td>\n",
              "      <td>1.28</td>\n",
              "      <td>0</td>\n",
              "      <td>44.0</td>\n",
              "    </tr>\n",
              "  </tbody>\n",
              "</table>\n",
              "</div>"
            ],
            "text/plain": [
              "   status age  sex  on_thyroxine  ...  T4U_measured   T4U  FTI_measured   FTI\n",
              "0       0  G8    1             0  ...             0  1.48             0  10.0\n",
              "1       0  G2    0             1  ...             0  1.13             0  17.0\n",
              "2       0  G3    1             0  ...             0  1.00             0   0.0\n",
              "3       0  G3    0             0  ...             0  1.04             0   6.0\n",
              "4       0  G8    1             0  ...             0  1.28             0  44.0\n",
              "\n",
              "[5 rows x 24 columns]"
            ]
          },
          "metadata": {
            "tags": []
          },
          "execution_count": 142
        }
      ]
    },
    {
      "cell_type": "code",
      "metadata": {
        "id": "aWbLektiuooE",
        "outputId": "a5028117-0b47-4c4d-b75d-02804d1fa4c0",
        "colab": {
          "base_uri": "https://localhost:8080/",
          "height": 472
        }
      },
      "source": [
        "df1.isnull().sum()"
      ],
      "execution_count": 143,
      "outputs": [
        {
          "output_type": "execute_result",
          "data": {
            "text/plain": [
              "status                       0\n",
              "age                          0\n",
              "sex                          0\n",
              "on_thyroxine                 0\n",
              "query_on_thyroxine           0\n",
              "on_antithyroid_medication    0\n",
              "thyroid_surgery              0\n",
              "query_hypothyroid            0\n",
              "query_hyperthyroid           0\n",
              "pregnant                     0\n",
              "sick                         0\n",
              "tumor                        0\n",
              "lithium                      0\n",
              "goitre                       0\n",
              "TSH_measured                 0\n",
              "TSH                          0\n",
              "T3_measured                  0\n",
              "T3                           0\n",
              "TT4_measured                 0\n",
              "TT4                          0\n",
              "T4U_measured                 0\n",
              "T4U                          0\n",
              "FTI_measured                 0\n",
              "FTI                          0\n",
              "dtype: int64"
            ]
          },
          "metadata": {
            "tags": []
          },
          "execution_count": 143
        }
      ]
    },
    {
      "cell_type": "markdown",
      "metadata": {
        "id": "8bXrho_PIIKG"
      },
      "source": [
        "**RANDOM FORESTS**"
      ]
    },
    {
      "cell_type": "code",
      "metadata": {
        "id": "FhJ2tkQc2BYg"
      },
      "source": [
        "# splitting data into features and label\n",
        "\n",
        "features = ['sex', 'on_thyroxine', 'query_on_thyroxine',\n",
        "       'on_antithyroid_medication', 'thyroid_surgery', 'query_hypothyroid',\n",
        "       'query_hyperthyroid', 'pregnant', 'sick', 'tumor', 'lithium', 'goitre',\n",
        "        'TSH', 'T3', 'TT4',\n",
        "        'T4U', 'FTI']\n",
        "X = df1[features].values\n",
        "y = df1['status'].values\n",
        "# training data using 80% of our data\n",
        "X_train, X_test, y_train, y_test = train_test_split(X,y, test_size = 0.2, random_state=0)\n",
        "\n",
        "# assigning number of trees to use to a variable\n",
        "target_number_of_trees =100\n",
        "\n"
      ],
      "execution_count": 144,
      "outputs": []
    },
    {
      "cell_type": "code",
      "metadata": {
        "id": "bU3Jb9xeuOEl",
        "outputId": "fbd20894-3b5b-4f73-c323-853778fd7dd6",
        "colab": {
          "base_uri": "https://localhost:8080/",
          "height": 54
        }
      },
      "source": [
        "#we train our model using 80% of the data\n",
        "X_train, X_test, y_train, y_test = train_test_split(X, y, test_size=0.3, random_state=0)\n",
        "#checking the shape our our test data\n",
        "print(X.shape)\n",
        "print(y.shape)"
      ],
      "execution_count": 145,
      "outputs": [
        {
          "output_type": "stream",
          "text": [
            "(1946, 17)\n",
            "(1946,)\n"
          ],
          "name": "stdout"
        }
      ]
    },
    {
      "cell_type": "code",
      "metadata": {
        "id": "ahEyrlPr2Bxz",
        "outputId": "99810a44-2a40-4738-a177-959a9c195eef",
        "colab": {
          "base_uri": "https://localhost:8080/",
          "height": 290
        }
      },
      "source": [
        "##RANDOM FOREST CLASSIFIER\n",
        "forest = RandomForestClassifier(n_estimators = 100, random_state=42, min_samples_split = 20, max_depth=5)\n",
        "\n",
        "# Fitting the model\n",
        "forest = forest.fit(X_train, y_train)\n",
        "\n",
        "# Predict based on the model we've trained\n",
        "\n",
        "y_pred = forest.predict(X_test)\n",
        "\n",
        "# Comparing a sample of the prediction\n",
        "\n",
        "comparison_frame = pd.DataFrame({'Actual': y_test.flatten(), 'Predicted': y_pred.flatten()})\n",
        "print(comparison_frame.sample(n=5))\n",
        "print(comparison_frame.describe())"
      ],
      "execution_count": 146,
      "outputs": [
        {
          "output_type": "stream",
          "text": [
            "     Actual  Predicted\n",
            "182       1          1\n",
            "337       1          1\n",
            "241       1          1\n",
            "296       0          0\n",
            "13        1          1\n",
            "           Actual   Predicted\n",
            "count  584.000000  584.000000\n",
            "mean     0.938356    0.940068\n",
            "std      0.240714    0.237563\n",
            "min      0.000000    0.000000\n",
            "25%      1.000000    1.000000\n",
            "50%      1.000000    1.000000\n",
            "75%      1.000000    1.000000\n",
            "max      1.000000    1.000000\n"
          ],
          "name": "stdout"
        }
      ]
    },
    {
      "cell_type": "code",
      "metadata": {
        "id": "mA7TUePcs7cg",
        "outputId": "5215980d-bc6c-480a-8829-645341681234",
        "colab": {
          "base_uri": "https://localhost:8080/",
          "height": 126
        }
      },
      "source": [
        "# Assessing model accuracy\n",
        "\n",
        "print('Mean Absolute Error:', metrics.mean_absolute_error(y_test, y_pred))  \n",
        "print('Mean Squared Error:', metrics.mean_squared_error(y_test, y_pred))  \n",
        "print('Root Mean Squared Error:', np.sqrt(metrics.mean_squared_error(y_test, y_pred)))\n",
        "print(\"Accuracy:\",metrics.accuracy_score(y_test, y_pred))\n",
        "\n",
        "confusion_matrix = confusion_matrix(y_test, y_pred)\n",
        "print(confusion_matrix)"
      ],
      "execution_count": 148,
      "outputs": [
        {
          "output_type": "stream",
          "text": [
            "Mean Absolute Error: 0.011986301369863013\n",
            "Mean Squared Error: 0.011986301369863013\n",
            "Root Mean Squared Error: 0.10948196824072452\n",
            "Accuracy: 0.988013698630137\n",
            "[[ 32   4]\n",
            " [  3 545]]\n"
          ],
          "name": "stdout"
        }
      ]
    },
    {
      "cell_type": "markdown",
      "metadata": {
        "id": "omXo3x1bvk-0"
      },
      "source": [
        "-we observe that the model is 98% accurate"
      ]
    },
    {
      "cell_type": "code",
      "metadata": {
        "id": "-w9Vy63h2Bup",
        "outputId": "185e7941-7f30-4660-cb05-aaec79973855",
        "colab": {
          "base_uri": "https://localhost:8080/",
          "height": 598
        }
      },
      "source": [
        "# Visualizing the model at random tree number 50\n",
        "\n",
        "from sklearn.tree import export_graphviz\n",
        "from sklearn.externals.six import StringIO  \n",
        "from IPython.display import Image  \n",
        "import pydotplus\n",
        "\n",
        "dot_data = StringIO()\n",
        "\n",
        "# picking the specific tree from the forest\n",
        "tree = forest.estimators_[50]\n",
        "\n",
        "export_graphviz(tree, out_file=dot_data,  \n",
        "                filled=True, rounded=True,\n",
        "                special_characters=True,feature_names = my_cols, class_names=['Hypothyroid', 'No Hypothyroid'])\n",
        "graph = pydotplus.graph_from_dot_data(dot_data.getvalue())  \n",
        "graph.write_png('hypothyroidsm_forest.png')\n",
        "Image(graph.create_png())"
      ],
      "execution_count": 150,
      "outputs": [
        {
          "output_type": "execute_result",
          "data": {
            "image/png": "[encoded data removed]",
            "text/plain": [
              "<IPython.core.display.Image object>"
            ]
          },
          "metadata": {
            "tags": []
          },
          "execution_count": 150
        }
      ]
    },
    {
      "cell_type": "code",
      "metadata": {
        "id": "8bJh09152Bnh",
        "outputId": "79b2d35a-d750-4117-facf-395ad382bc58",
        "colab": {
          "base_uri": "https://localhost:8080/",
          "height": 198
        }
      },
      "source": [
        "# compare actual values with predicted values\n",
        "compare = pd.DataFrame({'Actual' : y_test.flatten(),\n",
        "                        'Predicted' : y_pred.flatten()})\n",
        "\n",
        "# previewing our head\n",
        "compare.head()"
      ],
      "execution_count": 154,
      "outputs": [
        {
          "output_type": "execute_result",
          "data": {
            "text/html": [
              "<div>\n",
              "<style scoped>\n",
              "    .dataframe tbody tr th:only-of-type {\n",
              "        vertical-align: middle;\n",
              "    }\n",
              "\n",
              "    .dataframe tbody tr th {\n",
              "        vertical-align: top;\n",
              "    }\n",
              "\n",
              "    .dataframe thead th {\n",
              "        text-align: right;\n",
              "    }\n",
              "</style>\n",
              "<table border=\"1\" class=\"dataframe\">\n",
              "  <thead>\n",
              "    <tr style=\"text-align: right;\">\n",
              "      <th></th>\n",
              "      <th>Actual</th>\n",
              "      <th>Predicted</th>\n",
              "    </tr>\n",
              "  </thead>\n",
              "  <tbody>\n",
              "    <tr>\n",
              "      <th>0</th>\n",
              "      <td>0</td>\n",
              "      <td>0</td>\n",
              "    </tr>\n",
              "    <tr>\n",
              "      <th>1</th>\n",
              "      <td>1</td>\n",
              "      <td>1</td>\n",
              "    </tr>\n",
              "    <tr>\n",
              "      <th>2</th>\n",
              "      <td>1</td>\n",
              "      <td>1</td>\n",
              "    </tr>\n",
              "    <tr>\n",
              "      <th>3</th>\n",
              "      <td>1</td>\n",
              "      <td>1</td>\n",
              "    </tr>\n",
              "    <tr>\n",
              "      <th>4</th>\n",
              "      <td>1</td>\n",
              "      <td>1</td>\n",
              "    </tr>\n",
              "  </tbody>\n",
              "</table>\n",
              "</div>"
            ],
            "text/plain": [
              "   Actual  Predicted\n",
              "0       0          0\n",
              "1       1          1\n",
              "2       1          1\n",
              "3       1          1\n",
              "4       1          1"
            ]
          },
          "metadata": {
            "tags": []
          },
          "execution_count": 154
        }
      ]
    },
    {
      "cell_type": "code",
      "metadata": {
        "id": "lKEQ15D62BgS",
        "outputId": "b8b012f5-5272-4985-b50f-1dfdc038a045",
        "colab": {
          "base_uri": "https://localhost:8080/",
          "height": 326
        }
      },
      "source": [
        "# Checking the important features from the model\n",
        "\n",
        "importances = list(tree.feature_importances_)\n",
        "\n",
        "# List of tuples with variable and importance\n",
        "feature_importances = [(feature, round(importance, 2)) for feature, importance in zip(my_cols, importances)]\n",
        "\n",
        "# Sorting the values in descending order.\n",
        "feature_importances = sorted(feature_importances, key = lambda x: x[1], reverse = True)\n",
        "\n",
        "# Print out the feature and importances \n",
        "[print('Variable: {:20} Importance: {}'.format(*pair)) for pair in feature_importances];"
      ],
      "execution_count": 155,
      "outputs": [
        {
          "output_type": "stream",
          "text": [
            "Variable: FTI                  Importance: 0.75\n",
            "Variable: TSH                  Importance: 0.17\n",
            "Variable: T4U                  Importance: 0.06\n",
            "Variable: query_hypothyroid    Importance: 0.02\n",
            "Variable: sex                  Importance: 0.0\n",
            "Variable: on_thyroxine         Importance: 0.0\n",
            "Variable: query_on_thyroxine   Importance: 0.0\n",
            "Variable: on_antithyroid_medication Importance: 0.0\n",
            "Variable: thyroid_surgery      Importance: 0.0\n",
            "Variable: query_hyperthyroid   Importance: 0.0\n",
            "Variable: pregnant             Importance: 0.0\n",
            "Variable: sick                 Importance: 0.0\n",
            "Variable: tumor                Importance: 0.0\n",
            "Variable: lithium              Importance: 0.0\n",
            "Variable: goitre               Importance: 0.0\n",
            "Variable: T3                   Importance: 0.0\n",
            "Variable: TT4                  Importance: 0.0\n"
          ],
          "name": "stdout"
        }
      ]
    },
    {
      "cell_type": "code",
      "metadata": {
        "id": "sD4zri9e2Bd3",
        "outputId": "41d98c51-9d59-4dbc-c5ee-797780efc4e5",
        "colab": {
          "base_uri": "https://localhost:8080/",
          "height": 470
        }
      },
      "source": [
        "# visualizing feature importance\n",
        "\n",
        "# list of x locations for plotting\n",
        "x_values = list(range(len(importances)))\n",
        "\n",
        "# Make a bar chart\n",
        "plt.bar(x_values, importances, orientation = 'vertical')\n",
        "\n",
        "# Tick labels for x axis\n",
        "plt.xticks(x_values, my_cols, rotation='vertical')\n",
        "\n",
        "# Axis labels and title\n",
        "plt.ylabel('Importance'); plt.xlabel('Variable'); plt.title('Variable Importances');"
      ],
      "execution_count": 156,
      "outputs": [
        {
          "output_type": "display_data",
          "data": {
            "image/png": "[encoded data removed]",
            "text/plain": [
              "<Figure size 432x288 with 1 Axes>"
            ]
          },
          "metadata": {
            "tags": []
          }
        }
      ]
    },
    {
      "cell_type": "markdown",
      "metadata": {
        "id": "fCoodANkxNZA"
      },
      "source": [
        "\n",
        "FTI, TSH, TT4, and T4U are mostly used to predict if a patient has a hypothyroid condition"
      ]
    },
    {
      "cell_type": "markdown",
      "metadata": {
        "id": "zqzAUaiGypMb"
      },
      "source": [
        "**ADA BOOST CLASSIFIER**"
      ]
    },
    {
      "cell_type": "code",
      "metadata": {
        "id": "bGMxwlhA2BWf"
      },
      "source": [
        "\n",
        "from sklearn.tree import DecisionTreeRegressor\n",
        "from sklearn.model_selection import train_test_split\n",
        "from sklearn.ensemble import AdaBoostRegressor\n",
        "from sklearn.ensemble import AdaBoostClassifier\n",
        "\n",
        "ada_boost = AdaBoostClassifier(DecisionTreeClassifier(max_depth=2),\n",
        "                          n_estimators=300, random_state=0)\n",
        "\n",
        "# fit the model\n",
        "ada_boost = ada_boost.fit(X_train, y_train)\n",
        "\n",
        "# make prediction\n",
        "y_pred_ada = ada_boost.predict(X_test)"
      ],
      "execution_count": 170,
      "outputs": []
    },
    {
      "cell_type": "code",
      "metadata": {
        "id": "zUayTBRf0dt0",
        "outputId": "1f4845b1-34b3-419f-c3e9-6179e2607e66",
        "colab": {
          "base_uri": "https://localhost:8080/",
          "height": 290
        }
      },
      "source": [
        "# check prediction data\n",
        "\n",
        "comparison_frame_ada = pd.DataFrame({'Actual': y_test.flatten(), 'Predicted': y_pred_ada.flatten()})\n",
        "print(comparison_frame_ada.sample(n=5))\n",
        "print(comparison_frame_ada.describe())"
      ],
      "execution_count": 171,
      "outputs": [
        {
          "output_type": "stream",
          "text": [
            "     Actual  Predicted\n",
            "76        1          1\n",
            "152       1          1\n",
            "132       0          0\n",
            "219       1          1\n",
            "71        0          0\n",
            "           Actual   Predicted\n",
            "count  390.000000  390.000000\n",
            "mean     0.928205    0.923077\n",
            "std      0.258480    0.266812\n",
            "min      0.000000    0.000000\n",
            "25%      1.000000    1.000000\n",
            "50%      1.000000    1.000000\n",
            "75%      1.000000    1.000000\n",
            "max      1.000000    1.000000\n"
          ],
          "name": "stdout"
        }
      ]
    },
    {
      "cell_type": "markdown",
      "metadata": {
        "id": "kmmRFNCkzPcD"
      },
      "source": [
        "-OUR prediction has a small margin difference with the actual, the model is doing good."
      ]
    },
    {
      "cell_type": "code",
      "metadata": {
        "id": "9BS0P1MwzWz0",
        "outputId": "c8bc67de-9925-4cab-9f1a-a0afcfba23f6",
        "colab": {
          "base_uri": "https://localhost:8080/",
          "height": 90
        }
      },
      "source": [
        "# Assesing the accuracy\n",
        "\n",
        "ada_boost = AdaBoostClassifier(DecisionTreeClassifier(max_depth=4),\n",
        "                          n_estimators=300, random_state=0)\n",
        "\n",
        "# fit the model\n",
        "ada_boost = ada_boost.fit(X_train, y_train)\n",
        "\n",
        "# make prediction\n",
        "y_pred_ada = ada_boost.predict(X_test)\n",
        "\n",
        "# Assessing new ada boost model accuracy\n",
        "\n",
        "print('Mean Absolute Error:', metrics.mean_absolute_error(y_test, y_pred_ada))  \n",
        "print('Mean Squared Error:', metrics.mean_squared_error(y_test, y_pred_ada))  \n",
        "print('Root Mean Squared Error:', np.sqrt(metrics.mean_squared_error(y_test, y_pred_ada)))\n",
        "print(\"Accuracy:\",metrics.accuracy_score(y_test, y_pred_ada))"
      ],
      "execution_count": 173,
      "outputs": [
        {
          "output_type": "stream",
          "text": [
            "Mean Absolute Error: 0.005128205128205128\n",
            "Mean Squared Error: 0.005128205128205128\n",
            "Root Mean Squared Error: 0.07161148740394328\n",
            "Accuracy: 0.9948717948717949\n"
          ],
          "name": "stdout"
        }
      ]
    },
    {
      "cell_type": "markdown",
      "metadata": {
        "id": "-EVPwqBb1IS-"
      },
      "source": [
        "Ada boost gives an improved accuracy score of 99%"
      ]
    },
    {
      "cell_type": "code",
      "metadata": {
        "id": "2e45W15y4XQf",
        "outputId": "71eb3553-0cdc-46af-97af-1ca299312e47",
        "colab": {
          "base_uri": "https://localhost:8080/",
          "height": 470
        }
      },
      "source": [
        "#feature importance in ada boosting\n",
        "\n",
        "x_values = list(range(len(importances)))\n",
        "plt.bar(x_values, importances, orientation = 'vertical')\n",
        "\n",
        "plt.xticks(x_values, my_cols, rotation='vertical')\n",
        "plt.ylabel('Importance'); plt.xlabel('Variable'); plt.title('Variable Importances');"
      ],
      "execution_count": 182,
      "outputs": [
        {
          "output_type": "display_data",
          "data": {
            "image/png": "[encoded data removed]",
            "text/plain": [
              "<Figure size 432x288 with 1 Axes>"
            ]
          },
          "metadata": {
            "tags": []
          }
        }
      ]
    },
    {
      "cell_type": "markdown",
      "metadata": {
        "id": "wvPh1xHuzHkA"
      },
      "source": [
        "**GRADIENT BOOSTING**"
      ]
    },
    {
      "cell_type": "code",
      "metadata": {
        "id": "TW8-FPb_2BDC"
      },
      "source": [
        "# lets first create the gradient boosting classifier\n",
        "target_number_of_trees = 200\n",
        "# train the model\n",
        "gradient = gradient.fit(X_train, y_train)\n",
        "\n",
        "# make prediction\n",
        "y_pred_gbr = gradient.predict(X_test)\n",
        "\n",
        " from sklearn.ensemble import GradientBoostingRegressor\n",
        "gradient = GradientBoostingRegressor(n_estimators=100, learning_rate=0.1, max_depth=2)\n",
        "# fitting to training data\n",
        "gradient = gradient.fit(X_train, y_train)\n",
        "# making predictions\n",
        "y_pred_gbr = gradient.predict(X_test)\n"
      ],
      "execution_count": 177,
      "outputs": []
    },
    {
      "cell_type": "code",
      "metadata": {
        "id": "Rn2N7zZm2A4o",
        "outputId": "af13bf74-a73e-4de8-8297-d2bea90c7735",
        "colab": {
          "base_uri": "https://localhost:8080/",
          "height": 288
        }
      },
      "source": [
        "# comparing actual values to predicted values\n",
        "gb_compare = pd.DataFrame({'Actual' : y_test.flatten(),\n",
        "                        'Predicted' : y_pred_gbr.flatten()})\n",
        "\n",
        "# previewing our summary statistics\n",
        "gb_compare.describe()"
      ],
      "execution_count": 179,
      "outputs": [
        {
          "output_type": "execute_result",
          "data": {
            "text/html": [
              "<div>\n",
              "<style scoped>\n",
              "    .dataframe tbody tr th:only-of-type {\n",
              "        vertical-align: middle;\n",
              "    }\n",
              "\n",
              "    .dataframe tbody tr th {\n",
              "        vertical-align: top;\n",
              "    }\n",
              "\n",
              "    .dataframe thead th {\n",
              "        text-align: right;\n",
              "    }\n",
              "</style>\n",
              "<table border=\"1\" class=\"dataframe\">\n",
              "  <thead>\n",
              "    <tr style=\"text-align: right;\">\n",
              "      <th></th>\n",
              "      <th>Actual</th>\n",
              "      <th>Predicted</th>\n",
              "    </tr>\n",
              "  </thead>\n",
              "  <tbody>\n",
              "    <tr>\n",
              "      <th>count</th>\n",
              "      <td>390.000000</td>\n",
              "      <td>390.000000</td>\n",
              "    </tr>\n",
              "    <tr>\n",
              "      <th>mean</th>\n",
              "      <td>0.928205</td>\n",
              "      <td>0.928573</td>\n",
              "    </tr>\n",
              "    <tr>\n",
              "      <th>std</th>\n",
              "      <td>0.258480</td>\n",
              "      <td>0.234288</td>\n",
              "    </tr>\n",
              "    <tr>\n",
              "      <th>min</th>\n",
              "      <td>0.000000</td>\n",
              "      <td>-0.237003</td>\n",
              "    </tr>\n",
              "    <tr>\n",
              "      <th>25%</th>\n",
              "      <td>1.000000</td>\n",
              "      <td>1.001104</td>\n",
              "    </tr>\n",
              "    <tr>\n",
              "      <th>50%</th>\n",
              "      <td>1.000000</td>\n",
              "      <td>1.001104</td>\n",
              "    </tr>\n",
              "    <tr>\n",
              "      <th>75%</th>\n",
              "      <td>1.000000</td>\n",
              "      <td>1.001104</td>\n",
              "    </tr>\n",
              "    <tr>\n",
              "      <th>max</th>\n",
              "      <td>1.000000</td>\n",
              "      <td>1.047921</td>\n",
              "    </tr>\n",
              "  </tbody>\n",
              "</table>\n",
              "</div>"
            ],
            "text/plain": [
              "           Actual   Predicted\n",
              "count  390.000000  390.000000\n",
              "mean     0.928205    0.928573\n",
              "std      0.258480    0.234288\n",
              "min      0.000000   -0.237003\n",
              "25%      1.000000    1.001104\n",
              "50%      1.000000    1.001104\n",
              "75%      1.000000    1.001104\n",
              "max      1.000000    1.047921"
            ]
          },
          "metadata": {
            "tags": []
          },
          "execution_count": 179
        }
      ]
    },
    {
      "cell_type": "markdown",
      "metadata": {
        "id": "63l0bv3G2vsL"
      },
      "source": [
        "-The count of actual and predicted is same i.e model is 100% accurate.the difference in actual and predicted values is smaller. our model is good.Next step is to try and adjust the hyperparameters and see if there might be any change in accuracy"
      ]
    },
    {
      "cell_type": "code",
      "metadata": {
        "id": "lZZ0FzmK2Ayg",
        "outputId": "41cdf07a-ff68-40b4-c049-bf98b3efd79b",
        "colab": {
          "base_uri": "https://localhost:8080/",
          "height": 90
        }
      },
      "source": [
        "# hyperparameter adjusting\n",
        "\n",
        "target_number_of_trees = 50\n",
        "gradient = GradientBoostingClassifier(n_estimators=target_number_of_trees, learning_rate=0.5, max_depth=4)\n",
        "gradient = gradient.fit(X_train, y_train)\n",
        "y_pred_gbr = gradient.predict(X_test)\n",
        "\n",
        "# Assessing new gradient boost model accuracy\n",
        "\n",
        "print('Mean Absolute Error:', metrics.mean_absolute_error(y_test, y_pred_gbr))  \n",
        "print('Mean Squared Error:', metrics.mean_squared_error(y_test, y_pred_gbr))  \n",
        "print('Root Mean Squared Error:', np.sqrt(metrics.mean_squared_error(y_test, y_pred_gbr)))\n",
        "print(\"Accuracy:\",metrics.accuracy_score(y_test, y_pred_gbr))"
      ],
      "execution_count": 180,
      "outputs": [
        {
          "output_type": "stream",
          "text": [
            "Mean Absolute Error: 0.002564102564102564\n",
            "Mean Squared Error: 0.002564102564102564\n",
            "Root Mean Squared Error: 0.05063696835418333\n",
            "Accuracy: 0.9974358974358974\n"
          ],
          "name": "stdout"
        }
      ]
    },
    {
      "cell_type": "code",
      "metadata": {
        "id": "FdpBKXB41_7h",
        "outputId": "6421eea5-bb4a-4f4d-9287-1aead7ca6d0c",
        "colab": {
          "base_uri": "https://localhost:8080/",
          "height": 470
        }
      },
      "source": [
        "# feature importance in gradient boost\n",
        "\n",
        "x_values = list(range(len(importances)))\n",
        "plt.bar(x_values, importances, orientation = 'vertical')\n",
        "plt.xticks(x_values, my_cols, rotation='vertical')\n",
        "\n",
        "plt.ylabel('Importance'); plt.xlabel('Variable'); plt.title('Variable Importances');"
      ],
      "execution_count": 181,
      "outputs": [
        {
          "output_type": "display_data",
          "data": {
            "image/png": "[encoded data removed]",
            "text/plain": [
              "<Figure size 432x288 with 1 Axes>"
            ]
          },
          "metadata": {
            "tags": []
          }
        }
      ]
    },
    {
      "cell_type": "code",
      "metadata": {
        "id": "yJtfmhzb4AOE"
      },
      "source": [
        "# comparing accuracy scores of all three models\n",
        "\n",
        "print(\"Random Forest Classifier Accuracy:\",metrics.accuracy_score(y_test, y_pred))\n",
        "print(\"Ada Boost Classifier Accuracy:\",metrics.accuracy_score(y_test, y_pred_ada))\n",
        "print(\"Gradient Boost Classifier Accuracy:\",metrics.accuracy_score(y_test, y_pred_gbr))"
      ],
      "execution_count": null,
      "outputs": []
    },
    {
      "cell_type": "markdown",
      "metadata": {
        "id": "Nr1oCKCY4oxf"
      },
      "source": [
        "**SUPPORT VECTOR MACHINES SVM**"
      ]
    },
    {
      "cell_type": "markdown",
      "metadata": {
        "id": "iKTtRqQD4yi8"
      },
      "source": [
        "**LINEAR KERNELS**"
      ]
    },
    {
      "cell_type": "code",
      "metadata": {
        "id": "Kr6Znq9_7IBk",
        "outputId": "615b0075-6b2d-4971-9f98-ad876be692e9",
        "colab": {
          "base_uri": "https://localhost:8080/",
          "height": 54
        }
      },
      "source": [
        "#splitting our dataset to dependent and independent variables\n",
        "X = df1[['TSH', 'FTI', 'T4U']].values\n",
        "y = df1['status'].values\n",
        "#checking the shape of our dataset\n",
        "print(X.shape)\n",
        "print(y.shape)"
      ],
      "execution_count": 187,
      "outputs": [
        {
          "output_type": "stream",
          "text": [
            "(1946, 3)\n",
            "(1946,)\n"
          ],
          "name": "stdout"
        }
      ]
    },
    {
      "cell_type": "code",
      "metadata": {
        "id": "MUJeOhVQ431D"
      },
      "source": [
        "# we now split our data to training and testing sets\n",
        "X_train, X_test, y_train, y_test = train_test_split(X, y, test_size = 0.2, random_state = 0)"
      ],
      "execution_count": 190,
      "outputs": []
    },
    {
      "cell_type": "code",
      "metadata": {
        "id": "a17QPQRx5Fl5"
      },
      "source": [
        "# we build our model\n",
        "#\n",
        "\n",
        "from sklearn.svm import SVC\n",
        "linear = SVC(kernel = 'linear')\n",
        "\n",
        "# fitting to training data to our testing set\n",
        "linear.fit(X_train, y_train)\n",
        "\n",
        "# making predictions using our model\n",
        "y_pred = linear.predict(X_test)"
      ],
      "execution_count": 191,
      "outputs": []
    },
    {
      "cell_type": "code",
      "metadata": {
        "id": "BBk76MqR5FiK",
        "outputId": "2dd83380-41e9-4f84-f765-44fa08f8fb02",
        "colab": {
          "base_uri": "https://localhost:8080/",
          "height": 35
        }
      },
      "source": [
        "#checking the accuracy of our data\n",
        "print(\"Linear kernel score:\", metrics.accuracy_score(y_test, y_pred))"
      ],
      "execution_count": 192,
      "outputs": [
        {
          "output_type": "stream",
          "text": [
            "Linear kernel score: 0.982051282051282\n"
          ],
          "name": "stdout"
        }
      ]
    },
    {
      "cell_type": "markdown",
      "metadata": {
        "id": "w7q37fDK8XMB"
      },
      "source": [
        "-our model has an accuracy of 98%, this is good"
      ]
    },
    {
      "cell_type": "markdown",
      "metadata": {
        "id": "7KmSH0KG8jSk"
      },
      "source": [
        "POLYNOMIAL KERNEL"
      ]
    },
    {
      "cell_type": "code",
      "metadata": {
        "id": "QSVFOtw98mS0",
        "outputId": "a563a15d-298e-46fa-8af6-86fa891de8fc",
        "colab": {
          "base_uri": "https://localhost:8080/",
          "height": 90
        }
      },
      "source": [
        "# Build the model AND train using the training set\n",
        "\n",
        "polyclassifier = SVC(kernel='poly',degree=3,gamma=2**-5)\n",
        "\n",
        "polyclassifier.fit(X_train, y_train)\n"
      ],
      "execution_count": 194,
      "outputs": [
        {
          "output_type": "execute_result",
          "data": {
            "text/plain": [
              "SVC(C=1.0, break_ties=False, cache_size=200, class_weight=None, coef0=0.0,\n",
              "    decision_function_shape='ovr', degree=3, gamma=0.03125, kernel='poly',\n",
              "    max_iter=-1, probability=False, random_state=None, shrinking=True,\n",
              "    tol=0.001, verbose=False)"
            ]
          },
          "metadata": {
            "tags": []
          },
          "execution_count": 194
        }
      ]
    },
    {
      "cell_type": "code",
      "metadata": {
        "id": "3VRUQNjh8mOm",
        "outputId": "245b3bae-9b66-4ef4-e12c-bf416a3b2baa",
        "colab": {
          "base_uri": "https://localhost:8080/",
          "height": 90
        }
      },
      "source": [
        "# making prediction\n",
        "y_pred_poly = polyclassifier.predict(X_test)\n",
        "\n",
        "# Model Evaluation\n",
        "\n",
        "print('Accuracy: ', accuracy_score(y_test, y_pred_poly))\n",
        "print('Mean Absolute Error:', metrics.mean_absolute_error(y_test, y_pred_poly))  \n",
        "print('Mean Squared Error:', metrics.mean_squared_error(y_test, y_pred_poly))  \n",
        "print('Root Mean Squared Error:', np.sqrt(metrics.mean_squared_error(y_test, y_pred_poly)))"
      ],
      "execution_count": 195,
      "outputs": [
        {
          "output_type": "stream",
          "text": [
            "Accuracy:  0.9846153846153847\n",
            "Mean Absolute Error: 0.015384615384615385\n",
            "Mean Squared Error: 0.015384615384615385\n",
            "Root Mean Squared Error: 0.12403473458920845\n"
          ],
          "name": "stdout"
        }
      ]
    },
    {
      "cell_type": "markdown",
      "metadata": {
        "id": "PxslsAeB9nQi"
      },
      "source": [
        "-the model is slightly accurate than the previous one from 98.2% to 98.4%"
      ]
    },
    {
      "cell_type": "markdown",
      "metadata": {
        "id": "ZoJfPq-g9Gvq"
      },
      "source": [
        "RADIAL BASIS FUNCTION"
      ]
    },
    {
      "cell_type": "code",
      "metadata": {
        "id": "Ajo7eHK79JqD",
        "outputId": "f767bc2a-0876-4247-b8c8-f554a7c8c238",
        "colab": {
          "base_uri": "https://localhost:8080/",
          "height": 90
        }
      },
      "source": [
        "# Building the model \n",
        "rbfclassifier = SVC(kernel='rbf')\n",
        "\n",
        "# Training the model using the training set\n",
        "rbfclassifier.fit(X_train, y_train)"
      ],
      "execution_count": 197,
      "outputs": [
        {
          "output_type": "execute_result",
          "data": {
            "text/plain": [
              "SVC(C=1.0, break_ties=False, cache_size=200, class_weight=None, coef0=0.0,\n",
              "    decision_function_shape='ovr', degree=3, gamma='scale', kernel='rbf',\n",
              "    max_iter=-1, probability=False, random_state=None, shrinking=True,\n",
              "    tol=0.001, verbose=False)"
            ]
          },
          "metadata": {
            "tags": []
          },
          "execution_count": 197
        }
      ]
    },
    {
      "cell_type": "code",
      "metadata": {
        "id": "v62OOBnB9NJw",
        "outputId": "d4f76a28-cedb-45ad-fe19-848d9c38e352",
        "colab": {
          "base_uri": "https://localhost:8080/",
          "height": 90
        }
      },
      "source": [
        "# making prediction\n",
        "y_pred_rbf = rbfclassifier.predict(X_test)\n",
        "\n",
        "# Model Evaluation\n",
        "print('Accuracy: ', accuracy_score(y_test, y_pred_rbf))\n",
        "print('Mean Absolute Error:', metrics.mean_absolute_error(y_test, y_pred_rbf))  \n",
        "print('Mean Squared Error:', metrics.mean_squared_error(y_test, y_pred_rbf))  \n",
        "print('Root Mean Squared Error:', np.sqrt(metrics.mean_squared_error(y_test, y_pred_rbf)))\n"
      ],
      "execution_count": 200,
      "outputs": [
        {
          "output_type": "stream",
          "text": [
            "Accuracy:  0.9846153846153847\n",
            "Mean Absolute Error: 0.015384615384615385\n",
            "Mean Squared Error: 0.015384615384615385\n",
            "Root Mean Squared Error: 0.12403473458920845\n"
          ],
          "name": "stdout"
        }
      ]
    },
    {
      "cell_type": "code",
      "metadata": {
        "id": "XhJC9g3k9NEV",
        "outputId": "95493bfd-0799-4819-84de-c6d07d50494e",
        "colab": {
          "base_uri": "https://localhost:8080/",
          "height": 235
        }
      },
      "source": [
        "# LETS IMPORT GRIDSEARCH TO USE HERE\n",
        "from sklearn.model_selection import GridSearchCV\n",
        "#define C and gamma range\n",
        "\n",
        "C_range=list(range(1,10))\n",
        "gamma_range = [0.0001, 0.001, 0.01, 1, 10]\n",
        "\n",
        "# fit the C and gamma range on parameter grid\n",
        "parameter_grid = dict(gamma=gamma_range, C=C_range)\n",
        "\n",
        "#  find the best parameters and best model score\n",
        "grid = GridSearchCV(SVC(kernel='rbf'), param_grid=parameter_grid, cv=5, n_jobs=-1, scoring='accuracy')\n",
        "\n",
        "# fit the grid model\n",
        "grid.fit(X, y)"
      ],
      "execution_count": 202,
      "outputs": [
        {
          "output_type": "execute_result",
          "data": {
            "text/plain": [
              "GridSearchCV(cv=5, error_score=nan,\n",
              "             estimator=SVC(C=1.0, break_ties=False, cache_size=200,\n",
              "                           class_weight=None, coef0=0.0,\n",
              "                           decision_function_shape='ovr', degree=3,\n",
              "                           gamma='scale', kernel='rbf', max_iter=-1,\n",
              "                           probability=False, random_state=None, shrinking=True,\n",
              "                           tol=0.001, verbose=False),\n",
              "             iid='deprecated', n_jobs=-1,\n",
              "             param_grid={'C': [1, 2, 3, 4, 5, 6, 7, 8, 9],\n",
              "                         'gamma': [0.0001, 0.001, 0.01, 1, 10]},\n",
              "             pre_dispatch='2*n_jobs', refit=True, return_train_score=False,\n",
              "             scoring='accuracy', verbose=0)"
            ]
          },
          "metadata": {
            "tags": []
          },
          "execution_count": 202
        }
      ]
    },
    {
      "cell_type": "code",
      "metadata": {
        "id": "Buq4c1r_Ln2b",
        "outputId": "7bc19641-0222-4587-83f8-93c36a9643fc",
        "colab": {
          "base_uri": "https://localhost:8080/",
          "height": 90
        }
      },
      "source": [
        "# fit model with above parameters\n",
        "\n",
        "rbfclassifier = SVC(kernel='rbf', C = 5, gamma = 0.001)\n",
        "\n",
        "rbfclassifier.fit(X_train, y_train)\n",
        "\n",
        "y_pred_rbf2 = rbfclassifier.predict(X_test)\n",
        "\n",
        "# Model Evaluation\n",
        "\n",
        "print('Mean Absolute Error:', metrics.mean_absolute_error(y_test, y_pred_rbf2))  \n",
        "print('Mean Squared Error:', metrics.mean_squared_error(y_test, y_pred_rbf2))  \n",
        "print('Root Mean Squared Error:', np.sqrt(metrics.mean_squared_error(y_test, y_pred_rbf2)))\n",
        "print('Accuracy Score :', accuracy_score(y_test,y_pred_rbf2))"
      ],
      "execution_count": 205,
      "outputs": [
        {
          "output_type": "stream",
          "text": [
            "Mean Absolute Error: 0.007692307692307693\n",
            "Mean Squared Error: 0.007692307692307693\n",
            "Root Mean Squared Error: 0.08770580193070292\n",
            "Accuracy Score : 0.9923076923076923\n"
          ],
          "name": "stdout"
        }
      ]
    },
    {
      "cell_type": "code",
      "metadata": {
        "id": "0-hrlUaZLny-"
      },
      "source": [
        "# now doing it with rbf kernel\n",
        "rbf = SVC(kernel = 'rbf', gamma = 'auto')\n",
        "\n",
        "# training the model\n",
        "rbf.fit(X_train, y_train)\n",
        "\n",
        "# making prediction\n",
        "y_pred = rbf.predict(X_test)"
      ],
      "execution_count": 206,
      "outputs": []
    },
    {
      "cell_type": "code",
      "metadata": {
        "id": "lAyl-6jfMMOK",
        "outputId": "13fb6a2c-9102-48a0-a68e-336e1082abea",
        "colab": {
          "base_uri": "https://localhost:8080/",
          "height": 35
        }
      },
      "source": [
        "print(\"rbf kernel score:\", metrics.accuracy_score(y_test, y_pred))"
      ],
      "execution_count": 207,
      "outputs": [
        {
          "output_type": "stream",
          "text": [
            "rbf kernel score: 0.9333333333333333\n"
          ],
          "name": "stdout"
        }
      ]
    },
    {
      "cell_type": "markdown",
      "metadata": {
        "id": "_eoSQeWwMUYL"
      },
      "source": [
        "our rbf kernel is 0.9805, this is a good accuracy.the rbf is has an acccuracy similsr to that of polynomial.. our model generally did gOOd."
      ]
    },
    {
      "cell_type": "markdown",
      "metadata": {
        "id": "0PNCAXgJMYqv"
      },
      "source": [
        "SIGMOID KERNEL"
      ]
    },
    {
      "cell_type": "code",
      "metadata": {
        "id": "HPML7Xz0MrLj"
      },
      "source": [
        "# finally doing it with the sigmoid kernel\n",
        "sig = SVC(kernel = 'sigmoid', gamma = 'auto')\n",
        "\n",
        "# training the model\n",
        "sig.fit(X_train, y_train)\n",
        "\n",
        "# making prediction\n",
        "sig_y_pred = sig.predict(X_test)"
      ],
      "execution_count": 208,
      "outputs": []
    },
    {
      "cell_type": "code",
      "metadata": {
        "id": "71rcwlHaMuVc",
        "outputId": "8da26468-12da-4f50-e623-c908a242f7f2",
        "colab": {
          "base_uri": "https://localhost:8080/",
          "height": 35
        }
      },
      "source": [
        "\n",
        "# checking the accuracy of our model\n",
        "print(\"Sigmoid kernel score:\", metrics.accuracy_score(y_test, sig_y_pred))"
      ],
      "execution_count": 209,
      "outputs": [
        {
          "output_type": "stream",
          "text": [
            "Sigmoid kernel score: 0.9153846153846154\n"
          ],
          "name": "stdout"
        }
      ]
    },
    {
      "cell_type": "markdown",
      "metadata": {
        "id": "mLpyd3lPMz-a"
      },
      "source": [
        "our sigmoid accuracy score is 0.92, this is the lowest compared to the other models above"
      ]
    },
    {
      "cell_type": "markdown",
      "metadata": {
        "id": "NLaH-rivNVSn"
      },
      "source": [
        "CHALLENGING SOLUTION"
      ]
    },
    {
      "cell_type": "markdown",
      "metadata": {
        "id": "A7yq7ru2Nazc"
      },
      "source": [
        "In conclusion, our models did well, our metric of success was met, the accuracy of each model was above 92%.\n",
        "\n",
        "the model would have done better if the dataset did not have so many missing values, the data too was biased, the ratio of male to female was not 50,50\n",
        "\n",
        "the people who tested positive for hypothyroidism was also too small,"
      ]
    }
  ]
}